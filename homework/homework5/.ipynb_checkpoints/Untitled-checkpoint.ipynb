{
 "cells": [
  {
   "cell_type": "code",
   "execution_count": 1,
   "metadata": {},
   "outputs": [],
   "source": [
    "%matplotlib inline\n",
    "\n",
    "import matplotlib.pyplot as plt\n",
    "from PIL import Image\n",
    "import os\n",
    "import glob\n",
    "import random"
   ]
  },
  {
   "cell_type": "markdown",
   "metadata": {},
   "source": [
    "# Q.1"
   ]
  },
  {
   "cell_type": "code",
   "execution_count": 58,
   "metadata": {},
   "outputs": [],
   "source": [
    "# train\n",
    "\n",
    "labels = ['blazer', 'cardigan', 'coat', 'jacket']\n",
    "train_num = {}\n",
    "total = 0\n",
    "\n",
    "for i in range(4):\n",
    "    basepath = os.path.join(\"photos/train\", labels[i], \"*.jpg\")\n",
    "    cand_fn = glob.glob(basepath)\n",
    "    n = 0\n",
    "    for afn in cand_fn:    \n",
    "        n += 1\n",
    "        total += 1\n",
    "    train_num[labels[i]] = n\n",
    "train_num['total'] = total"
   ]
  },
  {
   "cell_type": "code",
   "execution_count": 59,
   "metadata": {},
   "outputs": [],
   "source": [
    "# test\n",
    "\n",
    "test_num = {}\n",
    "total = 0\n",
    "\n",
    "for i in range(4):\n",
    "    basepath = os.path.join(\"photos/test\", labels[i], \"*.jpg\")\n",
    "    cand_fn = glob.glob(basepath)\n",
    "    n = 0\n",
    "    for afn in cand_fn:    \n",
    "        n += 1\n",
    "        total += 1\n",
    "    test_num[labels[i]] = n\n",
    "test_num['total'] = total"
   ]
  },
  {
   "cell_type": "code",
   "execution_count": 60,
   "metadata": {},
   "outputs": [],
   "source": [
    "# valid\n",
    "\n",
    "valid_num = {}\n",
    "total = 0\n",
    "\n",
    "for i in range(4):\n",
    "    basepath = os.path.join(\"photos/valid\", labels[i], \"*.jpg\")\n",
    "    cand_fn = glob.glob(basepath)\n",
    "    n = 0\n",
    "    for afn in cand_fn:    \n",
    "        n += 1\n",
    "        total += 1\n",
    "    valid_num[labels[i]] = n\n",
    "valid_num['total'] = total"
   ]
  },
  {
   "cell_type": "code",
   "execution_count": 63,
   "metadata": {},
   "outputs": [
    {
     "name": "stdout",
     "output_type": "stream",
     "text": [
      "Train:\n",
      "total photo number: 1041\n",
      "blazer :\n",
      "number = 97\n",
      "ratio =  0.09317963496637849\n",
      "cardigan :\n",
      "number = 237\n",
      "ratio =  0.2276657060518732\n",
      "coat :\n",
      "number = 296\n",
      "ratio =  0.28434197886647455\n",
      "jacket :\n",
      "number = 411\n",
      "ratio =  0.39481268011527376\n",
      "\n",
      "\n",
      "Test:\n",
      "total photo number: 146\n",
      "blazer :\n",
      "number = 9\n",
      "ratio =  0.06164383561643835\n",
      "cardigan :\n",
      "number = 42\n",
      "ratio =  0.2876712328767123\n",
      "coat :\n",
      "number = 43\n",
      "ratio =  0.2945205479452055\n",
      "jacket :\n",
      "number = 52\n",
      "ratio =  0.3561643835616438\n",
      "\n",
      "\n",
      "Valid:\n",
      "total photo number: 105\n",
      "blazer :\n",
      "number = 7\n",
      "ratio =  0.06666666666666667\n",
      "cardigan :\n",
      "number = 36\n",
      "ratio =  0.34285714285714286\n",
      "coat :\n",
      "number = 27\n",
      "ratio =  0.2571428571428571\n",
      "jacket :\n",
      "number = 35\n",
      "ratio =  0.3333333333333333\n"
     ]
    }
   ],
   "source": [
    "# 列出train, valid, test的總照片數，以及各類別的照片數與比率\n",
    "\n",
    "print('Train:')\n",
    "print('total photo number:', train_num['total'])\n",
    "for label in labels:\n",
    "    print(label, ':') \n",
    "    print('number =',train_num[label])\n",
    "    print('ratio = ',train_num[label]/train_num['total'])\n",
    "    \n",
    "print('\\n')\n",
    "\n",
    "print('Test:')\n",
    "print('total photo number:', test_num['total'])\n",
    "for label in labels:\n",
    "    print(label, ':') \n",
    "    print('number =',test_num[label])\n",
    "    print('ratio = ',test_num[label]/test_num['total'])\n",
    "    \n",
    "print('\\n')\n",
    "\n",
    "print('Valid:')\n",
    "print('total photo number:', valid_num['total'])\n",
    "for label in labels:\n",
    "    print(label, ':') \n",
    "    print('number =',valid_num[label])\n",
    "    print('ratio = ',valid_num[label]/valid_num['total'])"
   ]
  },
  {
   "cell_type": "markdown",
   "metadata": {},
   "source": [
    "根據train和valid的資料數量比較，推測準確率的大小應該為：jacket > coat > cardigan > blazer"
   ]
  },
  {
   "cell_type": "code",
   "execution_count": null,
   "metadata": {},
   "outputs": [],
   "source": []
  }
 ],
 "metadata": {
  "kernelspec": {
   "display_name": "Python 3",
   "language": "python",
   "name": "python3"
  },
  "language_info": {
   "codemirror_mode": {
    "name": "ipython",
    "version": 3
   },
   "file_extension": ".py",
   "mimetype": "text/x-python",
   "name": "python",
   "nbconvert_exporter": "python",
   "pygments_lexer": "ipython3",
   "version": "3.7.4"
  }
 },
 "nbformat": 4,
 "nbformat_minor": 2
}
