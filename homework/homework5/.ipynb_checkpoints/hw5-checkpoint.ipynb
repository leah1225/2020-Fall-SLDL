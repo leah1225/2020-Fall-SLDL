{
 "cells": [
  {
   "cell_type": "code",
   "execution_count": 2,
   "metadata": {
    "id": "znDw87yyAN90"
   },
   "outputs": [],
   "source": [
    "# load packages\n",
    "import torch\n",
    "import torchvision\n",
    "from torchvision import transforms, utils\n",
    "import numpy as np\n",
    "import pandas as pd"
   ]
  },
  {
   "cell_type": "code",
   "execution_count": 9,
   "metadata": {
    "id": "JEXbh9uSCZT3"
   },
   "outputs": [],
   "source": [
    "train = torchvision.datasets.ImageFolder('./photos/train',transform = transforms.Compose([transforms.Resize(256),\n",
    "                                                                                          transforms.CenterCrop(224),\n",
    "                                                                                          transforms.RandomHorizontalFlip(),\n",
    "                                                                                          transforms.RandomRotation(20),\n",
    "                                                                                          transforms.ToTensor(),\n",
    "                                                                                          transforms.Normalize(mean=[0.485, 0.456, 0.406], std=[0.229, 0.224, 0.225])]))"
   ]
  },
  {
   "cell_type": "code",
   "execution_count": 10,
   "metadata": {
    "id": "nQ5wN-D-C72Z"
   },
   "outputs": [],
   "source": [
    "test = torchvision.datasets.ImageFolder('./photos/test', transform = transforms.Compose([transforms.Resize(256),\n",
    "                                                                                         transforms.CenterCrop(224),\n",
    "                                                                                         transforms.ToTensor()]))"
   ]
  },
  {
   "cell_type": "code",
   "execution_count": 12,
   "metadata": {
    "id": "WNRLspa_D03V"
   },
   "outputs": [],
   "source": [
    "valid = torchvision.datasets.ImageFolder('./photos/valid', transform = transforms.Compose([transforms.Resize(256),\n",
    "                                                                                           transforms.CenterCrop(224),\n",
    "                                                                                           transforms.ToTensor()]))"
   ]
  },
  {
   "cell_type": "code",
   "execution_count": 13,
   "metadata": {
    "id": "hAn2n7TcD9ih"
   },
   "outputs": [],
   "source": [
    "trainloader = torch.utils.data.DataLoader(train, batch_size = 32, shuffle=True, num_workers=0)\n",
    "validloader = torch.utils.data.DataLoader(valid, batch_size = 32, shuffle=True, num_workers=0)\n",
    "testloader = torch.utils.data.DataLoader(test, batch_size = 1, shuffle=True, num_workers=0)"
   ]
  },
  {
   "cell_type": "markdown",
   "metadata": {},
   "source": [
    "# Early Stopping"
   ]
  },
  {
   "cell_type": "code",
   "execution_count": 23,
   "metadata": {},
   "outputs": [],
   "source": [
    "def valid(model, loss_fn = torch.nn.CrossEntropyLoss()):\n",
    "    \n",
    "    model.eval()\n",
    "    \n",
    "    sum_loss = 0\n",
    "    \n",
    "    with torch.no_grad():\n",
    "        for batch_idx, (inputs, targets) in enumerate(validloader):\n",
    "            inputs, targets = inputs.to(device), targets.to(device)\n",
    "            outputs = model(inputs)\n",
    "            loss = loss_fn(outputs, targets)\n",
    "            sum_loss += loss\n",
    "    \n",
    "    return sum_loss"
   ]
  },
  {
   "cell_type": "code",
   "execution_count": 24,
   "metadata": {},
   "outputs": [],
   "source": [
    "# 除了準確率還要補上Confusion Matrix, 與Per-class Accuracy\n",
    "def test(model, loss_fn = torch.nn.CrossEntropyLoss()):\n",
    "    \n",
    "    model.eval()\n",
    "    \n",
    "    correct = 0\n",
    "    total = 0\n",
    "\n",
    "    with torch.no_grad():\n",
    "        for batch_idx, (inputs, targets) in enumerate(testloader):\n",
    "            inputs, targets = inputs.to(device), targets.to(device)\n",
    "            outputs = model(inputs)\n",
    "            \n",
    "            # 取得分最高的那一類\n",
    "            _, predicted = torch.max(outputs.data, 1)\n",
    "            total += targets.size(0)\n",
    "            correct += (predicted == targets).sum()\n",
    "    \n",
    "    print('Accuracy of the network on the 146 test images: %d %%' % (100 * correct / total))"
   ]
  },
  {
   "cell_type": "code",
   "execution_count": 25,
   "metadata": {},
   "outputs": [],
   "source": [
    "def train(model, optimizer, loss_fn = torch.nn.CrossEntropyLoss()):\n",
    "    \n",
    "    nepoch = 200\n",
    "    patient = 20\n",
    "    \n",
    "    best_valid_loss = float(\"inf\")\n",
    "    best_state = dict()\n",
    "    step_count = 0\n",
    "    best_step_count = 0\n",
    "    stop_training = False\n",
    "    \n",
    "    for epoch_id in range(0, nepoch):\n",
    "        if stop_training:\n",
    "            break\n",
    "            \n",
    "        for batch_idx, (inputs, targets) in enumerate(trainloader):\n",
    "            model.train()\n",
    "            \n",
    "            step_count += 1\n",
    "            \n",
    "            inputs, targets = inputs.to(device), targets.to(device)\n",
    "            optimizer.zero_grad()\n",
    "            outputs = model(inputs)\n",
    "            \n",
    "            loss = loss_fn(outputs, targets)\n",
    "            loss.backward()\n",
    "            optimizer.step()\n",
    "            \n",
    "            # calculate valid loss\n",
    "            valid_loss = valid(model)\n",
    "            \n",
    "            if valid_loss < best_valid_loss:\n",
    "                best_valid_loss = valid_loss\n",
    "                best_step_count = step_count\n",
    "                best_state = {'model': model.state_dict(),\n",
    "                              'loss': valid_loss,\n",
    "                              'step_count': step_count,}\n",
    "            \n",
    "            if step_count > (best_step_count + patient):\n",
    "                    stop_training = True\n",
    "                    break\n",
    "    \n",
    "    model.load_state_dict(best_state['model'])\n",
    "    test(model)"
   ]
  },
  {
   "cell_type": "markdown",
   "metadata": {
    "id": "LTVJThA0Mygi"
   },
   "source": [
    "### Q2"
   ]
  },
  {
   "cell_type": "code",
   "execution_count": 21,
   "metadata": {
    "id": "9eEzLik5LAf8"
   },
   "outputs": [],
   "source": [
    "# 使用torchvision提供的pretrained weights 初始化模型權重\n",
    "model1 = torchvision.models.resnet50(pretrained=True)\n",
    "\n",
    "# 將最後一層的Fully Connected Layer輸出維度改成4\n",
    "fc_features = model1.fc.in_features\n",
    "model1.fc = torch.nn.Linear(fc_features, 4)"
   ]
  },
  {
   "cell_type": "code",
   "execution_count": 27,
   "metadata": {},
   "outputs": [],
   "source": [
    "optimizer = torch.optim.SGD(model1.parameters(), lr=0.00001, momentum=0, weight_decay = 0)"
   ]
  },
  {
   "cell_type": "code",
   "execution_count": null,
   "metadata": {},
   "outputs": [],
   "source": []
  }
 ],
 "metadata": {
  "accelerator": "GPU",
  "colab": {
   "collapsed_sections": [],
   "name": "hw5.ipynb",
   "provenance": []
  },
  "kernelspec": {
   "display_name": "Python 3",
   "language": "python",
   "name": "python3"
  },
  "language_info": {
   "codemirror_mode": {
    "name": "ipython",
    "version": 3
   },
   "file_extension": ".py",
   "mimetype": "text/x-python",
   "name": "python",
   "nbconvert_exporter": "python",
   "pygments_lexer": "ipython3",
   "version": "3.7.4"
  }
 },
 "nbformat": 4,
 "nbformat_minor": 1
}
