{
 "cells": [
  {
   "cell_type": "markdown",
   "metadata": {},
   "source": [
    "### 統計學習與深度學習\n",
    "### Homework 2\n",
    "\n",
    "\n",
    "請將IPYNB檔上傳至COOL作業區。回答作業時建議使用 \"三明治\" 答題法。也就是說，先說明要做什麼，然後列出程式碼與結果，最後說明這些結果的意義。作業自己做。嚴禁抄襲。不接受紙本繳交，不接受遲交。請以英文或中文作答。\n"
   ]
  },
  {
   "cell_type": "markdown",
   "metadata": {},
   "source": [
    "### 第一題 [Data Preprocessing]\n",
    "\n",
    "(10%) 資料前處理是一個重要的工作，本題將利用UCI的\"Adult\" dataset <https://archive.ics.uci.edu/ml/datasets/Adult>來練習資料前處理。我們使用這個資料集的方式是用來建構預測最後一個收入欄位是'>50K'或'<=50K'。這個資料集已經先切好了Training跟Test。我們將會沿用這個切割。\n",
    "\n",
    "資料前處理包含以下工作:\n",
    "* 生成以下numpy變數: x_train(訓練特徵)、y_train(訓練標籤)、x_test(測試特徵)、y_test(測試標籤)。用一個Dictionary組織將這些變數，其中Key為變數名稱，Value為之前生成的變數內容。\n",
    "* 最後一欄為標籤，將'>50K'與'<=50K'轉成1跟0。其他欄位為特徵。\n",
    "* 把所有含有缺值的Rows刪除。\n",
    "* 所有數值欄位標準化(均數為0，變異數為1)。測試資料特徵需用訓練資料的均數與變異數標準化。\n",
    "* 所有類別欄位(如native-country與workclass)都應使用\"1-of-K\"轉換成0與1的欄位。\n",
    "* 我們只考慮在訓練資料中出現超過(含)10次的特徵值。如果一個特徵值出現不到10次，則刪除這個特徵值所對應的1-of-K欄位。\n",
    "* 為了之後方便比較，請不要更動資料排列順序。\n",
    "* 你可以使用sklearn中的工具函數進行1-of-K encoding與變數標準化。\n",
    "\n",
    "變數的排列順序為: \n",
    "```\n",
    "'hours-per-week' 'capital-gain' 'age' 'educational-num' 'capital-loss'\n",
    " 'fnlwgt' 'race_Amer-Indian-Eskimo' 'race_Asian-Pac-Islander' 'race_Black'\n",
    " 'race_Other' 'race_White' 'education_10th' 'education_11th'\n",
    " 'education_12th' 'education_1st-4th' 'education_5th-6th'\n",
    " 'education_7th-8th' 'education_9th' 'education_Assoc-acdm'\n",
    " 'education_Assoc-voc' 'education_Bachelors' 'education_Doctorate'\n",
    " 'education_HS-grad' 'education_Masters' 'education_Preschool'\n",
    " 'education_Prof-school' 'education_Some-college' 'workclass_Federal-gov'\n",
    " 'workclass_Local-gov' 'workclass_Private' 'workclass_Self-emp-inc'\n",
    " 'workclass_Self-emp-not-inc' 'workclass_State-gov'\n",
    " 'workclass_Without-pay' 'native-country_Cambodia' 'native-country_Canada'\n",
    " 'native-country_China' 'native-country_Columbia' 'native-country_Cuba'\n",
    " 'native-country_Dominican-Republic' 'native-country_Ecuador'\n",
    " 'native-country_El-Salvador' 'native-country_England'\n",
    " 'native-country_France' 'native-country_Germany' 'native-country_Greece'\n",
    " 'native-country_Guatemala' 'native-country_Haiti'\n",
    " 'native-country_Honduras' 'native-country_Hong' 'native-country_Hungary'\n",
    " 'native-country_India' 'native-country_Iran' 'native-country_Ireland'\n",
    " 'native-country_Italy' 'native-country_Jamaica' 'native-country_Japan'\n",
    " 'native-country_Laos' 'native-country_Mexico' 'native-country_Nicaragua'\n",
    " 'native-country_Outlying-US(Guam-USVI-etc)' 'native-country_Peru'\n",
    " 'native-country_Philippines' 'native-country_Poland'\n",
    " 'native-country_Portugal' 'native-country_Puerto-Rico'\n",
    " 'native-country_Scotland' 'native-country_South' 'native-country_Taiwan'\n",
    " 'native-country_Thailand' 'native-country_Trinadad&Tobago'\n",
    " 'native-country_United-States' 'native-country_Vietnam'\n",
    " 'native-country_Yugoslavia' 'marital-status_Divorced'\n",
    " 'marital-status_Married-AF-spouse' 'marital-status_Married-civ-spouse'\n",
    " 'marital-status_Married-spouse-absent' 'marital-status_Never-married'\n",
    " 'marital-status_Separated' 'marital-status_Widowed'\n",
    " 'relationship_Husband' 'relationship_Not-in-family'\n",
    " 'relationship_Other-relative' 'relationship_Own-child'\n",
    " 'relationship_Unmarried' 'relationship_Wife' 'occupation_Adm-clerical'\n",
    " 'occupation_Craft-repair' 'occupation_Exec-managerial'\n",
    " 'occupation_Farming-fishing' 'occupation_Handlers-cleaners'\n",
    " 'occupation_Machine-op-inspct' 'occupation_Other-service'\n",
    " 'occupation_Priv-house-serv' 'occupation_Prof-specialty'\n",
    " 'occupation_Protective-serv' 'occupation_Sales' 'occupation_Tech-support'\n",
    " 'occupation_Transport-moving' 'gender_Female' 'gender_Male'\n",
    " ```\n",
    " \n"
   ]
  },
  {
   "cell_type": "markdown",
   "metadata": {},
   "source": [
    "前處理完成後，比較你生成的Dictionary與由**adult_m50k.pickle**讀入的資料比較，確定內容相同。假設你生成的Dictionary叫adult50k，下面的範例程式比較這個變數與由picke檔案讀入的adult50kp中四個主要變數是否相同:\n",
    "\n",
    "```python\n",
    "dsfile = 'adult_m50k.pickle'\n",
    "with open(dsfile, 'rb') as fh1:\n",
    "    adult50kp = pickle.load(fh1)\n",
    "    \n",
    "    \n",
    "elems = ['x_train', 'x_test', 'y_train', 'y_test']\n",
    "\n",
    "for aelem in elems:\n",
    "    cnomatch = np.sum(adult50kp[aelem] != adult50k[aelem])\n",
    "    if cnomatch == 0:\n",
    "        print(aelem, \"match!\")\n",
    "    else:\n",
    "        print(aelem, \"%d elements no match!\" % cnomatch)\n",
    "```"
   ]
  },
  {
   "cell_type": "markdown",
   "metadata": {},
   "source": [
    "### 第二題 [ROC and AUC]\n",
    "(35%) Receiver operation characteristic (ROC)曲線以及其線下面積 (Area Under Curve; AUC)為衡量分類器預測能力常用的工具。本題將練習繪製ROC以及計算AUC。\n",
    "在這之前我們必須載入資料，訓練模型，並進行預測:"
   ]
  },
  {
   "cell_type": "code",
   "execution_count": 1,
   "metadata": {},
   "outputs": [
    {
     "name": "stdout",
     "output_type": "stream",
     "text": [
      "Accuracy = 0.848406\n"
     ]
    }
   ],
   "source": [
    "import pickle\n",
    "from sklearn.linear_model import LogisticRegression\n",
    "import numpy as np\n",
    "import matplotlib.pyplot as plt\n",
    "%matplotlib inline\n",
    "\n",
    "# load dataset\n",
    "dsfile = 'adult_m50k.pickle'\n",
    "with open(dsfile, 'rb') as fh1:\n",
    "    adult50kp = pickle.load(fh1)\n",
    "    \n",
    "#train prediction model    \n",
    "c = 0.3\n",
    "lr2 = LogisticRegression(solver = 'lbfgs', C= c, max_iter = 1000)\n",
    "lr2.fit(adult50kp['x_train'], adult50kp['y_train'])\n",
    "#make prediction\n",
    "ypred = lr2.predict(adult50kp['x_test'])\n",
    "ypredprob = lr2.predict_proba(adult50kp['x_test'])\n",
    "#compute accuracy\n",
    "ncorrect = np.sum(adult50kp['y_test'] == ypred)\n",
    "accuracy_sk = ncorrect / adult50kp['y_test'].shape[0]\n",
    "print(\"Accuracy = %f\" % accuracy_sk)    "
   ]
  },
  {
   "cell_type": "markdown",
   "metadata": {},
   "source": [
    "#### 回答下面問題:\n",
    "\n",
    "* Q2.1 (17.5%): 基於`adult50kp['y_test']`與`ypredprob`繪製ROC Curve。\n",
    "* Q2.2 (17.5%): 計算繪製出的ROC Curve的AUC。\n",
    "\n",
    "規定與提示:\n",
    "* 禁用現成的ROC與AUC計算函數，如 `sklearn.metrics.roc_curve`與`sklearn.metrics.auc`。違者本題零分。\n",
    "* 計算AUC時可以利用相鄰的FP_Rate與其對應的TP_Rate所形成的梯形近似該小塊面積，然後加總所有梯形的面積即可得到AUC。梯形面積計算請參考下圖。\n",
    "\n",
    "![AUC Tip](tipsauc.png)"
   ]
  },
  {
   "cell_type": "markdown",
   "metadata": {},
   "source": [
    "### 第三題 [Logistic Regression with L2 Regularization]\n",
    "\n",
    "(55%) The Logistic regression with L2 regularization minimize the following error function:\n",
    "\n",
    "\n",
    "$\\frac{\\lambda}{2} w^T w - \\sum_{i=1}^n [ t_n \\ln y_n  + (1 - t_n) \\ln (1 - y_n)],$\n",
    "\n",
    "where $y_n = \\frac{1}{1 + exp({-w^Tx_n})}$ and $t_n \\in \\{0, 1\\}$ is the label value, $x_n$ is the feature vector, and $w$ is the regression coefficient vector. \n",
    "\n",
    "\n",
    "We are going to consider an extension of this model to allow different levels of regularization for different regression coefficients. Consider the constant term versus other features. The coefficient of the constant term is usually not regularized in logistic regression. It is because the constant term is related to the odds ratio when all features are zero, and regularizing this term will force the probability of the positive class given a zero feature vector to be 0.5, which may or may not be reasonable.  \n",
    "\n",
    "Another consideration is regarding the continuous-valued features and binary-valued features. We typically normalize continuous-valued features to have zero means and unit variances but keep binary-value features untouched. It makes sense to have a single regularization value for the continuous-valued features since all of them have been normalized. Similarly, if we do not have additional information, then all binary-valued features can have the same level of regularization. However, using the same regularization coefficient for the continuous-valued and binary-valued features may not be reasonable. That is, it is often beneficial to have a regularization coefficient for the continuous-valued features and another regularization coefficient for the binary-valued features. \n",
    "\n",
    "The above discussion suggests that a more sophisticated way to regularize a logistic regression is to have three regularization coefficients: 0 for the constant, $a_1$ for continuous-valued features, and $a_2$ for the binary-valued features. It is possible to further refine the regularization coefficients. However, hyper-parameter tuning associated with more regularization coefficients may be costly. \n",
    "\n",
    "To achieve this goal, we are going to consider a variation of L2-regularized logistic regression that allows different levels of regularization for each coefficient. In the following discussion, we are going to use $X$ to denote the feature matrix in the training data. The i-th row in $X$, $x_i$, is the feature vector for the i-th training data. The last column of $X$ is one unless we do not include the constant term. \n",
    "\n",
    "In this model, each regression coefficient may be associated with a different regularization coefficient. Bearing with the risk of ambigulity, we (again) use the scalar $\\lambda_i$ to denote the regularization coefficient for $w_i$.  The vector $w = [w_1, w_2, ..., w_D]^T$ is the  regression coefficient vector. Let $\\Lambda$ denote the diagonal matrix that have $\\lambda_i$ at $\\Lambda_{ii}$. Our new error function becomes: \n",
    "\n",
    "$E(w) = \\frac{1}{2} w^T \\Lambda w - \\sum_{i=1}^n [ t_n \\ln y_n  + (1 - t_n) \\ln (1 - y_n)],$\n",
    "\n",
    "where $y_n = \\frac{1}{1 + exp({-w^Tx_n})}$. "
   ]
  },
  {
   "cell_type": "markdown",
   "metadata": {},
   "source": [
    "This model allows $w_i$ to have regularization coefficient $\\lambda_i$. If the constant term is the last element in $w$, then setting $\\lambda_D$ to $0$ allows us to free the constant term from regularization. We can set $\\lambda_i$ associated with continuous-valued features to one value, and elements associated with binary-value features to another value. This will achieve our goal of a more refined regularization structure. \n",
    "\n",
    "Following the PRML textbook and the class discussion, we are going to train the model using the Newton-Raphson optimization method. In order to do so, you need to derive the gradient and hessian of $E(w)$. Given the training dataset, we can optimize $w$ via \n",
    "\n",
    "$w^{(new)} = w^{(old)} - H^{-1} \\nabla E$\n",
    "\n",
    "To do so, we need to have an initial vector of $w$ to kick start the iteration. One way to do this is to use the closed-form solution of ridge regression: $w = (X^T X + b I)^{-1} X^T t$, where $t$ is the vector of training labels. Set $b$ to the average of $\\lambda_i$. Another way is to change the original L2 regularization term in ridge regression to $\\frac{1}{2}w^T \\Lambda w$ and derive the new closed-form solution that matches our model. \n",
    "\n",
    "\n"
   ]
  },
  {
   "cell_type": "markdown",
   "metadata": {},
   "source": [
    "Create a Python class named mylogistic_l2 that performs model training and prediction. \n",
    "\n",
    "The sample usage should be like the following:\n",
    "```python\n",
    "logic1 = mylogistic_l2(reg_vec = lambda_vec, max_iter = 1000, tol = 1e-5, add_intercept = True)\n",
    "logic1.fit(X_train, Y_train)\n",
    "ypred = logic1.predict(X_test)\n",
    "```\n",
    "The first line is to create an object with the specified regularization coefficient vector, lambda_vec, and set the maximum number of iteration to 1000. The \"tol\" parameter sets the stopping condition for Newton-Raphson optimization. The iteration will stop if the improvement on the error function is less than $10^{-5}$. The \"add_intercept\" option says that we need to add a column of ones to the end of X_train before model training. The length of lambda_vec, as a result, should match the number of columns after adding the \"one column\" when this option is turned on. \n",
    "\n",
    "Use the following skeleton to create your mylogistic_l2 class:\n",
    "```python\n",
    "class mylogistic_l2():\n",
    "    def __init__(self, reg_vec, max_iter = 100, tol = 1e-5, add_intercept = True):\n",
    "        \"\"\"reg_vec: the regularization coefficient vector\n",
    "           max_iter: maximum number of iteration to run for the Newton method\n",
    "           tol: tolerance for the objective function\n",
    "           add_intercept: whether to add intercept (a column of ones) at last column of the feature matrix\"\"\"\n",
    "        ### Add your code here\n",
    "\n",
    "    def fit(self, x, y, verbal = False):\n",
    "        #Add your code here\n",
    "\n",
    "    def predict(self, x):\n",
    "        \"\"\"doing prediction\"\"\"\n",
    "        ### add your code here.     \n",
    "```\n",
    "\n",
    "\n",
    "\n",
    "To simplify the discussion, we use 0.5 as the threshold for the positive case when making predictions. That is, the output of the last line should be a numpy array of 0 and 1s."
   ]
  },
  {
   "cell_type": "markdown",
   "metadata": {},
   "source": [
    "#### Implementation Restrictions\n",
    "You are allowed to use the \"building block\" libraries including numpy and scipy in your own mylogistic_l2 class. You will receive a zero score if you adopted an existing logistic regression classifier in your answer. The input features and labels for the training method should be numpy arrays. The input features and output labels for the predict method should be numpy arrays. "
   ]
  },
  {
   "cell_type": "markdown",
   "metadata": {},
   "source": [
    "#### Dataset\n",
    "We are going to use to \"Adult\" dataset on the UCI machine learning reposition <https://archive.ics.uci.edu/ml/datasets/Adult>. Do not download the raw data from the website. Instead, load the processed data from **adult_m50k.pickle** using the following sample code: \n",
    "\n",
    "```python\n",
    "dsfile = 'adult_m50k.pickle'\n",
    "with open(dsfile, 'rb') as fh1:\n",
    "    adult50kp = pickle.load(fh1)\n",
    "```    \n",
    "    \n",
    "You can access the training and test data using the following keys: 'x_train', 'x_test', 'y_train', 'y_test'. In addition, the key 'columnname' map the a list of column names, and the key 'num_col' map to a list of numeric columns. \n"
   ]
  },
  {
   "cell_type": "markdown",
   "metadata": {},
   "source": [
    "Answer the following questions:\n",
    "\n",
    "* Q1.1 (15%) Derive the gradient and hessian matrix for the new E(w). \n",
    "* Q1.2 (25%) Create your mylogistic_l2 class. Train your model and show the learned $w$ as well as test accuracy for the cases below. If $w$ is too long for you, show selected $w$ for continuous-valued, binary-valued, and the constant term.  \n",
    "    * Case 1: lambda = 1 for all coefficients\n",
    "    * Case 2: lambda = 1 for all but the intercept, no regularization for intercept term.\n",
    "    * Case 3: lambda = 1 for numerical-valued features, lambda = 0.5 for binary-valued features, no regularization for intercept term.\n",
    "* Q1.3 (10%) Further split the training data into subtraining (90%) and tuning (10%) to search for the best hyperparameters. Set the regularization coefficient for the constant term to zero. Allow different regularizations for continuous-valued and binary-valued features. Let $a_1$ and $a_2$ denote the regularization coefficients for continuous-valued and binary-valued features. Search the best $a_1$ and $a_2$ and report the test accuracy using the best hyper-parameters. You should follow the following procedure to search for the best hyperparameters. \n",
    "    1. Choose a set of grids among a reasonable range. For example, 10 grids in [0.01, 100]. \n",
    "    2. Conduct grid search with the constraint that $a_1 = a_2$. Record the best value $a_1^*$ and $a_2^*$.\n",
    "    3. Fix $a_1 = a_1^*$, and search $a_2$ for the best value, call the result the new $a_2^*$. \n",
    "    4. Fix $a_2 = a_2^*$, and search $a_1$ for the best value.\n",
    "    5. Report the selected $a_1$ and $a_2$.\n",
    "    6. Train a model using the selected hyper-parameters, and report the test accuracy. \n",
    "  \n",
    "* Q1.4 (5%) Use sklearn.linear_model.LogisticRegression to train and test the model (including hyperparameter tuning). Compare the estimated parameters and test accuracy with those from your own models. "
   ]
  }
 ],
 "metadata": {
  "kernelspec": {
   "display_name": "Python 3",
   "language": "python",
   "name": "python3"
  },
  "language_info": {
   "codemirror_mode": {
    "name": "ipython",
    "version": 3
   },
   "file_extension": ".py",
   "mimetype": "text/x-python",
   "name": "python",
   "nbconvert_exporter": "python",
   "pygments_lexer": "ipython3",
   "version": "3.7.4"
  }
 },
 "nbformat": 4,
 "nbformat_minor": 4
}
