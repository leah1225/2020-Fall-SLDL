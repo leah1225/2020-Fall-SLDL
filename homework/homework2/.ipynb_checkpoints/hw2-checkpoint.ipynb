{
 "cells": [
  {
   "cell_type": "code",
   "execution_count": 1,
   "metadata": {},
   "outputs": [],
   "source": [
    "import pickle\n",
    "from sklearn.linear_model import LogisticRegression\n",
    "import pandas as pd\n",
    "import numpy as np\n",
    "import csv\n",
    "import matplotlib.pyplot as plt\n",
    "%matplotlib inline"
   ]
  },
  {
   "cell_type": "markdown",
   "metadata": {},
   "source": [
    "## 第一題 [Data Preprocessing]¶"
   ]
  },
  {
   "cell_type": "markdown",
   "metadata": {},
   "source": [
    "### 把所有有缺值的Rows刪除"
   ]
  },
  {
   "cell_type": "code",
   "execution_count": 715,
   "metadata": {
    "scrolled": false
   },
   "outputs": [],
   "source": [
    "#資料欄位名稱\n",
    "columns= ['age,', 'workclass,', 'fnlwgt,', 'education,', 'education-num,', 'marital-status,',\n",
    "          'occupation,','relationship,', 'race,', 'gender,', 'capital-gain,', 'capital-loss,',\n",
    "          'hours-per-week,', 'native-country,', 'label']\n",
    "\n",
    "#對train data\n",
    "dsfile = 'adult.data'\n",
    "data = open('data.csv', 'w')\n",
    "\n",
    "for col in columns:  #寫入column name\n",
    "    data.write(col)\n",
    "data.write('\\n')\n",
    "\n",
    "with open(dsfile, 'r') as f:\n",
    "    for line in f.readlines():\n",
    "        if '?' not in line:\n",
    "            data.write(line.replace(' ', ''))\n",
    "data.close()\n",
    "\n",
    "#對test data\n",
    "tsfile = 'adult.test'\n",
    "test = open('test.csv', 'w')\n",
    "\n",
    "for col in columns:  #寫入column name\n",
    "    test.write(col)\n",
    "test.write('\\n')\n",
    "\n",
    "with open(tsfile, 'r') as f:\n",
    "    f.readline()\n",
    "    for line in f.readlines():\n",
    "        if '?' not in line:\n",
    "            line = line.replace('.', '')\n",
    "            test.write(line.replace(' ', ''))\n",
    "test.close()"
   ]
  },
  {
   "cell_type": "markdown",
   "metadata": {},
   "source": [
    "### 讀取清理好的train和test data"
   ]
  },
  {
   "cell_type": "code",
   "execution_count": 716,
   "metadata": {},
   "outputs": [],
   "source": [
    "df = pd.read_csv('data.csv')\n",
    "tf = pd.read_csv('test.csv')"
   ]
  },
  {
   "cell_type": "markdown",
   "metadata": {},
   "source": [
    "### one-hot-encoding"
   ]
  },
  {
   "cell_type": "code",
   "execution_count": 717,
   "metadata": {},
   "outputs": [],
   "source": [
    "data_dum = pd.get_dummies(df)\n",
    "test_dum = pd.get_dummies(tf)"
   ]
  },
  {
   "cell_type": "markdown",
   "metadata": {},
   "source": [
    "### 取出標籤"
   ]
  },
  {
   "cell_type": "code",
   "execution_count": 718,
   "metadata": {},
   "outputs": [],
   "source": [
    "y_train = data_dum['label_>50K']\n",
    "y_test = test_dum['label_>50K']\n",
    "\n",
    "data_dum = data_dum.drop(columns=['label_<=50K', 'label_>50K'])\n",
    "test_dum = test_dum.drop(columns=['label_<=50K', 'label_>50K'])"
   ]
  },
  {
   "cell_type": "markdown",
   "metadata": {},
   "source": [
    "### 刪除出現不到10次的特徵值"
   ]
  },
  {
   "cell_type": "code",
   "execution_count": 719,
   "metadata": {},
   "outputs": [],
   "source": [
    "delet_dum = data_dum.columns[np.where(np.sum(data_dum, axis = 0)<10)]\n",
    "data_dum = data_dum.drop(columns = delet_dum)\n",
    "for d in delet_dum:\n",
    "    if d in test_dum.columns:\n",
    "        test_dum = test_dum.drop(columns = d)"
   ]
  },
  {
   "cell_type": "code",
   "execution_count": 720,
   "metadata": {},
   "outputs": [],
   "source": [
    "new_order = ['capital-loss', 'hours-per-week', 'capital-gain',\n",
    "       'education-num', 'age', 'fnlwgt', 'relationship_Husband',\n",
    "       'relationship_Not-in-family', 'relationship_Other-relative',\n",
    "       'relationship_Own-child', 'relationship_Unmarried',\n",
    "       'relationship_Wife', 'race_Amer-Indian-Eskimo',\n",
    "       'race_Asian-Pac-Islander', 'race_Black', 'race_Other',\n",
    "       'race_White', 'gender_Female', 'gender_Male',\n",
    "       'occupation_Adm-clerical', 'occupation_Craft-repair',\n",
    "       'occupation_Exec-managerial', 'occupation_Farming-fishing',\n",
    "       'occupation_Handlers-cleaners', 'occupation_Machine-op-inspct',\n",
    "       'occupation_Other-service', 'occupation_Priv-house-serv',\n",
    "       'occupation_Prof-specialty', 'occupation_Protective-serv',\n",
    "       'occupation_Sales', 'occupation_Tech-support',\n",
    "       'occupation_Transport-moving', 'education_10th', 'education_11th',\n",
    "       'education_12th', 'education_1st-4th', 'education_5th-6th',\n",
    "       'education_7th-8th', 'education_9th', 'education_Assoc-acdm',\n",
    "       'education_Assoc-voc', 'education_Bachelors',\n",
    "       'education_Doctorate', 'education_HS-grad', 'education_Masters',\n",
    "       'education_Preschool', 'education_Prof-school',\n",
    "       'education_Some-college', 'native-country_Cambodia',\n",
    "       'native-country_Canada', 'native-country_China',\n",
    "       'native-country_Columbia', 'native-country_Cuba',\n",
    "       'native-country_Dominican-Republic', 'native-country_Ecuador',\n",
    "       'native-country_El-Salvador', 'native-country_England',\n",
    "       'native-country_France', 'native-country_Germany',\n",
    "       'native-country_Greece', 'native-country_Guatemala',\n",
    "       'native-country_Haiti', 'native-country_Honduras',\n",
    "       'native-country_Hong', 'native-country_Hungary',\n",
    "       'native-country_India', 'native-country_Iran',\n",
    "       'native-country_Ireland', 'native-country_Italy',\n",
    "       'native-country_Jamaica', 'native-country_Japan',\n",
    "       'native-country_Laos', 'native-country_Mexico',\n",
    "       'native-country_Nicaragua',\n",
    "       'native-country_Outlying-US(Guam-USVI-etc)', 'native-country_Peru',\n",
    "       'native-country_Philippines', 'native-country_Poland',\n",
    "       'native-country_Portugal', 'native-country_Puerto-Rico',\n",
    "       'native-country_Scotland', 'native-country_South',\n",
    "       'native-country_Taiwan', 'native-country_Thailand',\n",
    "       'native-country_Trinadad&Tobago', 'native-country_United-States',\n",
    "       'native-country_Vietnam', 'native-country_Yugoslavia',\n",
    "       'workclass_Federal-gov', 'workclass_Local-gov',\n",
    "       'workclass_Private', 'workclass_Self-emp-inc',\n",
    "       'workclass_Self-emp-not-inc', 'workclass_State-gov',\n",
    "       'workclass_Without-pay', 'marital-status_Divorced',\n",
    "       'marital-status_Married-AF-spouse',\n",
    "       'marital-status_Married-civ-spouse',\n",
    "       'marital-status_Married-spouse-absent',\n",
    "       'marital-status_Never-married', 'marital-status_Separated',\n",
    "       'marital-status_Widowed']"
   ]
  },
  {
   "cell_type": "markdown",
   "metadata": {},
   "source": [
    "### 根據題目給的順序重新排序"
   ]
  },
  {
   "cell_type": "code",
   "execution_count": 721,
   "metadata": {},
   "outputs": [],
   "source": [
    "data_dum = data_dum.reindex(columns=new_order)\n",
    "test_dum = test_dum.reindex(columns=new_order)"
   ]
  },
  {
   "cell_type": "markdown",
   "metadata": {},
   "source": [
    "### 標準化連續變數"
   ]
  },
  {
   "cell_type": "code",
   "execution_count": 722,
   "metadata": {},
   "outputs": [],
   "source": [
    "for col in data_dum.columns[0:6]:\n",
    "    mean = np.mean(data_dum[col])\n",
    "    std = np.std(data_dum[col])\n",
    "    data_dum[col] = (data_dum[col]-mean)/std\n",
    "    test_dum[col] = (test_dum[col]-mean)/std"
   ]
  },
  {
   "cell_type": "markdown",
   "metadata": {},
   "source": [
    "### 寫入dictionary和adult_m50k.pickle比較"
   ]
  },
  {
   "cell_type": "code",
   "execution_count": 723,
   "metadata": {},
   "outputs": [
    {
     "name": "stdout",
     "output_type": "stream",
     "text": [
      "x_train match!\n",
      "x_test match!\n",
      "y_train match!\n",
      "y_test match!\n"
     ]
    }
   ],
   "source": [
    "#放入dictionary\n",
    "\n",
    "adult50k = {}\n",
    "adult50k['x_train'] = data_dum.to_numpy()\n",
    "adult50k['y_train'] = np.array(y_train)\n",
    "adult50k['x_test'] = test_dum.to_numpy()\n",
    "adult50k['y_test'] = np.array(y_test)\n",
    "\n",
    "#比較生成的Dictionary與由adult_m50k.pickle讀入的資料\n",
    "\n",
    "dsfile = 'adult_m50k.pickle'\n",
    "with open(dsfile, 'rb') as fh1:\n",
    "    adult50kp = pickle.load(fh1)\n",
    "\n",
    "elems = ['x_train', 'x_test', 'y_train', 'y_test']\n",
    "\n",
    "for aelem in elems:\n",
    "    cnomatch = np.sum(adult50kp[aelem] != adult50k[aelem])\n",
    "    if cnomatch == 0:\n",
    "        print(aelem, \"match!\")\n",
    "    else:\n",
    "        print(aelem, \"%d elements no match!\" % cnomatch)"
   ]
  },
  {
   "cell_type": "markdown",
   "metadata": {},
   "source": [
    "## 第二題 [ROC and AUC]"
   ]
  },
  {
   "cell_type": "code",
   "execution_count": 16,
   "metadata": {},
   "outputs": [
    {
     "name": "stdout",
     "output_type": "stream",
     "text": [
      "Accuracy = 0.848406\n"
     ]
    }
   ],
   "source": [
    "# load dataset\n",
    "dsfile = 'adult_m50k.pickle'\n",
    "with open(dsfile, 'rb') as fh1:\n",
    "    adult50kp = pickle.load(fh1)\n",
    "    \n",
    "#train prediction model    \n",
    "c = 0.3\n",
    "lr2 = LogisticRegression(solver = 'lbfgs', C= c, max_iter = 1000)\n",
    "lr2.fit(adult50kp['x_train'], adult50kp['y_train'])\n",
    "#make prediction\n",
    "ypred = lr2.predict(adult50kp['x_test'])\n",
    "ypredprob = lr2.predict_proba(adult50kp['x_test'])\n",
    "#compute accuracy\n",
    "ncorrect = np.sum(adult50kp['y_test'] == ypred)\n",
    "accuracy_sk = ncorrect / adult50kp['y_test'].shape[0]\n",
    "print(\"Accuracy = %f\" % accuracy_sk)    "
   ]
  },
  {
   "cell_type": "markdown",
   "metadata": {},
   "source": [
    "### 將Predicted Probability和Actual Class整理成對照表"
   ]
  },
  {
   "cell_type": "code",
   "execution_count": 151,
   "metadata": {},
   "outputs": [],
   "source": [
    "table = []\n",
    "for i in range(ypred.shape[0]):\n",
    "    table.append([ypredprob[i][1],adult50kp['y_test'][i]])\n",
    "\n",
    "#sort predprob by descending order\n",
    "table.sort(reverse = True)\n",
    "table = np.array(table)"
   ]
  },
  {
   "cell_type": "markdown",
   "metadata": {},
   "source": [
    "### 計算TP/FP Rate"
   ]
  },
  {
   "cell_type": "code",
   "execution_count": 175,
   "metadata": {},
   "outputs": [],
   "source": [
    "P = np.sum(adult50kp['y_test']==1)\n",
    "N = np.sum(adult50kp['y_test']==0)\n",
    "TPr = []\n",
    "FPr = []\n",
    "for i in range(len(table)):\n",
    "    threshold = table[i][0]\n",
    "    TP = np.sum((table[:,[0]] >= threshold)&(table[:,[1]]==1))\n",
    "    FP = np.sum((table[:,[0]] >= threshold)&(table[:,[1]]==0))\n",
    "    TPr.append(TP/P)\n",
    "    FPr.append(FP/N)"
   ]
  },
  {
   "cell_type": "markdown",
   "metadata": {},
   "source": [
    "### Q2.1 繪製ROC Curve"
   ]
  },
  {
   "cell_type": "code",
   "execution_count": 176,
   "metadata": {},
   "outputs": [
    {
     "data": {
      "image/png": "[encoded data removed]",
      "text/plain": [
       "<Figure size 432x288 with 1 Axes>"
      ]
     },
     "metadata": {
      "needs_background": "light"
     },
     "output_type": "display_data"
    }
   ],
   "source": [
    "plt.plot(FPr,TPr)\n",
    "\n",
    "#設定x軸y軸最大最小值\n",
    "plt.xlim(0,1)\n",
    "plt.ylim(0,1)\n",
    "\n",
    "#設定x軸y軸標題名稱\n",
    "plt.xlabel(\"FP Rate\")\n",
    "plt.ylabel(\"TP Rate\")\n",
    "plt.title(\"ROC Curve\")\n",
    "plt.show()"
   ]
  },
  {
   "cell_type": "markdown",
   "metadata": {},
   "source": [
    "### Q2.2 計算繪製出的ROC Curve的AUC"
   ]
  },
  {
   "cell_type": "code",
   "execution_count": 230,
   "metadata": {},
   "outputs": [
    {
     "name": "stdout",
     "output_type": "stream",
     "text": [
      "AUC: 0.9034897578035781\n"
     ]
    }
   ],
   "source": [
    "#使用梯形面積公式計算AUC\n",
    "\n",
    "TP_up = np.array(TPr[:15059].copy()) #上底\n",
    "TP_down = np.array(TPr[1:].copy()) #下底\n",
    "\n",
    "FP_up = np.array(FPr[1:].copy())\n",
    "FP_down = np.array(FPr[:15059].copy())\n",
    "height = FP_up-FP_down\n",
    "\n",
    "area = np.sum(0.5*(TP_up + TP_down)*height)\n",
    "print('AUC:',area)"
   ]
  },
  {
   "cell_type": "markdown",
   "metadata": {},
   "source": [
    "## 第三題 [Logistic Regression with L2 Regularization]"
   ]
  },
  {
   "cell_type": "markdown",
   "metadata": {},
   "source": [
    "### Q3.1 Derive the gradient and hessian matrix for the new E(w)."
   ]
  },
  {
   "cell_type": "markdown",
   "metadata": {},
   "source": [
    "The gradient is $\\nabla{E(w)} = \\Lambda w + x^T(y - t)$"
   ]
  },
  {
   "cell_type": "markdown",
   "metadata": {},
   "source": [
    "The hessian matrix is $\\nabla\\nabla{E(w)} = x^TRx+ \\Lambda, R = y(1-y) $"
   ]
  },
  {
   "cell_type": "markdown",
   "metadata": {},
   "source": [
    "### Q3.2 Create your mylogistic_l2 class."
   ]
  },
  {
   "cell_type": "code",
   "execution_count": 20,
   "metadata": {},
   "outputs": [],
   "source": [
    "class mylogistic_l2():\n",
    "    def __init__(self, reg_vec, max_iter = 100, tol = 1e-5, add_intercept = True):\n",
    "        self.reg_vec = reg_vec\n",
    "        self.max_iter = max_iter\n",
    "        self.tol = tol\n",
    "        self.add_intercept = add_intercept\n",
    "        \n",
    "    def gradient(self, x, y):\n",
    "        alpha = np.dot(x, self.w)\n",
    "        y_n = 1/(1+np.exp(-alpha))\n",
    "        gradient = np.dot(x.T, (y_n-y)) + np.dot(self.reg_vec, self.w)\n",
    "        return gradient\n",
    "    \n",
    "    def hessian(self, x, y):\n",
    "        alpha = np.dot(x, self.w)\n",
    "        y_n = 1/(1+np.exp(-alpha))\n",
    "        R = np.diag(y_n * (1 - y_n))\n",
    "        hessian = np.dot(np.dot(x.T, R), x) + self.reg_vec\n",
    "        return hessian\n",
    "\n",
    "    def fit(self, x, y, verbal = False):\n",
    "        \n",
    "        if self.add_intercept:\n",
    "            \n",
    "            #add a column of ones to the end of X_train\n",
    "            add_col = np.ones((x.shape[0], 1))\n",
    "            x = np.concatenate([x, add_col], axis=1)\n",
    "            \n",
    "        #initialize w\n",
    "        b = np.mean(np.diag(self.reg_vec))   \n",
    "        a = (np.dot(x.T,x)+b*(np.eye(x.shape[1]))) \n",
    "        a_inv = np.linalg.inv(a)\n",
    "        self.w = np.dot(a_inv, np.dot(x.T, y))\n",
    "        \n",
    "        #start iteration\n",
    "        for i in range(self.max_iter):\n",
    "            \n",
    "            #original error\n",
    "            alpha = np.dot(x, self.w)\n",
    "            y_n = 1/(1+np.exp(-alpha))\n",
    "            err = np.sum(y*np.log(y_n) + (1 - y)*np.log(1-y_n))\n",
    "            err_old = 0.5*np.dot(np.dot(self.w.T, self.reg_vec), self.w) - err\n",
    "            \n",
    "            #new w\n",
    "            g = self.gradient(x, y)\n",
    "            h = self.hessian(x, y)\n",
    "            self.w = self.w - np.dot(np.linalg.inv(h), g)\n",
    "            \n",
    "            #new error\n",
    "            alpha = np.dot(x, self.w)\n",
    "            y_n = 1/(1+np.exp(-alpha))\n",
    "            err = np.sum(y*np.log(y_n) + (1 - y)*np.log(1-y_n))\n",
    "            err_new = 0.5*np.dot(np.dot(self.w.T, self.reg_vec), self.w) - err\n",
    "            \n",
    "            improve = abs(err_old - err_new)\n",
    "            if improve < self.tol:\n",
    "                break\n",
    "        \n",
    "    def predict(self, x):\n",
    "        pred = np.dot(x, self.w.T)\n",
    "        pred = np.where(pred >= 0.5, 1, 0)\n",
    "        return pred"
   ]
  },
  {
   "cell_type": "markdown",
   "metadata": {},
   "source": [
    "### Read file"
   ]
  },
  {
   "cell_type": "code",
   "execution_count": 21,
   "metadata": {},
   "outputs": [],
   "source": [
    "dsfile = 'adult_m50k.pickle'\n",
    "with open(dsfile, 'rb') as fh1:\n",
    "    adult50kp = pickle.load(fh1)\n",
    "x_train = adult50kp['x_train']\n",
    "y_train = adult50kp['y_train']\n",
    "x_test = adult50kp['x_test']\n",
    "y_test = adult50kp['y_test']"
   ]
  },
  {
   "cell_type": "markdown",
   "metadata": {},
   "source": [
    "### Case 1: lambda = 1 for all coefficients."
   ]
  },
  {
   "cell_type": "code",
   "execution_count": 22,
   "metadata": {},
   "outputs": [],
   "source": [
    "#initialize lambda vector\n",
    "lambda_vec = np.eye(x_train.shape[1])\n",
    "\n",
    "#adding a column of 0s to lambda vector\n",
    "new_col = np.zeros((lambda_vec.shape[0], 1))\n",
    "lambda_vec = np.concatenate([lambda_vec, new_col], axis=1) \n",
    "\n",
    "#adding a row to lambda vector\n",
    "new_row = np.zeros((1, lambda_vec.shape[1]))\n",
    "new_row[0][new_row.shape[1]-1] = 1\n",
    "lambda_vec = np.concatenate([lambda_vec, new_row], axis=0)\n",
    "\n",
    "logic1 = mylogistic_l2(reg_vec = lambda_vec, max_iter = 100, tol = 1e-5, add_intercept = True)\n",
    "logic1.fit(x_train, y_train)"
   ]
  },
  {
   "cell_type": "markdown",
   "metadata": {},
   "source": [
    "#### show the learned  𝑤 "
   ]
  },
  {
   "cell_type": "code",
   "execution_count": 85,
   "metadata": {},
   "outputs": [
    {
     "name": "stdout",
     "output_type": "stream",
     "text": [
      "[ 2.58310749e-01  3.52951378e-01  2.33390152e+00  7.51145211e-01\n",
      "  3.33524430e-01  7.92368680e-02 -2.59305992e-01 -3.31059192e-02\n",
      " -8.02092312e-01 -1.16328375e+00 -1.57480268e-01  1.06974336e+00\n",
      " -6.33846058e-01  1.16732409e-01 -2.31567381e-01 -5.17122207e-01\n",
      " -7.97216465e-02 -1.09949780e+00 -2.46027086e-01  6.19694928e-02\n",
      "  1.26685884e-01  8.62656059e-01 -9.18352843e-01 -6.21226177e-01\n",
      " -2.00740224e-01 -7.51600981e-01 -1.61011588e+00  5.75820911e-01\n",
      "  6.48995283e-01  3.53741434e-01  7.17218474e-01 -2.84494743e-02\n",
      " -9.54820746e-04 -1.96540899e-01 -1.46351640e-01  6.26946275e-01\n",
      "  4.48207080e-01  2.45945819e-02  4.69223657e-02 -4.91067746e-01\n",
      " -2.03035424e-01 -1.63303680e-01 -1.76623501e-02 -1.11328323e-01\n",
      " -9.94618240e-02 -1.17391916e+00  1.80702678e-01 -6.92720004e-02\n",
      "  9.76496905e-01  4.60988601e-01 -4.95440416e-01 -1.27203531e+00\n",
      "  4.86772406e-01 -8.98963733e-01 -6.00542591e-02 -3.50848853e-01\n",
      "  4.32815220e-01  5.94120150e-01  5.82151924e-01 -6.20962283e-01\n",
      " -5.97480378e-02  9.29035250e-02 -1.51892101e-01 -5.38528893e-03\n",
      "  3.41609087e-02 -2.89088236e-01  1.56053911e-01  4.95401243e-01\n",
      "  8.90942264e-01  1.49151436e-01  3.42484779e-01 -3.13312160e-01\n",
      " -3.55939108e-01 -3.62494608e-01 -6.67247475e-01 -4.08831130e-01\n",
      "  4.47489832e-01  1.37768931e-01  1.41351233e-01 -1.16015421e-01\n",
      " -5.61032710e-02 -9.34583042e-01 -2.92596523e-02 -2.99012958e-01\n",
      " -1.50511251e-01  3.52331870e-01 -7.85846536e-01  5.80200207e-01\n",
      "  4.97042311e-01 -1.90320740e-01 -3.47717245e-04  1.74993805e-01\n",
      " -4.88202695e-01 -3.12259616e-01 -1.02643023e+00 -7.22310834e-01\n",
      "  1.44672469e+00  1.15520745e+00 -6.80202902e-01 -1.21195630e+00\n",
      " -7.98338505e-01 -5.34648484e-01 -1.34552489e+00]\n"
     ]
    }
   ],
   "source": [
    "print(logic1.w)"
   ]
  },
  {
   "cell_type": "code",
   "execution_count": 30,
   "metadata": {},
   "outputs": [],
   "source": [
    "#adding a column of 1s to testing data\n",
    "new_col = np.ones((x_test.shape[0], 1))\n",
    "x_test_with_intercp = np.concatenate([x_test.copy(), new_col], axis=1)"
   ]
  },
  {
   "cell_type": "markdown",
   "metadata": {},
   "source": [
    "#### Test Accuracy"
   ]
  },
  {
   "cell_type": "code",
   "execution_count": 87,
   "metadata": {},
   "outputs": [
    {
     "name": "stdout",
     "output_type": "stream",
     "text": [
      "Accuracy:  0.8414342629482072\n"
     ]
    }
   ],
   "source": [
    "ypred = logic1.predict(x_test_with_intercp)\n",
    "accu = np.sum(ypred == y_test)/y_test.shape[0]\n",
    "print('Accuracy: ', accu)"
   ]
  },
  {
   "cell_type": "markdown",
   "metadata": {},
   "source": [
    "### Case 2: lambda = 1 for all but the intercept, no regularization for intercept term."
   ]
  },
  {
   "cell_type": "code",
   "execution_count": 90,
   "metadata": {},
   "outputs": [],
   "source": [
    "#initialize lambda vector\n",
    "lambda_vec = np.eye(x_train.shape[1])\n",
    "\n",
    "#adding a column of 0s to lambda vector\n",
    "new_col = np.zeros((lambda_vec.shape[0], 1))\n",
    "lambda_vec = np.concatenate([lambda_vec, new_col], axis=1) \n",
    "\n",
    "#adding a row to lambda vector\n",
    "new_row = np.zeros((1, lambda_vec.shape[1]))\n",
    "lambda_vec = np.concatenate([lambda_vec, new_row], axis=0)\n",
    "\n",
    "logic2 = mylogistic_l2(reg_vec = lambda_vec, max_iter = 100, tol = 1e-5, add_intercept = True)\n",
    "logic2.fit(x_train, y_train)"
   ]
  },
  {
   "cell_type": "markdown",
   "metadata": {},
   "source": [
    "#### show the learned  𝑤 "
   ]
  },
  {
   "cell_type": "code",
   "execution_count": 91,
   "metadata": {},
   "outputs": [
    {
     "name": "stdout",
     "output_type": "stream",
     "text": [
      "[ 0.25833063  0.35307341  2.33348255  0.7378757   0.33385106  0.07926886\n",
      " -0.04219572  0.1998764  -0.58360968 -0.93671312  0.07548468  1.28715744\n",
      " -0.37140327  0.39422898  0.04305748 -0.26147348  0.19559029 -0.42695771\n",
      "  0.42695771  0.16424528  0.22840772  0.96472553 -0.81743779 -0.52074423\n",
      " -0.09910239 -0.64944042 -1.55235098  0.6786798   0.75066429  0.45541098\n",
      "  0.81857112  0.07308911  0.0728464  -0.11752644 -0.06282948  0.67242506\n",
      "  0.5040869   0.08799091  0.11435013 -0.38483984 -0.10196309 -0.05145374\n",
      "  0.10741777 -0.01997934  0.01717544 -1.16567808  0.30082277  0.02715464\n",
      "  1.00831207  0.50210397 -0.45756662 -1.24002555  0.52780939 -0.86832688\n",
      " -0.02771494 -0.31412701  0.47343435  0.62981111  0.62405658 -0.5867506\n",
      " -0.0296708   0.12414401 -0.14376238  0.02434194  0.0621604  -0.24843986\n",
      "  0.19459429  0.52620501  0.93165615  0.18707696  0.37950109 -0.28749402\n",
      " -0.31137357 -0.33290534 -0.65117786 -0.38160106  0.48879121  0.17662205\n",
      "  0.17410342 -0.07343502 -0.0314651  -0.89846776  0.00653561 -0.27232555\n",
      " -0.12442075  0.39697177 -0.75318727  0.61067658  0.70544004  0.01789988\n",
      "  0.2090388   0.382747   -0.2795817  -0.10453082 -0.9310132  -0.52642474\n",
      "  1.61398954  1.36735898 -0.49235221 -1.01493649 -0.60567591 -0.34195917\n",
      " -3.17508577]\n"
     ]
    }
   ],
   "source": [
    "print(logic2.w)"
   ]
  },
  {
   "cell_type": "markdown",
   "metadata": {},
   "source": [
    "#### Test Accuracy"
   ]
  },
  {
   "cell_type": "code",
   "execution_count": 92,
   "metadata": {},
   "outputs": [
    {
     "name": "stdout",
     "output_type": "stream",
     "text": [
      "Accuracy:  0.8411686586985392\n"
     ]
    }
   ],
   "source": [
    "ypred = logic2.predict(x_test_with_intercp)\n",
    "accu = np.sum(ypred == y_test)/y_test.shape[0]\n",
    "print('Accuracy: ', accu)"
   ]
  },
  {
   "cell_type": "markdown",
   "metadata": {},
   "source": [
    "### Case 3: lambda = 1 for numerical-valued features, lambda = 0.5 for binary-valued features, no regularization for intercept term."
   ]
  },
  {
   "cell_type": "code",
   "execution_count": 93,
   "metadata": {},
   "outputs": [],
   "source": [
    "#initialize lambda vector\n",
    "lambda_vec = np.eye(x_train.shape[1])\n",
    "for i in range(lambda_vec.shape[0]):\n",
    "    if i > 5:\n",
    "        lambda_vec[i][i] = 0.5\n",
    "\n",
    "#adding a column of 0s to lambda vector\n",
    "new_col = np.zeros((lambda_vec.shape[0], 1))\n",
    "lambda_vec = np.concatenate([lambda_vec, new_col], axis=1) \n",
    "\n",
    "#adding a row to lambda vector\n",
    "new_row = np.zeros((1, lambda_vec.shape[1]))\n",
    "lambda_vec = np.concatenate([lambda_vec, new_row], axis=0)\n",
    "\n",
    "logic3 = mylogistic_l2(reg_vec = lambda_vec, max_iter = 100, tol = 1e-5, add_intercept = True)\n",
    "logic3.fit(x_train, y_train)"
   ]
  },
  {
   "cell_type": "markdown",
   "metadata": {},
   "source": [
    "#### show the learned  𝑤 "
   ]
  },
  {
   "cell_type": "code",
   "execution_count": 94,
   "metadata": {},
   "outputs": [
    {
     "name": "stdout",
     "output_type": "stream",
     "text": [
      "[ 0.25851661  0.3533387   2.33562764  0.7825921   0.33439916  0.07940036\n",
      " -0.08347988  0.23309134 -0.59278098 -0.9224849   0.11139573  1.25425869\n",
      " -0.38299462  0.41291781  0.04136013 -0.26411462  0.19283128 -0.42890321\n",
      "  0.42890321  0.23635122  0.30021361  1.03810521 -0.75216086 -0.4534137\n",
      " -0.02691157 -0.5825269  -2.00075382  0.75127891  0.82696617  0.52830705\n",
      "  0.89488994  0.14510375  0.18253094 -0.02583999  0.00991404  0.89862004\n",
      "  0.68517002  0.23294385  0.24519931 -0.38363083 -0.08029608 -0.06493444\n",
      "  0.0453608   0.03743376 -0.01295908 -2.09374319  0.25763304  0.06659781\n",
      "  1.18748312  0.55059265 -0.47576613 -1.45842154  0.5822242  -1.0627833\n",
      " -0.00957211 -0.31704572  0.52485137  0.73044517  0.67457228 -0.63624179\n",
      " -0.00967268  0.17339113 -0.2364757   0.0375474   0.10120874 -0.24679341\n",
      "  0.23800627  0.64228457  1.00567032  0.23258941  0.42267607 -0.35336167\n",
      " -0.29178766 -0.38125401 -0.96291964 -0.45007954  0.512985    0.22019382\n",
      "  0.22640627 -0.04989103 -0.01836864 -0.95953334  0.01656804 -0.32741555\n",
      " -0.14011404  0.42856024 -0.84476926  0.75121645  0.76670733  0.07638783\n",
      "  0.26824615  0.44314098 -0.2205815  -0.04631789 -1.28758289 -0.57187068\n",
      "  1.82502287  1.39622511 -0.54691696 -1.05894077 -0.65551468 -0.38800489\n",
      " -3.36269033]\n"
     ]
    }
   ],
   "source": [
    "print(logic3.w)"
   ]
  },
  {
   "cell_type": "markdown",
   "metadata": {},
   "source": [
    "#### Test Accuracy"
   ]
  },
  {
   "cell_type": "code",
   "execution_count": 95,
   "metadata": {},
   "outputs": [
    {
     "name": "stdout",
     "output_type": "stream",
     "text": [
      "Accuracy:  0.8413678618857902\n"
     ]
    }
   ],
   "source": [
    "ypred = logic3.predict(x_test_with_intercp)\n",
    "accu = np.sum(ypred == y_test)/y_test.shape[0]\n",
    "print('Accuracy: ', accu)"
   ]
  },
  {
   "cell_type": "markdown",
   "metadata": {},
   "source": [
    "### Q3.3 Parameter Tuning"
   ]
  },
  {
   "cell_type": "markdown",
   "metadata": {},
   "source": [
    "### Spliting"
   ]
  },
  {
   "cell_type": "code",
   "execution_count": 34,
   "metadata": {},
   "outputs": [],
   "source": [
    "from sklearn.model_selection import train_test_split\n",
    "x_subtrain, x_tune, y_subtrain, y_tune = train_test_split(x_train, y_train, test_size = 0.1)\n",
    "\n",
    "#adding intercrpt\n",
    "new_col = np.ones((x_tune.shape[0], 1))\n",
    "x_tune = np.concatenate([x_tune, new_col], axis=1)"
   ]
  },
  {
   "cell_type": "markdown",
   "metadata": {},
   "source": [
    "### Grids"
   ]
  },
  {
   "cell_type": "code",
   "execution_count": 24,
   "metadata": {},
   "outputs": [
    {
     "data": {
      "text/plain": [
       "array([0.13362726, 0.11644891, 0.99743395, 0.1912213 , 0.92171088])"
      ]
     },
     "execution_count": 24,
     "metadata": {},
     "output_type": "execute_result"
    }
   ],
   "source": [
    "gridset = np.random.rand(5)\n",
    "gridset"
   ]
  },
  {
   "cell_type": "markdown",
   "metadata": {},
   "source": [
    "### Conduct grid search with the constraint that  𝑎1=𝑎2. Record the best value  𝑎∗1  and  𝑎∗2"
   ]
  },
  {
   "cell_type": "code",
   "execution_count": 25,
   "metadata": {},
   "outputs": [
    {
     "name": "stdout",
     "output_type": "stream",
     "text": [
      "a1 = a2 = 0.1336272619630453\n",
      "a1 = a2 = 0.11644890863104884\n",
      "a1 = a2 = 0.9974339501357573\n",
      "a1 = a2 = 0.19122130453668085\n",
      "a1 = a2 = 0.9217108765806664\n",
      "Optimal lambda for continuous-valued = 0.1336272619630453\n",
      "Optimal lambda for binary-valued = 0.1336272619630453\n"
     ]
    }
   ],
   "source": [
    "opt_a1 = None\n",
    "opt_a2 = None\n",
    "opt_accuracy = 0\n",
    "for i in gridset:\n",
    "    logic = mylogistic_l2(reg_vec = np.diag([i]*6 + [i]*96 + [0]), max_iter = 100, tol = 1e-5, add_intercept = True)\n",
    "    print(\"a1 = a2 =\", i)\n",
    "    logic.fit(x_subtrain, y_subtrain)\n",
    "    ypred = logic.predict(x_tune)\n",
    "    accu = np.sum(ypred == y_tune)/y_tune.shape[0]\n",
    "    if accu > opt_accuracy:\n",
    "        opt_accuracy = accu\n",
    "        opt_a1 = i\n",
    "        opt_a2 = i\n",
    "print(\"Optimal lambda for continuous-valued =\", opt_a1)\n",
    "print(\"Optimal lambda for binary-valued =\", opt_a2)"
   ]
  },
  {
   "cell_type": "markdown",
   "metadata": {},
   "source": [
    "### Fix  𝑎1=𝑎∗1 , and search  𝑎2  for the best value, call the result the new  𝑎∗2 "
   ]
  },
  {
   "cell_type": "code",
   "execution_count": 26,
   "metadata": {},
   "outputs": [
    {
     "name": "stdout",
     "output_type": "stream",
     "text": [
      "a2 = 0.1336272619630453\n",
      "a2 = 0.11644890863104884\n",
      "a2 = 0.9974339501357573\n",
      "a2 = 0.19122130453668085\n",
      "a2 = 0.9217108765806664\n",
      "Optimal lambda for continuous-valued = 0.1336272619630453\n",
      "Optimal lambda for binary-valued = 0.1336272619630453\n"
     ]
    }
   ],
   "source": [
    "opt_a2 = None\n",
    "opt_accuracy = 0\n",
    "for i in gridset:\n",
    "    logic = mylogistic_l2(reg_vec = np.diag([opt_a1]*6 + [i]*96 + [0]), max_iter = 100, tol = 1e-5, add_intercept = True)\n",
    "    print(\"a2 =\", i)\n",
    "    logic.fit(x_subtrain, y_subtrain)\n",
    "    ypred = logic.predict(x_tune)\n",
    "    accu = np.sum(ypred == y_tune)/y_tune.shape[0]\n",
    "    if accu > opt_accuracy:\n",
    "        opt_accuracy = accu\n",
    "        opt_a2 = i\n",
    "print(\"Optimal lambda for continuous-valued =\", opt_a1)\n",
    "print(\"Optimal lambda for binary-valued =\", opt_a2)"
   ]
  },
  {
   "cell_type": "markdown",
   "metadata": {},
   "source": [
    "### Fix  𝑎2=𝑎∗2 , and search  𝑎1  for the best value"
   ]
  },
  {
   "cell_type": "code",
   "execution_count": 27,
   "metadata": {},
   "outputs": [
    {
     "name": "stdout",
     "output_type": "stream",
     "text": [
      "a1 = 0.1336272619630453\n",
      "a1 = 0.11644890863104884\n",
      "a1 = 0.9974339501357573\n",
      "a1 = 0.19122130453668085\n",
      "a1 = 0.9217108765806664\n",
      "Optimal lambda for continuous-valued = 0.9974339501357573\n",
      "Optimal lambda for binary-valued = 0.1336272619630453\n"
     ]
    }
   ],
   "source": [
    "opt_a1 = None\n",
    "opt_accuracy = 0\n",
    "for i in gridset:\n",
    "    logic = mylogistic_l2(reg_vec = np.diag([i]*6 + [opt_a2]*96 + [0]), max_iter = 100, tol = 1e-5, add_intercept = True)\n",
    "    print(\"a1 =\", i)\n",
    "    logic.fit(x_subtrain, y_subtrain)\n",
    "    ypred = logic.predict(x_tune)\n",
    "    accu = np.sum(ypred == y_tune)/y_tune.shape[0]\n",
    "    if accu > opt_accuracy:\n",
    "        opt_accuracy = accu\n",
    "        opt_a1 = i\n",
    "print(\"Optimal lambda for continuous-valued =\", opt_a1)\n",
    "print(\"Optimal lambda for binary-valued =\", opt_a2)"
   ]
  },
  {
   "cell_type": "markdown",
   "metadata": {},
   "source": [
    "### Report the selected  𝑎1  and  𝑎2 ."
   ]
  },
  {
   "cell_type": "code",
   "execution_count": 28,
   "metadata": {},
   "outputs": [
    {
     "name": "stdout",
     "output_type": "stream",
     "text": [
      "Optimal lambda for continuous-valued = 0.9974339501357573\n",
      "Optimal lambda for binary-valued = 0.1336272619630453\n"
     ]
    }
   ],
   "source": [
    "print(\"Optimal lambda for continuous-valued =\", opt_a1)\n",
    "print(\"Optimal lambda for binary-valued =\", opt_a2)"
   ]
  },
  {
   "cell_type": "markdown",
   "metadata": {},
   "source": [
    "### Train a model using the selected hyper-parameters, and report the test accuracy."
   ]
  },
  {
   "cell_type": "code",
   "execution_count": 31,
   "metadata": {},
   "outputs": [
    {
     "name": "stdout",
     "output_type": "stream",
     "text": [
      "Accuracy:  0.8413014608233732\n"
     ]
    }
   ],
   "source": [
    "logic = mylogistic_l2(reg_vec = np.diag([opt_a1]*6 + [opt_a2]*96 + [0]), max_iter = 100, tol = 1e-5, add_intercept = True)\n",
    "logic.fit(x_train, y_train)\n",
    "ypred = logic.predict(x_test_with_intercp)\n",
    "accu = np.sum(ypred == y_test)/y_test.shape[0]\n",
    "print('Accuracy: ', accu)"
   ]
  },
  {
   "cell_type": "code",
   "execution_count": 43,
   "metadata": {},
   "outputs": [
    {
     "name": "stdout",
     "output_type": "stream",
     "text": [
      "[ 0.25880729  0.35347585  2.34798977  0.88473866  0.33486562  0.07944389\n",
      " -0.13190281  0.26632723 -0.58817073 -0.90727567  0.14753355  1.21348842\n",
      " -0.39228439  0.42773828  0.04010673 -0.26659723  0.19103661 -0.43070293\n",
      "  0.43070293  0.43662975  0.50008915  1.23988025 -0.55272272 -0.25683841\n",
      "  0.17331522 -0.38662173 -2.75211393  0.95219392  1.03100486  0.72949181\n",
      "  1.09885274  0.34562143  0.50240004  0.25300316  0.24946691  1.42481491\n",
      "  1.14225498  0.63334254  0.60951915 -0.30746183  0.03804537 -0.02638559\n",
      " -0.03324436  0.23669137 -0.01393067 -5.15478797  0.22081875  0.22545324\n",
      "  1.37547852  0.61391287 -0.46773047 -1.6951188   0.65041938 -1.30850283\n",
      "  0.03184167 -0.29723628  0.5908336   0.84501503  0.73933769 -0.65972532\n",
      "  0.03507726  0.24703125 -0.48049351  0.07461208  0.16689015 -0.22258827\n",
      "  0.30041675  0.77752663  1.08903371  0.29707793  0.48301124 -0.40750506\n",
      " -0.24119787 -0.41361164 -1.71668528 -0.50667759  0.55537427  0.28128652\n",
      "  0.29938076 -0.00591688  0.02089332 -0.9873749   0.04979057 -0.36579239\n",
      " -0.13523672  0.4773811  -0.91200595  0.91579086  0.89846728  0.20492844\n",
      "  0.39733422  0.57322987 -0.09236599  0.08230345 -2.06389728 -0.61712487\n",
      "  2.0259807   1.43287583 -0.60073511 -1.10300778 -0.7045399  -0.43344887\n",
      " -3.88294286]\n"
     ]
    }
   ],
   "source": [
    "print(logic.w)"
   ]
  },
  {
   "cell_type": "code",
   "execution_count": 32,
   "metadata": {},
   "outputs": [
    {
     "name": "stdout",
     "output_type": "stream",
     "text": [
      "Precision: 0.47864864864864864 recall: 0.7934587813620072\n"
     ]
    },
    {
     "data": {
      "text/plain": [
       "array([[10899,  1929],\n",
       "       [  461,  1771]])"
      ]
     },
     "execution_count": 32,
     "metadata": {},
     "output_type": "execute_result"
    }
   ],
   "source": [
    "from sklearn.metrics import confusion_matrix, precision_score, recall_score\n",
    "print(\"Precision:\", precision_score(ypred, y_test), \"recall:\", recall_score(ypred, y_test))\n",
    "confusion_matrix(ypred, y_test)"
   ]
  },
  {
   "cell_type": "markdown",
   "metadata": {},
   "source": [
    "### Q3.4 Use sklearn.linear_model.LogisticRegression to train and test the model (including hyperparameter tuning)."
   ]
  },
  {
   "cell_type": "code",
   "execution_count": 35,
   "metadata": {},
   "outputs": [],
   "source": [
    "from sklearn.linear_model import LogisticRegression\n",
    "from sklearn.metrics import accuracy_score"
   ]
  },
  {
   "cell_type": "code",
   "execution_count": 47,
   "metadata": {},
   "outputs": [
    {
     "name": "stdout",
     "output_type": "stream",
     "text": [
      "0.9217108765806664\n"
     ]
    }
   ],
   "source": [
    "opt_c = None\n",
    "opt_accuracy = 0\n",
    "for i in gridset:\n",
    "    LR = LogisticRegression(penalty = \"l2\", tol = 1e-5, C = i, max_iter = 1000, fit_intercept = True )\n",
    "    LR.fit(x_subtrain, y_subtrain)\n",
    "    ypred = LR.predict(x_tune)\n",
    "    acc = accuracy_score(y_tune, ypred)\n",
    "    if acc > opt_accuracy:\n",
    "        opt_c = i\n",
    "print(opt_c)"
   ]
  },
  {
   "cell_type": "code",
   "execution_count": 48,
   "metadata": {},
   "outputs": [
    {
     "name": "stdout",
     "output_type": "stream",
     "text": [
      "Accuracy:  0.8413014608233732\n"
     ]
    }
   ],
   "source": [
    "LR = LogisticRegression(penalty = \"l2\", tol = 1e-5, C = opt_c, max_iter = 1000, fit_intercept = True )\n",
    "LR.fit(x_train, y_train)\n",
    "ypred = LR.predict(x_test)\n",
    "acc = accuracy_score(y_test, ypred)\n",
    "print('Accuracy: ', accu)"
   ]
  },
  {
   "cell_type": "code",
   "execution_count": 50,
   "metadata": {},
   "outputs": [
    {
     "name": "stdout",
     "output_type": "stream",
     "text": [
      "[[ 0.25828456  0.35301932  2.33203401  0.73328968  0.33377775  0.07923262\n",
      "  -0.03589625  0.19530229 -0.58045692 -0.93827702  0.07032446  1.2920917\n",
      "  -0.36903526  0.39166526  0.0439339  -0.26008953  0.19661389 -0.42508258\n",
      "   0.42817084  0.15845781  0.22251602  0.95867487 -0.82205164 -0.52538937\n",
      "  -0.10470656 -0.65469216 -1.5004167   0.67272478  0.7440533   0.44946406\n",
      "   0.81208938  0.06723744  0.06364468 -0.12477356 -0.06769687  0.65110372\n",
      "   0.48693405  0.07550876  0.10318655 -0.38290335 -0.10219957 -0.04810166\n",
      "   0.11544973 -0.02395705  0.02217618 -1.09713934  0.30682867  0.02502733\n",
      "   0.98499855  0.49468144 -0.45354364 -1.21277821  0.51983186 -0.84607083\n",
      "  -0.02972627 -0.31379969  0.46637942  0.61510957  0.61689157 -0.57863328\n",
      "  -0.03188859  0.11861458 -0.13597049  0.02286738  0.05757763 -0.24800648\n",
      "   0.19012406  0.51210953  0.91889244  0.1821726   0.3730415  -0.27871947\n",
      "  -0.31336439 -0.32696154 -0.61188872 -0.3730093   0.48662555  0.17224495\n",
      "   0.16800242 -0.07498203 -0.03289698 -0.88867818  0.00554168 -0.26501134\n",
      "  -0.12195854  0.39299506 -0.73779405  0.59411554  0.69776819  0.0106558\n",
      "   0.20163806  0.37517635 -0.28690731 -0.11173641 -0.88350642 -0.51889408\n",
      "   1.58195885  1.36394639 -0.48409862 -1.00763082 -0.59775834 -0.33443513]]\n"
     ]
    }
   ],
   "source": [
    "print(LR.coef_)"
   ]
  },
  {
   "cell_type": "code",
   "execution_count": 40,
   "metadata": {},
   "outputs": [
    {
     "name": "stdout",
     "output_type": "stream",
     "text": [
      "Precision: 0.6035135135135136 recall: 0.7299771167048055\n"
     ]
    },
    {
     "data": {
      "text/plain": [
       "array([[10534,  1467],\n",
       "       [  826,  2233]])"
      ]
     },
     "execution_count": 40,
     "metadata": {},
     "output_type": "execute_result"
    }
   ],
   "source": [
    "print(\"Precision:\", precision_score(ypred, y_test), \"recall:\", recall_score(ypred, y_test))\n",
    "confusion_matrix(ypred, y_test)"
   ]
  },
  {
   "cell_type": "markdown",
   "metadata": {},
   "source": [
    "### Compare the estimated parameters and test accuracy with those from your own models."
   ]
  },
  {
   "cell_type": "markdown",
   "metadata": {},
   "source": [
    "- 使用sklearn的logistic regression所訓練的模型準確率相同，都是84.13％"
   ]
  },
  {
   "cell_type": "markdown",
   "metadata": {},
   "source": [
    "- 從precision和recall來看，sklearn的logistic regression所訓練出來的模型在precision比自己手刻的好；但是在recall的部分是手刻的表現較好"
   ]
  },
  {
   "cell_type": "markdown",
   "metadata": {},
   "source": [
    "- 從estimated parameters來看，兩個模型在連續變數的參數值很接近，在類別變的參數差異較大"
   ]
  },
  {
   "cell_type": "code",
   "execution_count": null,
   "metadata": {},
   "outputs": [],
   "source": []
  }
 ],
 "metadata": {
  "kernelspec": {
   "display_name": "Python 3",
   "language": "python",
   "name": "python3"
  },
  "language_info": {
   "codemirror_mode": {
    "name": "ipython",
    "version": 3
   },
   "file_extension": ".py",
   "mimetype": "text/x-python",
   "name": "python",
   "nbconvert_exporter": "python",
   "pygments_lexer": "ipython3",
   "version": "3.7.4"
  }
 },
 "nbformat": 4,
 "nbformat_minor": 2
}
