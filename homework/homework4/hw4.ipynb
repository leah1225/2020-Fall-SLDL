{
 "cells": [
  {
   "cell_type": "code",
   "execution_count": 2,
   "metadata": {
    "id": "dcWkvUAXju0y"
   },
   "outputs": [],
   "source": [
    "# load packages\n",
    "%matplotlib inline\n",
    "import pickle\n",
    "import numpy as np\n",
    "import pandas as pd\n",
    "import torch\n",
    "from sklearn import preprocessing\n",
    "from livelossplot import PlotLosses"
   ]
  },
  {
   "cell_type": "code",
   "execution_count": 4,
   "metadata": {
    "colab": {
     "base_uri": "https://localhost:8080/"
    },
    "id": "95goozmoju01",
    "outputId": "9dc0957f-a6b4-4e62-ed13-c0341a0424ab"
   },
   "outputs": [
    {
     "name": "stdout",
     "output_type": "stream",
     "text": [
      "X_train shape =  (463715, 90)\n",
      "X_subtrain shape =  (417344, 90)\n",
      "X_valid shape =  (46371, 90)\n",
      "Y_subtrain shape =  (417344,)\n",
      "Y_valid shape =  (46371,)\n",
      "X_test shape =  (51630, 90)\n"
     ]
    }
   ],
   "source": [
    "# Load data\n",
    "with open('data/msd_full.pickle', 'rb') as fh1:\n",
    "    msd_data = pickle.load(fh1)\n",
    "\n",
    "doscaling = 1\n",
    "if (doscaling == 1):\n",
    "    xscaler = preprocessing.StandardScaler().fit(msd_data['X_train'])\n",
    "    #standardize feature values\n",
    "    X_train = xscaler.transform(msd_data['X_train'])\n",
    "    X_test = xscaler.transform(msd_data['X_test'])\n",
    "else:\n",
    "    X_train = msd_data['X_train']\n",
    "    X_test = msd_data['X_test']\n",
    "\n",
    "Y_train = msd_data['Y_train']\n",
    "Y_test = msd_data['Y_test'].astype('float32')\n",
    "X_test = X_test.astype('float32')\n",
    "\n",
    "y_mean = Y_train.mean()\n",
    "Y_train_keep = Y_train.copy()\n",
    "Y_test_keep = Y_test.copy()\n",
    "Y_train = Y_train - y_mean\n",
    "Y_test = Y_test - y_mean\n",
    "\n",
    "\n",
    "#validation is the last 10% of training, subtraining is the first 90% of training\n",
    "nvalid = int(X_train.shape[0] * 0.1)\n",
    "nsubtrain = X_train.shape[0] - nvalid\n",
    "\n",
    "X_subtrain = X_train[0:nsubtrain, :].astype('float32')\n",
    "X_valid = X_train[nsubtrain:, :].astype('float32')\n",
    "Y_subtrain = Y_train[0:nsubtrain].astype('float32')\n",
    "Y_valid = Y_train[nsubtrain:].astype('float32')\n",
    "\n",
    "Y_subtrain_keep = Y_train_keep[0:nsubtrain].astype('float32')\n",
    "Y_valid_keep = Y_train_keep[nsubtrain:].astype('float32')\n",
    "\n",
    "print(\"X_train shape = \", X_train.shape)\n",
    "print(\"X_subtrain shape = \", X_subtrain.shape)\n",
    "print(\"X_valid shape = \", X_valid.shape)\n",
    "print(\"Y_subtrain shape = \", Y_subtrain.shape)\n",
    "print(\"Y_valid shape = \", Y_valid.shape)\n",
    "print(\"X_test shape = \", X_test.shape)"
   ]
  },
  {
   "cell_type": "markdown",
   "metadata": {
    "id": "SIZQ-xvZju02"
   },
   "source": [
    "## Q1. Ordinary Least Square"
   ]
  },
  {
   "cell_type": "code",
   "execution_count": null,
   "metadata": {
    "id": "Q3h3aOaJju03"
   },
   "outputs": [],
   "source": [
    "import statsmodels.api as sm\n",
    "from statsmodels.tools.eval_measures import rmse"
   ]
  },
  {
   "cell_type": "code",
   "execution_count": null,
   "metadata": {
    "id": "FLogBDu0ju03"
   },
   "outputs": [],
   "source": [
    "# Train\n",
    "X_train_withconst = sm.add_constant(X_train)\n",
    "model = sm.OLS(Y_train,X_train_withconst).fit()"
   ]
  },
  {
   "cell_type": "code",
   "execution_count": null,
   "metadata": {
    "id": "_H8LgxHGju04",
    "outputId": "171e36d8-0459-4d81-cd17-61fec813c0b7"
   },
   "outputs": [
    {
     "name": "stdout",
     "output_type": "stream",
     "text": [
      "前五個特徵的參數: [ 5.30975265 -2.88088114 -1.53234348  0.05737583 -0.33952889]\n"
     ]
    }
   ],
   "source": [
    "# coef\n",
    "print('前五個特徵的參數:', model.params[1:6])"
   ]
  },
  {
   "cell_type": "code",
   "execution_count": null,
   "metadata": {
    "id": "oo9QrNApju04",
    "outputId": "31b6b63d-f2e3-497c-af05-4d7186515562"
   },
   "outputs": [
    {
     "name": "stdout",
     "output_type": "stream",
     "text": [
      "RMSE: 9.510160684544399\n"
     ]
    }
   ],
   "source": [
    "# Predict\n",
    "X_test_withconst = sm.add_constant(X_test)\n",
    "ypred = model.predict(X_test_withconst)\n",
    "\n",
    "# RMSE\n",
    "print('RMSE:',rmse(Y_test, ypred))"
   ]
  },
  {
   "cell_type": "markdown",
   "metadata": {
    "id": "Ad6-J1E_ju05"
   },
   "source": [
    "## Q2. Multilayer Perceptron"
   ]
  },
  {
   "cell_type": "code",
   "execution_count": 5,
   "metadata": {
    "id": "Bn40ebobju05"
   },
   "outputs": [],
   "source": [
    "from torch.utils import data"
   ]
  },
  {
   "cell_type": "code",
   "execution_count": 6,
   "metadata": {
    "id": "UEgXvaI1ju05"
   },
   "outputs": [],
   "source": [
    "class Dataset(data.Dataset):\n",
    "    \n",
    "    def __init__(self, Xnp, Ynp):\n",
    "        'Initialization, passing Xnp and Ynp'\n",
    "        self.labels = Ynp\n",
    "        self.nobs = Xnp.shape[0]        \n",
    "        self.Xnp = Xnp\n",
    "        self.Ynp = Ynp\n",
    "    \n",
    "    def __len__(self):\n",
    "        'Denotes the total number of samples'\n",
    "        return self.nobs\n",
    "    \n",
    "    def __getitem__(self, index):\n",
    "        'Generates one sample of data'        \n",
    "        X = self.Xnp[index]\n",
    "        y = self.Ynp[index]\n",
    "        return X, y"
   ]
  },
  {
   "cell_type": "markdown",
   "metadata": {
    "id": "whpV35Ztju06"
   },
   "source": [
    "### Create Dataloader"
   ]
  },
  {
   "cell_type": "code",
   "execution_count": 7,
   "metadata": {
    "id": "S2yTbyMtju06"
   },
   "outputs": [],
   "source": [
    "trainset = Dataset(X_train, Y_train)\n",
    "subtrainset = Dataset(X_subtrain, Y_subtrain)    \n",
    "validset = Dataset(X_valid, Y_valid)\n",
    "testset = Dataset(X_test, Y_test)"
   ]
  },
  {
   "cell_type": "code",
   "execution_count": 8,
   "metadata": {
    "id": "jGOkEHQbju06"
   },
   "outputs": [],
   "source": [
    "trainloader = data.DataLoader(trainset, batch_size=1000, shuffle=True, num_workers=0)\n",
    "subtrainloader = data.DataLoader(subtrainset, batch_size=1000, shuffle=True, num_workers=0)\n",
    "validloader = data.DataLoader(validset, batch_size=5000, shuffle=True, num_workers=0)\n",
    "testloader = data.DataLoader(testset, batch_size=10000, shuffle=True, num_workers=0)"
   ]
  },
  {
   "cell_type": "markdown",
   "metadata": {
    "id": "gs6YgE4_ju07"
   },
   "source": [
    "### Create MLP"
   ]
  },
  {
   "cell_type": "code",
   "execution_count": 9,
   "metadata": {
    "id": "WyUJup3aju07"
   },
   "outputs": [],
   "source": [
    "# For validation\n",
    "def valid(net, loss_fn = torch.nn.MSELoss(reduction='sum')):\n",
    "    \n",
    "    loss = 0\n",
    "    nobs = 0\n",
    "    rmse = 0\n",
    "    \n",
    "    net.eval()\n",
    "    with torch.no_grad():\n",
    "        for batch_idx, (inputs, targets) in enumerate(validloader):\n",
    "            inputs, targets = inputs.to(device), targets.to(device)\n",
    "            targets = targets.reshape((-1, 1))\n",
    "            outputs = net(inputs)\n",
    "            sse = sse_fn(outputs, targets)\n",
    "            loss += sse.item()\n",
    "            nobs += inputs.shape[0]\n",
    "        \n",
    "    rmse = np.sqrt(loss/nobs)\n",
    "    return rmse"
   ]
  },
  {
   "cell_type": "code",
   "execution_count": 10,
   "metadata": {
    "id": "IqhUpTl1ju08"
   },
   "outputs": [],
   "source": [
    "# For test\n",
    "def test(net, sse_fn = torch.nn.MSELoss(reduction='sum')):\n",
    "    loss = 0\n",
    "    nobs = 0\n",
    "    rmse = 0\n",
    "    \n",
    "    net.eval()\n",
    "    with torch.no_grad():\n",
    "        for batch_idx, (inputs, targets) in enumerate(testloader):\n",
    "            inputs, targets = inputs.to(device), targets.to(device)\n",
    "            targets = targets.reshape((-1, 1))\n",
    "            outputs = net(inputs)\n",
    "            sse = sse_fn(outputs, targets)\n",
    "            loss += sse.item()\n",
    "            nobs += inputs.shape[0]\n",
    "    \n",
    "    rmse = np.sqrt(loss/nobs)\n",
    "    print('Test RMSE =', rmse)"
   ]
  },
  {
   "cell_type": "code",
   "execution_count": 11,
   "metadata": {
    "id": "S5VnKqW4ju08"
   },
   "outputs": [],
   "source": [
    "def train(net, optimizer, loss_fn = torch.nn.MSELoss(reduction='sum'), \n",
    "          sse_fn = torch.nn.MSELoss(reduction='sum')):\n",
    "    \n",
    "    nepoch = 100\n",
    "    patient = 5000\n",
    "    plot_interval = 100\n",
    "    \n",
    "    # RMSE plot\n",
    "    liveloss = PlotLosses(step_names = \"# of batchs\")\n",
    "    \n",
    "    best_valid_rmse = float(\"inf\")\n",
    "    step_count = 0\n",
    "    train_loss = 0\n",
    "    train_loss_count = 0\n",
    "    stop_training = False\n",
    "    best_step_count = 0\n",
    "    best_state = dict()\n",
    "    \n",
    "    for epoch_id in range(0, nepoch):\n",
    "        if stop_training:\n",
    "            break\n",
    "            \n",
    "        for batch_idx, (inputs, targets) in enumerate(subtrainloader):\n",
    "            net.train()\n",
    "            \n",
    "            targets = targets.reshape((-1, 1))\n",
    "            step_count += 1\n",
    "            \n",
    "            inputs, targets = inputs.to(device), targets.to(device)\n",
    "            optimizer.zero_grad()\n",
    "            outputs = net(inputs)\n",
    "            \n",
    "            loss = loss_fn(outputs, targets)\n",
    "            loss.backward()\n",
    "            optimizer.step()\n",
    "            \n",
    "            # calculate training loss\n",
    "            sse = sse_fn(outputs, targets)\n",
    "            train_loss += sse.item()\n",
    "            train_loss_count += inputs.shape[0]\n",
    "            \n",
    "            if batch_idx % plot_interval == 0:\n",
    "                # training RMSE\n",
    "                logs = {}\n",
    "                logs['rmse'] = np.sqrt(train_loss / train_loss_count)\n",
    "                train_loss = 0\n",
    "                train_loss_count = 0\n",
    "                \n",
    "                # do validation\n",
    "                valid_rmse = valid(net)\n",
    "                \n",
    "                logs['val_rmse'] = valid_rmse\n",
    "                \n",
    "                # update RMSE plot\n",
    "                liveloss.update(logs)\n",
    "                liveloss.send()\n",
    "                \n",
    "                if valid_rmse < best_valid_rmse:\n",
    "                    best_valid_rmse = valid_rmse\n",
    "                    best_step_count = step_count\n",
    "                    best_state = {'net': net.state_dict(),\n",
    "                                  'rmse': valid_rmse,\n",
    "                                  'step_count': step_count,}\n",
    "                    \n",
    "                if step_count > (best_step_count + patient):\n",
    "                    stop_training = True\n",
    "                    break\n",
    "    \n",
    "    net.load_state_dict(best_state['net'])\n",
    "    test(net)"
   ]
  },
  {
   "cell_type": "code",
   "execution_count": 12,
   "metadata": {
    "id": "fERgC-RHju09"
   },
   "outputs": [],
   "source": [
    "D_in = trainset.Xnp.shape[1]\n",
    "H = 45\n",
    "D_out = 1\n",
    "\n",
    "device = \"cpu\"\n",
    "\n",
    "net = torch.nn.Sequential(\n",
    "        torch.nn.Linear(D_in, H),  \n",
    "        torch.nn.ReLU(), \n",
    "        torch.nn.Linear(H, H),\n",
    "        torch.nn.ReLU(), \n",
    "        torch.nn.Linear(H, H),\n",
    "        torch.nn.ReLU(), \n",
    "        torch.nn.Linear(H, H),\n",
    "        torch.nn.ReLU(), \n",
    "        torch.nn.Linear(H, D_out))\n",
    "\n",
    "net = net.float()\n",
    "net = net.to(device)\n",
    "\n",
    "optimizer = torch.optim.SGD(net.parameters(), lr=0.00001, momentum=0, weight_decay = 0)\n",
    "loss_fn = torch.nn.MSELoss(reduction='sum')"
   ]
  },
  {
   "cell_type": "code",
   "execution_count": null,
   "metadata": {
    "id": "f21z21cvju1A",
    "outputId": "78e95c99-1bcb-4e43-bbf1-c3300a3e1709"
   },
   "outputs": [
    {
     "data": {
      "image/png": "[encoded data removed]",
      "text/plain": [
       "<Figure size 864x576 with 2 Axes>"
      ]
     },
     "metadata": {
      "needs_background": "light",
      "tags": []
     },
     "output_type": "display_data"
    },
    {
     "name": "stdout",
     "output_type": "stream",
     "text": [
      "rmse\n",
      "\ttraining         \t (min:    8.243, max:   10.930, cur:    8.337)\n",
      "\tvalidation       \t (min:    8.551, max:   10.922, cur:    8.716)\n",
      "Test RMSE = 9.084758692098365\n"
     ]
    }
   ],
   "source": [
    "train(net, optimizer)"
   ]
  },
  {
   "cell_type": "markdown",
   "metadata": {
    "id": "83ejGMXKju1B"
   },
   "source": [
    "在圖形後段可以看出Training RMSE低於Validation RMSE的狀況，代表模型有出現Overfitting的問題。"
   ]
  },
  {
   "cell_type": "markdown",
   "metadata": {
    "id": "Oij44faNju1B"
   },
   "source": [
    "## Q.3 討論H = 45, 90, 180的Test RMSE"
   ]
  },
  {
   "cell_type": "code",
   "execution_count": 13,
   "metadata": {
    "id": "-I8xHUl_ju1C"
   },
   "outputs": [],
   "source": [
    "# train model without plot\n",
    "def train_no_plot(net, optimizer, loss_fn = torch.nn.MSELoss(reduction='sum'), \n",
    "          sse_fn = torch.nn.MSELoss(reduction='sum')):\n",
    "    \n",
    "    nepoch = 100\n",
    "    patient = 5000\n",
    "    plot_interval = 100\n",
    "    \n",
    "    best_valid_rmse = float(\"inf\")\n",
    "    step_count = 0\n",
    "    train_loss = 0\n",
    "    train_loss_count = 0\n",
    "    stop_training = False\n",
    "    best_step_count = 0\n",
    "    best_state = dict()\n",
    "    \n",
    "    for epoch_id in range(0, nepoch):\n",
    "        if stop_training:\n",
    "            break\n",
    "            \n",
    "        for batch_idx, (inputs, targets) in enumerate(subtrainloader):\n",
    "            net.train()\n",
    "            \n",
    "            targets = targets.reshape((-1, 1))\n",
    "            step_count += 1\n",
    "            \n",
    "            inputs, targets = inputs.to(device), targets.to(device)\n",
    "            optimizer.zero_grad()\n",
    "            outputs = net(inputs)\n",
    "            \n",
    "            loss = loss_fn(outputs, targets)\n",
    "            loss.backward()\n",
    "            optimizer.step()\n",
    "            \n",
    "            # calculate training loss\n",
    "            sse = sse_fn(outputs, targets)\n",
    "            train_loss += sse.item()\n",
    "            train_loss_count += inputs.shape[0]\n",
    "            \n",
    "            if batch_idx % plot_interval == 0:\n",
    "                # training RMSE\n",
    "                logs = {}\n",
    "                logs['rmse'] = np.sqrt(train_loss / train_loss_count)\n",
    "                train_loss = 0\n",
    "                train_loss_count = 0\n",
    "                \n",
    "                # do validation\n",
    "                valid_rmse = valid(net)\n",
    "                logs['val_rmse'] = valid_rmse\n",
    "                \n",
    "                if valid_rmse < best_valid_rmse:\n",
    "                    best_valid_rmse = valid_rmse\n",
    "                    best_step_count = step_count\n",
    "                    best_state = {'net': net.state_dict(),\n",
    "                                  'rmse': valid_rmse,\n",
    "                                  'step_count': step_count,}\n",
    "                    \n",
    "                if step_count > (best_step_count + patient):\n",
    "                    stop_training = True\n",
    "                    break\n",
    "    \n",
    "    net.load_state_dict(best_state['net'])\n",
    "    test(net)"
   ]
  },
  {
   "cell_type": "code",
   "execution_count": null,
   "metadata": {
    "id": "-MNXx22iju1C",
    "outputId": "017ddeaf-f462-4f29-caee-2aed7cbfbcb4"
   },
   "outputs": [
    {
     "name": "stdout",
     "output_type": "stream",
     "text": [
      "H =  90 :\n",
      "Test RMSE = 8.927460342518902\n",
      "H =  180 :\n",
      "Test RMSE = 9.121074894934715\n"
     ]
    }
   ],
   "source": [
    "Hs = [90, 180]\n",
    "\n",
    "for H in Hs:\n",
    "    net = torch.nn.Sequential(\n",
    "        torch.nn.Linear(D_in, H),  \n",
    "        torch.nn.ReLU(), \n",
    "        torch.nn.Linear(H, H),\n",
    "        torch.nn.ReLU(), \n",
    "        torch.nn.Linear(H, H),\n",
    "        torch.nn.ReLU(), \n",
    "        torch.nn.Linear(H, H),\n",
    "        torch.nn.ReLU(), \n",
    "        torch.nn.Linear(H, D_out))\n",
    "\n",
    "    net = net.float()\n",
    "    net = net.to(device)\n",
    "\n",
    "    optimizer = torch.optim.SGD(net.parameters(), lr=0.00001, momentum=0, weight_decay = 0)\n",
    "    loss_fn = torch.nn.MSELoss(reduction='sum')\n",
    "\n",
    "    print('H = ', H)\n",
    "    train_no_plot(net, optimizer)"
   ]
  },
  {
   "cell_type": "markdown",
   "metadata": {
    "id": "5L7_i3gPju1G"
   },
   "source": [
    "- 表現結果由好到壞依序為：H = 90、H = 45、H = 180\n",
    "- 以RMSE的數值而言，這三種H的表現並沒有非常顯著的差異\n",
    "- 推測H的大小對這個數值區間的影響不大\n",
    "- 也可能是因為模型估計的隨機性而造成這個結果"
   ]
  },
  {
   "cell_type": "markdown",
   "metadata": {
    "id": "2wMDgsdzju1G"
   },
   "source": [
    "## Q.4 考慮H = 45, 90, 180與Weight Decay = 0.1, 0.2, 0.4的所有組合"
   ]
  },
  {
   "cell_type": "markdown",
   "metadata": {
    "id": "GyFsml0iju1G"
   },
   "source": [
    "- 模型估計後做表整理Test RMSE，討論H的選擇應為多少較合理?"
   ]
  },
  {
   "cell_type": "code",
   "execution_count": null,
   "metadata": {
    "id": "UuXKPzGhju1G",
    "outputId": "4ce31334-919d-4b61-f166-898e09554845"
   },
   "outputs": [
    {
     "name": "stdout",
     "output_type": "stream",
     "text": [
      "H = 45 , Weight = 0.1\n",
      "Test RMSE = 8.896010563184845\n",
      "H = 45 , Weight = 0.2\n",
      "Test RMSE = 9.003123684523619\n",
      "H = 45 , Weight = 0.4\n",
      "Test RMSE = 8.914293133530087\n",
      "H = 90 , Weight = 0.1\n",
      "Test RMSE = 9.124534909970023\n",
      "H = 90 , Weight = 0.2\n",
      "Test RMSE = 9.019407765026626\n",
      "H = 90 , Weight = 0.4\n",
      "Test RMSE = 8.996692694150706\n",
      "H = 180 , Weight = 0.1\n",
      "Test RMSE = 9.439185790088992\n",
      "H = 180 , Weight = 0.2\n",
      "Test RMSE = 9.128731304592911\n",
      "H = 180 , Weight = 0.4\n",
      "Test RMSE = 9.111272803646031\n"
     ]
    }
   ],
   "source": [
    "weights = [0.1, 0.2, 0.4]\n",
    "Hs = [45, 90, 180]\n",
    "\n",
    "for H in Hs:\n",
    "    for w in weights:\n",
    "        net = torch.nn.Sequential(\n",
    "            torch.nn.Linear(D_in, H),  \n",
    "            torch.nn.ReLU(), \n",
    "            torch.nn.Linear(H, H),\n",
    "            torch.nn.ReLU(), \n",
    "            torch.nn.Linear(H, H),\n",
    "            torch.nn.ReLU(), \n",
    "            torch.nn.Linear(H, H),\n",
    "            torch.nn.ReLU(), \n",
    "            torch.nn.Linear(H, D_out))\n",
    "\n",
    "        net = net.float()\n",
    "        net = net.to(device)\n",
    "\n",
    "        optimizer = torch.optim.SGD(net.parameters(), lr=0.00001, momentum=0, weight_decay = w)\n",
    "        loss_fn = torch.nn.MSELoss(reduction='sum')\n",
    "\n",
    "        print('H =', H, ',', 'Weight =', w)\n",
    "        train_no_plot(net, optimizer)"
   ]
  },
  {
   "cell_type": "code",
   "execution_count": null,
   "metadata": {
    "id": "4VFFcU3nju1H",
    "outputId": "be4c8274-de3f-4808-ec8d-3e977b8cf79d"
   },
   "outputs": [
    {
     "data": {
      "text/html": [
       "<div>\n",
       "<style scoped>\n",
       "    .dataframe tbody tr th:only-of-type {\n",
       "        vertical-align: middle;\n",
       "    }\n",
       "\n",
       "    .dataframe tbody tr th {\n",
       "        vertical-align: top;\n",
       "    }\n",
       "\n",
       "    .dataframe thead th {\n",
       "        text-align: right;\n",
       "    }\n",
       "</style>\n",
       "<table border=\"1\" class=\"dataframe\">\n",
       "  <thead>\n",
       "    <tr style=\"text-align: right;\">\n",
       "      <th></th>\n",
       "      <th>W = 0.1</th>\n",
       "      <th>W = 0.2</th>\n",
       "      <th>W = 0.4</th>\n",
       "    </tr>\n",
       "  </thead>\n",
       "  <tbody>\n",
       "    <tr>\n",
       "      <th>45</th>\n",
       "      <td>8.89601</td>\n",
       "      <td>9.00312</td>\n",
       "      <td>8.91430</td>\n",
       "    </tr>\n",
       "    <tr>\n",
       "      <th>90</th>\n",
       "      <td>9.12453</td>\n",
       "      <td>9.01941</td>\n",
       "      <td>8.99669</td>\n",
       "    </tr>\n",
       "    <tr>\n",
       "      <th>180</th>\n",
       "      <td>9.43919</td>\n",
       "      <td>9.12873</td>\n",
       "      <td>9.11127</td>\n",
       "    </tr>\n",
       "  </tbody>\n",
       "</table>\n",
       "</div>"
      ],
      "text/plain": [
       "     W = 0.1  W = 0.2  W = 0.4\n",
       "45   8.89601  9.00312  8.91430\n",
       "90   9.12453  9.01941  8.99669\n",
       "180  9.43919  9.12873  9.11127"
      ]
     },
     "execution_count": 22,
     "metadata": {
      "tags": []
     },
     "output_type": "execute_result"
    }
   ],
   "source": [
    "data={\"W = 0.1\":[8.89601,9.12453,9.43919], \"W = 0.2\":[9.00312,9.01941,9.12873], \"W = 0.4\":[8.91430,8.99669,9.11127]}\n",
    "df=pd.DataFrame(data,index=[\"45\",\"90\",\"180\"] )\n",
    "df"
   ]
  },
  {
   "cell_type": "markdown",
   "metadata": {
    "id": "jb0Pptvhju1H"
   },
   "source": [
    "不論weight等於多少，H = 45的表現結果都是最佳的，應該選擇45作為H的數值"
   ]
  },
  {
   "cell_type": "markdown",
   "metadata": {
    "id": "izH2j3dhju1H"
   },
   "source": [
    "## Q.5 MLP with Dropout"
   ]
  },
  {
   "cell_type": "code",
   "execution_count": 14,
   "metadata": {
    "colab": {
     "base_uri": "https://localhost:8080/"
    },
    "id": "-ubD7I3vwNk-",
    "outputId": "9b50ca77-0055-4df9-d1d1-07102f5bf167"
   },
   "outputs": [
    {
     "name": "stdout",
     "output_type": "stream",
     "text": [
      "Running on device:  cuda\n"
     ]
    }
   ],
   "source": [
    "use_cuda = torch.cuda.is_available()\n",
    "if use_cuda:\n",
    "    device = \"cuda\"   \n",
    "else:\n",
    "    device = \"cpu\"\n",
    "print(\"Running on device: \", device)"
   ]
  },
  {
   "cell_type": "code",
   "execution_count": null,
   "metadata": {
    "id": "_NyTbWmwju1H"
   },
   "outputs": [],
   "source": [
    "D_in = trainset.Xnp.shape[1]\n",
    "H = 90\n",
    "D_out = 1\n",
    "\n",
    "net = torch.nn.Sequential(\n",
    "        torch.nn.Linear(D_in, H),  \n",
    "        torch.nn.ReLU(),\n",
    "        torch.nn.Dropout(p = 0.5),\n",
    "        torch.nn.Linear(H, H),\n",
    "        torch.nn.ReLU(),\n",
    "        torch.nn.Dropout(p = 0.5),\n",
    "        torch.nn.Linear(H, H),\n",
    "        torch.nn.ReLU(), \n",
    "        torch.nn.Dropout(p = 0.5),\n",
    "        torch.nn.Linear(H, H),\n",
    "        torch.nn.ReLU(), \n",
    "        torch.nn.Dropout(p = 0.5),\n",
    "        torch.nn.Linear(H, D_out))\n",
    "\n",
    "net = net.float()\n",
    "net = net.to(device)\n",
    "\n",
    "optimizer = torch.optim.Adam(net.parameters(), lr=0.001, weight_decay = 0)\n",
    "loss_fn = torch.nn.MSELoss(reduction='sum')"
   ]
  },
  {
   "cell_type": "code",
   "execution_count": null,
   "metadata": {
    "colab": {
     "base_uri": "https://localhost:8080/",
     "height": 653
    },
    "id": "krMuk4QAju1I",
    "outputId": "f0f2da25-dd84-4b0c-9526-3436fcb9341e"
   },
   "outputs": [
    {
     "data": {
      "image/png": "[encoded data removed]",
      "text/plain": [
       "<Figure size 864x576 with 2 Axes>"
      ]
     },
     "metadata": {
      "needs_background": "light",
      "tags": []
     },
     "output_type": "display_data"
    },
    {
     "name": "stdout",
     "output_type": "stream",
     "text": [
      "rmse\n",
      "\ttraining         \t (min:    8.619, max:   10.926, cur:    8.790)\n",
      "\tvalidation       \t (min:    8.577, max:   10.921, cur:    8.601)\n",
      "Test RMSE = 8.765866262971732\n"
     ]
    }
   ],
   "source": [
    "train(net, optimizer)"
   ]
  },
  {
   "cell_type": "markdown",
   "metadata": {
    "id": "C3X5S0Niju1I"
   },
   "source": [
    "從圖形來看，整個訓練過程中並沒有出現Training RMSE低於Validation RMSE的狀況，可見Dropout可以有效得處理Overfitting的問題"
   ]
  },
  {
   "cell_type": "markdown",
   "metadata": {
    "id": "aft6m6iXju1I"
   },
   "source": [
    "## Q.6 Explore Number of Hidden Units"
   ]
  },
  {
   "cell_type": "code",
   "execution_count": null,
   "metadata": {
    "colab": {
     "base_uri": "https://localhost:8080/"
    },
    "id": "g1nsJS2nju1I",
    "outputId": "1a10c29a-a482-4b7b-c144-f5a911e3a496"
   },
   "outputs": [
    {
     "name": "stdout",
     "output_type": "stream",
     "text": [
      "H = 20\n",
      "Test RMSE = 9.036118464630546\n",
      "H = 45\n",
      "Test RMSE = 8.864207165000822\n",
      "H = 180\n",
      "Test RMSE = 8.73638674117903\n",
      "H = 360\n",
      "Test RMSE = 8.745914177074695\n"
     ]
    }
   ],
   "source": [
    "Hs = [20, 45, 180, 360]\n",
    "\n",
    "for H in Hs:\n",
    "    net = torch.nn.Sequential(\n",
    "        torch.nn.Linear(D_in, H),  \n",
    "        torch.nn.ReLU(),\n",
    "        torch.nn.Dropout(p = 0.5),\n",
    "        torch.nn.Linear(H, H),\n",
    "        torch.nn.ReLU(),\n",
    "        torch.nn.Dropout(p = 0.5),\n",
    "        torch.nn.Linear(H, H),\n",
    "        torch.nn.ReLU(), \n",
    "        torch.nn.Dropout(p = 0.5),\n",
    "        torch.nn.Linear(H, H),\n",
    "        torch.nn.ReLU(), \n",
    "        torch.nn.Dropout(p = 0.5),\n",
    "        torch.nn.Linear(H, D_out))\n",
    "\n",
    "    net = net.float()\n",
    "    net = net.to(device)\n",
    "\n",
    "    optimizer = torch.optim.Adam(net.parameters(), lr=0.001, weight_decay = 0)\n",
    "    loss_fn = torch.nn.MSELoss(reduction='sum')\n",
    "\n",
    "    print('H =', H)\n",
    "    train_no_plot(net, optimizer)"
   ]
  },
  {
   "cell_type": "code",
   "execution_count": null,
   "metadata": {
    "colab": {
     "base_uri": "https://localhost:8080/",
     "height": 204
    },
    "id": "xnGeMh-bju1J",
    "outputId": "d244111c-1b16-4940-f308-5c32e65cf55b"
   },
   "outputs": [
    {
     "data": {
      "text/html": [
       "<div>\n",
       "<style scoped>\n",
       "    .dataframe tbody tr th:only-of-type {\n",
       "        vertical-align: middle;\n",
       "    }\n",
       "\n",
       "    .dataframe tbody tr th {\n",
       "        vertical-align: top;\n",
       "    }\n",
       "\n",
       "    .dataframe thead th {\n",
       "        text-align: right;\n",
       "    }\n",
       "</style>\n",
       "<table border=\"1\" class=\"dataframe\">\n",
       "  <thead>\n",
       "    <tr style=\"text-align: right;\">\n",
       "      <th></th>\n",
       "      <th>Test RMSE</th>\n",
       "    </tr>\n",
       "  </thead>\n",
       "  <tbody>\n",
       "    <tr>\n",
       "      <th>20</th>\n",
       "      <td>9.03612</td>\n",
       "    </tr>\n",
       "    <tr>\n",
       "      <th>45</th>\n",
       "      <td>8.86421</td>\n",
       "    </tr>\n",
       "    <tr>\n",
       "      <th>90</th>\n",
       "      <td>8.76587</td>\n",
       "    </tr>\n",
       "    <tr>\n",
       "      <th>180</th>\n",
       "      <td>8.73639</td>\n",
       "    </tr>\n",
       "    <tr>\n",
       "      <th>360</th>\n",
       "      <td>8.74591</td>\n",
       "    </tr>\n",
       "  </tbody>\n",
       "</table>\n",
       "</div>"
      ],
      "text/plain": [
       "     Test RMSE\n",
       "20     9.03612\n",
       "45     8.86421\n",
       "90     8.76587\n",
       "180    8.73639\n",
       "360    8.74591"
      ]
     },
     "execution_count": 5,
     "metadata": {
      "tags": []
     },
     "output_type": "execute_result"
    }
   ],
   "source": [
    "data={\"Test RMSE\":[9.03612, 8.86421, 8.76587, 8.73639, 8.74591]}\n",
    "df=pd.DataFrame(data,index=[\"20\",\"45\",\"90\",\"180\",\"360\"] )\n",
    "df"
   ]
  },
  {
   "cell_type": "markdown",
   "metadata": {
    "id": "j7Kq8aL_N214"
   },
   "source": [
    "從Test RMSE來看，當hidden layers增加的時候RMSE的表現有越好的趨勢，但到360 layers時RMSE卻回升"
   ]
  },
  {
   "cell_type": "markdown",
   "metadata": {
    "id": "o-0tPfkiNxbN"
   },
   "source": [
    "## Q.7 L2 + L1 Loss"
   ]
  },
  {
   "cell_type": "code",
   "execution_count": null,
   "metadata": {
    "id": "MN4cWuASOmQr"
   },
   "outputs": [],
   "source": [
    "def L2L1_loss_fn(outputs, targets, z):\n",
    "    L2 = z*torch.nn.MSELoss(reduction='sum')(outputs, targets)\n",
    "    L1 = (1-z)*torch.nn.L1Loss(reduction = 'sum')(outputs, targets)\n",
    "    return L2+L1"
   ]
  },
  {
   "cell_type": "code",
   "execution_count": null,
   "metadata": {
    "colab": {
     "base_uri": "https://localhost:8080/",
     "height": 653
    },
    "id": "JpTfZ2INNCaF",
    "outputId": "a6b5f1da-6a1a-43c7-f762-0d4f01db1ae0"
   },
   "outputs": [
    {
     "data": {
      "image/png": "[encoded data removed]",
      "text/plain": [
       "<Figure size 864x576 with 2 Axes>"
      ]
     },
     "metadata": {
      "needs_background": "light",
      "tags": []
     },
     "output_type": "display_data"
    },
    {
     "name": "stdout",
     "output_type": "stream",
     "text": [
      "rmse\n",
      "\ttraining         \t (min:    8.601, max:   10.543, cur:    8.736)\n",
      "\tvalidation       \t (min:    8.558, max:   10.921, cur:    8.560)\n",
      "Test RMSE = 8.77282046700769\n"
     ]
    }
   ],
   "source": [
    "D_in = trainset.Xnp.shape[1]\n",
    "H = 90\n",
    "Z = 0.5\n",
    "D_out = 1\n",
    "\n",
    "net = torch.nn.Sequential(\n",
    "        torch.nn.Linear(D_in, H),  \n",
    "        torch.nn.ReLU(),\n",
    "        torch.nn.Dropout(p = 0.5),\n",
    "        torch.nn.Linear(H, H),\n",
    "        torch.nn.ReLU(),\n",
    "        torch.nn.Dropout(p = 0.5),\n",
    "        torch.nn.Linear(H, H),\n",
    "        torch.nn.ReLU(), \n",
    "        torch.nn.Dropout(p = 0.5),\n",
    "        torch.nn.Linear(H, H),\n",
    "        torch.nn.ReLU(), \n",
    "        torch.nn.Dropout(p = 0.5),\n",
    "        torch.nn.Linear(H, D_out))\n",
    "\n",
    "net = net.float()\n",
    "net = net.to(device)\n",
    "\n",
    "def L2L1_loss_fn(outputs, targets, z = 0.5):\n",
    "    L2 = z*torch.nn.MSELoss(reduction='sum')(outputs, targets)\n",
    "    L1 = (1-z)*torch.nn.L1Loss(reduction = 'sum')(outputs, targets)\n",
    "    return L2+L1\n",
    "\n",
    "optimizer = torch.optim.Adam(net.parameters(), lr=0.001, weight_decay = 0)\n",
    "train(net, optimizer, loss_fn = L2L1_loss_fn)"
   ]
  },
  {
   "cell_type": "code",
   "execution_count": null,
   "metadata": {
    "colab": {
     "base_uri": "https://localhost:8080/"
    },
    "id": "4jhJCD6WNCoc",
    "outputId": "737d54a0-a370-4dc8-bc2a-b630484c2ced"
   },
   "outputs": [
    {
     "name": "stdout",
     "output_type": "stream",
     "text": [
      "Z = 0.0\n",
      "Test RMSE = 8.986299244352212\n",
      "Z = 0.1\n",
      "Test RMSE = 8.771015305849625\n",
      "Z = 0.9\n",
      "Test RMSE = 8.774754980195935\n",
      "Z = 1.0\n",
      "Test RMSE = 8.766651980268934\n"
     ]
    }
   ],
   "source": [
    "# 不同的Z值\n",
    "Zs = [0.0, 0.1, 0.9, 1.0]\n",
    "\n",
    "D_in = trainset.Xnp.shape[1]\n",
    "D_out = 1\n",
    "H = 90\n",
    "\n",
    "for Z in Zs:\n",
    "    net = torch.nn.Sequential(\n",
    "        torch.nn.Linear(D_in, H),  \n",
    "        torch.nn.ReLU(),\n",
    "        torch.nn.Dropout(p = 0.5),\n",
    "        torch.nn.Linear(H, H),\n",
    "        torch.nn.ReLU(),\n",
    "        torch.nn.Dropout(p = 0.5),\n",
    "        torch.nn.Linear(H, H),\n",
    "        torch.nn.ReLU(), \n",
    "        torch.nn.Dropout(p = 0.5),\n",
    "        torch.nn.Linear(H, H),\n",
    "        torch.nn.ReLU(), \n",
    "        torch.nn.Dropout(p = 0.5),\n",
    "        torch.nn.Linear(H, D_out))\n",
    "\n",
    "    net = net.float()\n",
    "    net = net.to(device)\n",
    "\n",
    "    def L2L1_loss_fn(outputs, targets, z = Z):\n",
    "        L2 = z*torch.nn.MSELoss(reduction='sum')(outputs, targets)\n",
    "        L1 = (1-z)*torch.nn.L1Loss(reduction = 'sum')(outputs, targets)\n",
    "        return L2+L1\n",
    "  \n",
    "    optimizer = torch.optim.Adam(net.parameters(), lr=0.001, weight_decay = 0)\n",
    "  \n",
    "    print('Z =', Z)\n",
    "    train_no_plot(net, optimizer, loss_fn = L2L1_loss_fn)"
   ]
  },
  {
   "cell_type": "code",
   "execution_count": null,
   "metadata": {
    "colab": {
     "base_uri": "https://localhost:8080/",
     "height": 204
    },
    "id": "DTwFJRSROknz",
    "outputId": "b4bf6ff9-bcbb-475d-a9e0-20f3ca9bcf37"
   },
   "outputs": [
    {
     "data": {
      "text/html": [
       "<div>\n",
       "<style scoped>\n",
       "    .dataframe tbody tr th:only-of-type {\n",
       "        vertical-align: middle;\n",
       "    }\n",
       "\n",
       "    .dataframe tbody tr th {\n",
       "        vertical-align: top;\n",
       "    }\n",
       "\n",
       "    .dataframe thead th {\n",
       "        text-align: right;\n",
       "    }\n",
       "</style>\n",
       "<table border=\"1\" class=\"dataframe\">\n",
       "  <thead>\n",
       "    <tr style=\"text-align: right;\">\n",
       "      <th></th>\n",
       "      <th>Test RMSE</th>\n",
       "    </tr>\n",
       "  </thead>\n",
       "  <tbody>\n",
       "    <tr>\n",
       "      <th>0.0</th>\n",
       "      <td>8.98630</td>\n",
       "    </tr>\n",
       "    <tr>\n",
       "      <th>0.1</th>\n",
       "      <td>8.77102</td>\n",
       "    </tr>\n",
       "    <tr>\n",
       "      <th>0.5</th>\n",
       "      <td>8.77282</td>\n",
       "    </tr>\n",
       "    <tr>\n",
       "      <th>0.9</th>\n",
       "      <td>8.77475</td>\n",
       "    </tr>\n",
       "    <tr>\n",
       "      <th>1.0</th>\n",
       "      <td>8.76665</td>\n",
       "    </tr>\n",
       "  </tbody>\n",
       "</table>\n",
       "</div>"
      ],
      "text/plain": [
       "     Test RMSE\n",
       "0.0    8.98630\n",
       "0.1    8.77102\n",
       "0.5    8.77282\n",
       "0.9    8.77475\n",
       "1.0    8.76665"
      ]
     },
     "execution_count": 31,
     "metadata": {
      "tags": []
     },
     "output_type": "execute_result"
    }
   ],
   "source": [
    "data={\"Test RMSE\":[8.98630, 8.77102, 8.77282, 8.77475, 8.76665]}\n",
    "df=pd.DataFrame(data,index=[\"0.0\",\"0.1\",\"0.5\",\"0.9\",\"1.0\"] )\n",
    "df"
   ]
  },
  {
   "cell_type": "markdown",
   "metadata": {
    "id": "YxFTl0d2qIFm"
   },
   "source": [
    "Z = 0.1時的表現略好一些，Z = 0.5、0.9、1.0時的表現差不多，當Z = 0時的表現最差(可能是因為只有L1 loss)"
   ]
  },
  {
   "cell_type": "markdown",
   "metadata": {
    "id": "ZThZQwXwsuzN"
   },
   "source": [
    "## Q.8 L2 + Customerized Loss"
   ]
  },
  {
   "cell_type": "code",
   "execution_count": 15,
   "metadata": {
    "id": "V4POEw7HJa9J"
   },
   "outputs": [],
   "source": [
    "def qloss(outputs, targets, q = 0.5):\n",
    "    e = targets - outputs\n",
    "    loss = torch.max(q*e, (1-q)*(-e))\n",
    "    return loss.sum()"
   ]
  },
  {
   "cell_type": "code",
   "execution_count": 18,
   "metadata": {
    "colab": {
     "base_uri": "https://localhost:8080/",
     "height": 653
    },
    "id": "K4ddqJzaJf4H",
    "outputId": "8bc4f6a5-627d-435e-bfed-2c3ac6857467"
   },
   "outputs": [
    {
     "data": {
      "image/png": "[encoded data removed]",
      "text/plain": [
       "<Figure size 864x576 with 2 Axes>"
      ]
     },
     "metadata": {
      "needs_background": "light",
      "tags": []
     },
     "output_type": "display_data"
    },
    {
     "name": "stdout",
     "output_type": "stream",
     "text": [
      "rmse\n",
      "\ttraining         \t (min:    9.037, max:   11.028, cur:    9.246)\n",
      "\tvalidation       \t (min:    8.840, max:   10.921, cur:    8.882)\n",
      "Test RMSE = 8.994210579682655\n"
     ]
    }
   ],
   "source": [
    "# Z = 0\n",
    "\n",
    "H = 90\n",
    "net = torch.nn.Sequential(\n",
    "        torch.nn.Linear(D_in, H),  \n",
    "        torch.nn.ReLU(),\n",
    "        torch.nn.Dropout(p = 0.5),\n",
    "        torch.nn.Linear(H, H),\n",
    "        torch.nn.ReLU(),\n",
    "        torch.nn.Dropout(p = 0.5),\n",
    "        torch.nn.Linear(H, H),\n",
    "        torch.nn.ReLU(), \n",
    "        torch.nn.Dropout(p = 0.5),\n",
    "        torch.nn.Linear(H, H),\n",
    "        torch.nn.ReLU(), \n",
    "        torch.nn.Dropout(p = 0.5),\n",
    "        torch.nn.Linear(H, D_out))\n",
    "\n",
    "net = net.float()\n",
    "net = net.to(device)\n",
    "\n",
    "def cust_loss_fn(outputs, targets, z = 0):\n",
    "    L2 = z*torch.nn.MSELoss(reduction='sum')(outputs, targets)\n",
    "    return L2+(1-z)*qloss(outputs, targets, q = 0.5)\n",
    "\n",
    "optimizer = torch.optim.Adam(net.parameters(), lr=0.001, weight_decay = 0)\n",
    "train(net, optimizer, loss_fn = cust_loss_fn)"
   ]
  },
  {
   "cell_type": "code",
   "execution_count": 17,
   "metadata": {
    "colab": {
     "base_uri": "https://localhost:8080/"
    },
    "id": "0CUboZ8PsVme",
    "outputId": "ee1158a3-7e15-4bff-da90-8af8603632a9"
   },
   "outputs": [
    {
     "name": "stdout",
     "output_type": "stream",
     "text": [
      "Z = 0.1\n",
      "Test RMSE = 8.737367536168202\n",
      "Z = 0.5\n",
      "Test RMSE = 8.793561695029062\n",
      "Z = 0.9\n",
      "Test RMSE = 8.755101529479667\n",
      "Z = 1.0\n",
      "Test RMSE = 8.787332904767949\n"
     ]
    }
   ],
   "source": [
    "Zs = [0.1, 0.5, 0.9, 1.0]\n",
    "\n",
    "for Z in Zs:\n",
    "    net = torch.nn.Sequential(\n",
    "        torch.nn.Linear(D_in, H),  \n",
    "        torch.nn.ReLU(),\n",
    "        torch.nn.Dropout(p = 0.5),\n",
    "        torch.nn.Linear(H, H),\n",
    "        torch.nn.ReLU(),\n",
    "        torch.nn.Dropout(p = 0.5),\n",
    "        torch.nn.Linear(H, H),\n",
    "        torch.nn.ReLU(), \n",
    "        torch.nn.Dropout(p = 0.5),\n",
    "        torch.nn.Linear(H, H),\n",
    "        torch.nn.ReLU(), \n",
    "        torch.nn.Dropout(p = 0.5),\n",
    "        torch.nn.Linear(H, D_out))\n",
    "\n",
    "    net = net.float()\n",
    "    net = net.to(device)\n",
    "    \n",
    "    def cust_loss_fn(outputs, targets, z = Z):\n",
    "        L2 = z*torch.nn.MSELoss(reduction='sum')(outputs, targets)\n",
    "        return L2+(1-z)*qloss(outputs, targets, q = 0.5)\n",
    "    \n",
    "    optimizer = torch.optim.Adam(net.parameters(), lr=0.001, weight_decay = 0)\n",
    "\n",
    "    print('Z =', Z)\n",
    "    train_no_plot(net, optimizer, loss_fn = cust_loss_fn)"
   ]
  },
  {
   "cell_type": "code",
   "execution_count": 20,
   "metadata": {
    "colab": {
     "base_uri": "https://localhost:8080/",
     "height": 204
    },
    "id": "5QC4h6LDsVaP",
    "outputId": "9ad04515-a906-4368-fe7e-1e799a28dcce"
   },
   "outputs": [
    {
     "data": {
      "text/html": [
       "<div>\n",
       "<style scoped>\n",
       "    .dataframe tbody tr th:only-of-type {\n",
       "        vertical-align: middle;\n",
       "    }\n",
       "\n",
       "    .dataframe tbody tr th {\n",
       "        vertical-align: top;\n",
       "    }\n",
       "\n",
       "    .dataframe thead th {\n",
       "        text-align: right;\n",
       "    }\n",
       "</style>\n",
       "<table border=\"1\" class=\"dataframe\">\n",
       "  <thead>\n",
       "    <tr style=\"text-align: right;\">\n",
       "      <th></th>\n",
       "      <th>Test RMSE</th>\n",
       "    </tr>\n",
       "  </thead>\n",
       "  <tbody>\n",
       "    <tr>\n",
       "      <th>0</th>\n",
       "      <td>8.99421</td>\n",
       "    </tr>\n",
       "    <tr>\n",
       "      <th>0.1</th>\n",
       "      <td>8.73737</td>\n",
       "    </tr>\n",
       "    <tr>\n",
       "      <th>0.5</th>\n",
       "      <td>8.79356</td>\n",
       "    </tr>\n",
       "    <tr>\n",
       "      <th>0.9</th>\n",
       "      <td>8.75510</td>\n",
       "    </tr>\n",
       "    <tr>\n",
       "      <th>1.0</th>\n",
       "      <td>8.78733</td>\n",
       "    </tr>\n",
       "  </tbody>\n",
       "</table>\n",
       "</div>"
      ],
      "text/plain": [
       "     Test RMSE\n",
       "0      8.99421\n",
       "0.1    8.73737\n",
       "0.5    8.79356\n",
       "0.9    8.75510\n",
       "1.0    8.78733"
      ]
     },
     "execution_count": 20,
     "metadata": {
      "tags": []
     },
     "output_type": "execute_result"
    }
   ],
   "source": [
    "data={\"Test RMSE\":[8.99421, 8.73737, 8.79356, 8.75510, 8.78733]}\n",
    "df=pd.DataFrame(data,index=[\"0\",\"0.1\",\"0.5\",\"0.9\",\"1.0\"] )\n",
    "df"
   ]
  },
  {
   "cell_type": "markdown",
   "metadata": {
    "id": "gw6PBHsrT_TO"
   },
   "source": [
    "Z = 0時的表現最差，Z = 0.1, 0.5, 0.9, 1.0的表現差不多，其中以Z = 0.1的表現結果最佳，推測可能是因為兩種loss function相互輔助的關係"
   ]
  },
  {
   "cell_type": "code",
   "execution_count": null,
   "metadata": {
    "id": "vZRYkJ7fVXDv"
   },
   "outputs": [],
   "source": []
  }
 ],
 "metadata": {
  "accelerator": "GPU",
  "colab": {
   "collapsed_sections": [],
   "name": "hw4.ipynb",
   "provenance": []
  },
  "kernelspec": {
   "display_name": "Python 3",
   "language": "python",
   "name": "python3"
  },
  "language_info": {
   "codemirror_mode": {
    "name": "ipython",
    "version": 3
   },
   "file_extension": ".py",
   "mimetype": "text/x-python",
   "name": "python",
   "nbconvert_exporter": "python",
   "pygments_lexer": "ipython3",
   "version": "3.7.4"
  }
 },
 "nbformat": 4,
 "nbformat_minor": 1
}
