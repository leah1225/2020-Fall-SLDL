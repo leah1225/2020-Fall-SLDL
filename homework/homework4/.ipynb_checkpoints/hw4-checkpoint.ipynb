{
 "cells": [
  {
   "cell_type": "code",
   "execution_count": 19,
   "metadata": {},
   "outputs": [],
   "source": [
    "# load packages\n",
    "%matplotlib inline\n",
    "import pickle\n",
    "import numpy as np\n",
    "import pandas as pd\n",
    "import torch\n",
    "from sklearn import preprocessing\n",
    "from livelossplot import PlotLosses"
   ]
  },
  {
   "cell_type": "code",
   "execution_count": 2,
   "metadata": {},
   "outputs": [
    {
     "name": "stdout",
     "output_type": "stream",
     "text": [
      "X_train shape =  (463715, 90)\n",
      "X_subtrain shape =  (417344, 90)\n",
      "X_valid shape =  (46371, 90)\n",
      "Y_subtrain shape =  (417344,)\n",
      "Y_valid shape =  (46371,)\n",
      "X_test shape =  (51630, 90)\n"
     ]
    }
   ],
   "source": [
    "# Load data\n",
    "with open('data/msd_full.pickle', 'rb') as fh1:\n",
    "    msd_data = pickle.load(fh1)\n",
    "\n",
    "doscaling = 1\n",
    "if (doscaling == 1):\n",
    "    xscaler = preprocessing.StandardScaler().fit(msd_data['X_train'])\n",
    "    #standardize feature values\n",
    "    X_train = xscaler.transform(msd_data['X_train'])\n",
    "    X_test = xscaler.transform(msd_data['X_test'])\n",
    "else:\n",
    "    X_train = msd_data['X_train']\n",
    "    X_test = msd_data['X_test']\n",
    "\n",
    "Y_train = msd_data['Y_train']\n",
    "Y_test = msd_data['Y_test'].astype('float32')\n",
    "X_test = X_test.astype('float32')\n",
    "\n",
    "y_mean = Y_train.mean()\n",
    "Y_train_keep = Y_train.copy()\n",
    "Y_test_keep = Y_test.copy()\n",
    "Y_train = Y_train - y_mean\n",
    "Y_test = Y_test - y_mean\n",
    "\n",
    "\n",
    "#validation is the last 10% of training, subtraining is the first 90% of training\n",
    "nvalid = int(X_train.shape[0] * 0.1)\n",
    "nsubtrain = X_train.shape[0] - nvalid\n",
    "\n",
    "X_subtrain = X_train[0:nsubtrain, :].astype('float32')\n",
    "X_valid = X_train[nsubtrain:, :].astype('float32')\n",
    "Y_subtrain = Y_train[0:nsubtrain].astype('float32')\n",
    "Y_valid = Y_train[nsubtrain:].astype('float32')\n",
    "\n",
    "Y_subtrain_keep = Y_train_keep[0:nsubtrain].astype('float32')\n",
    "Y_valid_keep = Y_train_keep[nsubtrain:].astype('float32')\n",
    "\n",
    "print(\"X_train shape = \", X_train.shape)\n",
    "print(\"X_subtrain shape = \", X_subtrain.shape)\n",
    "print(\"X_valid shape = \", X_valid.shape)\n",
    "print(\"Y_subtrain shape = \", Y_subtrain.shape)\n",
    "print(\"Y_valid shape = \", Y_valid.shape)\n",
    "print(\"X_test shape = \", X_test.shape)"
   ]
  },
  {
   "cell_type": "markdown",
   "metadata": {},
   "source": [
    "## Q1. Ordinary Least Square"
   ]
  },
  {
   "cell_type": "code",
   "execution_count": 3,
   "metadata": {},
   "outputs": [],
   "source": [
    "import statsmodels.api as sm\n",
    "from statsmodels.tools.eval_measures import rmse"
   ]
  },
  {
   "cell_type": "code",
   "execution_count": 4,
   "metadata": {},
   "outputs": [],
   "source": [
    "# Train\n",
    "X_train_withconst = sm.add_constant(X_train)\n",
    "model = sm.OLS(Y_train,X_train_withconst).fit()"
   ]
  },
  {
   "cell_type": "code",
   "execution_count": 5,
   "metadata": {},
   "outputs": [
    {
     "name": "stdout",
     "output_type": "stream",
     "text": [
      "前五個特徵的參數: [ 5.30975265 -2.88088114 -1.53234348  0.05737583 -0.33952889]\n"
     ]
    }
   ],
   "source": [
    "# coef\n",
    "print('前五個特徵的參數:', model.params[1:6])"
   ]
  },
  {
   "cell_type": "code",
   "execution_count": 7,
   "metadata": {},
   "outputs": [
    {
     "name": "stdout",
     "output_type": "stream",
     "text": [
      "RMSE: 9.510160684544399\n"
     ]
    }
   ],
   "source": [
    "# Predict\n",
    "X_test_withconst = sm.add_constant(X_test)\n",
    "ypred = model.predict(X_test_withconst)\n",
    "\n",
    "# RMSE\n",
    "print('RMSE:',rmse(Y_test, ypred))"
   ]
  },
  {
   "cell_type": "markdown",
   "metadata": {},
   "source": [
    "## Q2. Multilayer Perceptron"
   ]
  },
  {
   "cell_type": "code",
   "execution_count": 3,
   "metadata": {},
   "outputs": [],
   "source": [
    "from torch.utils import data"
   ]
  },
  {
   "cell_type": "code",
   "execution_count": 4,
   "metadata": {},
   "outputs": [],
   "source": [
    "class Dataset(data.Dataset):\n",
    "    \n",
    "    def __init__(self, Xnp, Ynp):\n",
    "        'Initialization, passing Xnp and Ynp'\n",
    "        self.labels = Ynp\n",
    "        self.nobs = Xnp.shape[0]        \n",
    "        self.Xnp = Xnp\n",
    "        self.Ynp = Ynp\n",
    "    \n",
    "    def __len__(self):\n",
    "        'Denotes the total number of samples'\n",
    "        return self.nobs\n",
    "    \n",
    "    def __getitem__(self, index):\n",
    "        'Generates one sample of data'        \n",
    "        X = self.Xnp[index]\n",
    "        y = self.Ynp[index]\n",
    "        return X, y"
   ]
  },
  {
   "cell_type": "markdown",
   "metadata": {},
   "source": [
    "### Create Dataloader"
   ]
  },
  {
   "cell_type": "code",
   "execution_count": 5,
   "metadata": {},
   "outputs": [],
   "source": [
    "trainset = Dataset(X_train, Y_train)\n",
    "subtrainset = Dataset(X_subtrain, Y_subtrain)    \n",
    "validset = Dataset(X_valid, Y_valid)\n",
    "testset = Dataset(X_test, Y_test)"
   ]
  },
  {
   "cell_type": "code",
   "execution_count": 6,
   "metadata": {},
   "outputs": [],
   "source": [
    "trainloader = data.DataLoader(trainset, batch_size=1000, shuffle=True, num_workers=0)\n",
    "subtrainloader = data.DataLoader(subtrainset, batch_size=1000, shuffle=True, num_workers=0)\n",
    "validloader = data.DataLoader(validset, batch_size=5000, shuffle=True, num_workers=0)\n",
    "testloader = data.DataLoader(testset, batch_size=10000, shuffle=True, num_workers=0)"
   ]
  },
  {
   "cell_type": "markdown",
   "metadata": {},
   "source": [
    "### Create MLP"
   ]
  },
  {
   "cell_type": "code",
   "execution_count": 7,
   "metadata": {},
   "outputs": [],
   "source": [
    "# For validation\n",
    "def valid(net, sse_fn = torch.nn.MSELoss(reduction='sum')):\n",
    "    \n",
    "    loss = 0\n",
    "    nobs = 0\n",
    "    rmse = 0\n",
    "    \n",
    "    net.eval()\n",
    "    with torch.no_grad():\n",
    "        for batch_idx, (inputs, targets) in enumerate(validloader):\n",
    "            inputs, targets = inputs.to(device), targets.to(device)\n",
    "            targets = targets.reshape((-1, 1))\n",
    "            outputs = net(inputs)\n",
    "            sse = sse_fn(outputs, targets)\n",
    "            loss += sse.item()\n",
    "            nobs += inputs.shape[0]\n",
    "        \n",
    "    rmse = np.sqrt(loss/nobs)\n",
    "    return rmse"
   ]
  },
  {
   "cell_type": "code",
   "execution_count": 8,
   "metadata": {},
   "outputs": [],
   "source": [
    "# For test\n",
    "def test(net, sse_fn = torch.nn.MSELoss(reduction='sum')):\n",
    "    loss = 0\n",
    "    nobs = 0\n",
    "    rmse = 0\n",
    "    \n",
    "    net.eval()\n",
    "    with torch.no_grad():\n",
    "        for batch_idx, (inputs, targets) in enumerate(testloader):\n",
    "            inputs, targets = inputs.to(device), targets.to(device)\n",
    "            targets = targets.reshape((-1, 1))\n",
    "            outputs = net(inputs)\n",
    "            sse = sse_fn(outputs, targets)\n",
    "            loss += sse.item()\n",
    "            nobs += inputs.shape[0]\n",
    "    \n",
    "    rmse = np.sqrt(loss/nobs)\n",
    "    print('Test RMSE =', rmse)"
   ]
  },
  {
   "cell_type": "code",
   "execution_count": 9,
   "metadata": {},
   "outputs": [],
   "source": [
    "def train(net, optimizer, loss_fn = torch.nn.MSELoss(reduction='sum'), \n",
    "          sse_fn = torch.nn.MSELoss(reduction='sum')):\n",
    "    \n",
    "    nepoch = 100\n",
    "    patient = 5000\n",
    "    plot_interval = 100\n",
    "    \n",
    "    # RMSE plot\n",
    "    liveloss = PlotLosses(step_names = \"# of batchs\")\n",
    "    \n",
    "    best_valid_rmse = float(\"inf\")\n",
    "    step_count = 0\n",
    "    train_loss = 0\n",
    "    train_loss_count = 0\n",
    "    stop_training = False\n",
    "    best_step_count = 0\n",
    "    best_state = dict()\n",
    "    \n",
    "    for epoch_id in range(0, nepoch):\n",
    "        if stop_training:\n",
    "            break\n",
    "            \n",
    "        for batch_idx, (inputs, targets) in enumerate(subtrainloader):\n",
    "            net.train()\n",
    "            \n",
    "            targets = targets.reshape((-1, 1))\n",
    "            step_count += 1\n",
    "            \n",
    "            inputs, targets = inputs.to(device), targets.to(device)\n",
    "            optimizer.zero_grad()\n",
    "            outputs = net(inputs)\n",
    "            \n",
    "            loss = loss_fn(outputs, targets)\n",
    "            loss.backward()\n",
    "            optimizer.step()\n",
    "            \n",
    "            # calculate training loss\n",
    "            sse = sse_fn(outputs, targets)\n",
    "            train_loss += sse.item()\n",
    "            train_loss_count += inputs.shape[0]\n",
    "            \n",
    "            if batch_idx % plot_interval == 0:\n",
    "                # training RMSE\n",
    "                logs = {}\n",
    "                logs['rmse'] = np.sqrt(train_loss / train_loss_count)\n",
    "                train_loss = 0\n",
    "                train_loss_count = 0\n",
    "                \n",
    "                # do validation\n",
    "                valid_rmse = valid(net)\n",
    "                \n",
    "                logs['val_rmse'] = valid_rmse\n",
    "                \n",
    "                # update RMSE plot\n",
    "                liveloss.update(logs)\n",
    "                liveloss.send()\n",
    "                \n",
    "                if valid_rmse < best_valid_rmse:\n",
    "                    best_valid_rmse = valid_rmse\n",
    "                    best_step_count = step_count\n",
    "                    best_state = {'net': net.state_dict(),\n",
    "                                  'rmse': valid_rmse,\n",
    "                                  'step_count': step_count,}\n",
    "                    \n",
    "                if step_count > (best_step_count + patient):\n",
    "                    stop_training = True\n",
    "                    break\n",
    "    \n",
    "    net.load_state_dict(best_state['net'])\n",
    "    test(net)"
   ]
  },
  {
   "cell_type": "code",
   "execution_count": 13,
   "metadata": {},
   "outputs": [],
   "source": [
    "D_in = trainset.Xnp.shape[1]\n",
    "H = 45\n",
    "D_out = 1\n",
    "\n",
    "device = \"cpu\"\n",
    "\n",
    "net = torch.nn.Sequential(\n",
    "        torch.nn.Linear(D_in, H),  \n",
    "        torch.nn.ReLU(), \n",
    "        torch.nn.Linear(H, H),\n",
    "        torch.nn.ReLU(), \n",
    "        torch.nn.Linear(H, H),\n",
    "        torch.nn.ReLU(), \n",
    "        torch.nn.Linear(H, H),\n",
    "        torch.nn.ReLU(), \n",
    "        torch.nn.Linear(H, D_out))\n",
    "\n",
    "net = net.float()\n",
    "net = net.to(device)\n",
    "\n",
    "optimizer = torch.optim.SGD(net.parameters(), lr=0.00001, momentum=0, weight_decay = 0)\n",
    "loss_fn = torch.nn.MSELoss(reduction='sum')"
   ]
  },
  {
   "cell_type": "code",
   "execution_count": 11,
   "metadata": {},
   "outputs": [
    {
     "data": {
      "image/png": "[encoded data removed]",
      "text/plain": [
       "<Figure size 864x576 with 2 Axes>"
      ]
     },
     "metadata": {
      "needs_background": "light"
     },
     "output_type": "display_data"
    },
    {
     "name": "stdout",
     "output_type": "stream",
     "text": [
      "rmse\n",
      "\ttraining         \t (min:    8.243, max:   10.930, cur:    8.337)\n",
      "\tvalidation       \t (min:    8.551, max:   10.922, cur:    8.716)\n",
      "Test RMSE = 9.084758692098365\n"
     ]
    }
   ],
   "source": [
    "train(net, optimizer)"
   ]
  },
  {
   "cell_type": "markdown",
   "metadata": {},
   "source": [
    "在圖形後段可以看出Training RMSE低於Validation RMSE的狀況，代表模型有出現Overfitting的問題。"
   ]
  },
  {
   "cell_type": "markdown",
   "metadata": {},
   "source": [
    "## Q.3 討論H = 45, 90, 180的Test RMSE"
   ]
  },
  {
   "cell_type": "code",
   "execution_count": 10,
   "metadata": {},
   "outputs": [],
   "source": [
    "# train model without plot\n",
    "def train_no_plot(net, optimizer, loss_fn = torch.nn.MSELoss(reduction='sum'), \n",
    "          sse_fn = torch.nn.MSELoss(reduction='sum')):\n",
    "    \n",
    "    nepoch = 100\n",
    "    patient = 5000\n",
    "    plot_interval = 100\n",
    "    \n",
    "    best_valid_rmse = float(\"inf\")\n",
    "    step_count = 0\n",
    "    train_loss = 0\n",
    "    train_loss_count = 0\n",
    "    stop_training = False\n",
    "    best_step_count = 0\n",
    "    best_state = dict()\n",
    "    \n",
    "    for epoch_id in range(0, nepoch):\n",
    "        if stop_training:\n",
    "            break\n",
    "            \n",
    "        for batch_idx, (inputs, targets) in enumerate(subtrainloader):\n",
    "            net.train()\n",
    "            \n",
    "            targets = targets.reshape((-1, 1))\n",
    "            step_count += 1\n",
    "            \n",
    "            inputs, targets = inputs.to(device), targets.to(device)\n",
    "            optimizer.zero_grad()\n",
    "            outputs = net(inputs)\n",
    "            \n",
    "            loss = loss_fn(outputs, targets)\n",
    "            loss.backward()\n",
    "            optimizer.step()\n",
    "            \n",
    "            # calculate training loss\n",
    "            sse = sse_fn(outputs, targets)\n",
    "            train_loss += sse.item()\n",
    "            train_loss_count += inputs.shape[0]\n",
    "            \n",
    "            if batch_idx % plot_interval == 0:\n",
    "                # training RMSE\n",
    "                logs = {}\n",
    "                logs['rmse'] = np.sqrt(train_loss / train_loss_count)\n",
    "                train_loss = 0\n",
    "                train_loss_count = 0\n",
    "                \n",
    "                # do validation\n",
    "                valid_rmse = valid(net)\n",
    "                logs['val_rmse'] = valid_rmse\n",
    "                \n",
    "                if valid_rmse < best_valid_rmse:\n",
    "                    best_valid_rmse = valid_rmse\n",
    "                    best_step_count = step_count\n",
    "                    best_state = {'net': net.state_dict(),\n",
    "                                  'rmse': valid_rmse,\n",
    "                                  'step_count': step_count,}\n",
    "                    \n",
    "                if step_count > (best_step_count + patient):\n",
    "                    stop_training = True\n",
    "                    break\n",
    "    \n",
    "    net.load_state_dict(best_state['net'])\n",
    "    test(net)"
   ]
  },
  {
   "cell_type": "code",
   "execution_count": 14,
   "metadata": {},
   "outputs": [
    {
     "name": "stdout",
     "output_type": "stream",
     "text": [
      "H =  90 :\n",
      "Test RMSE = 8.927460342518902\n",
      "H =  180 :\n",
      "Test RMSE = 9.121074894934715\n"
     ]
    }
   ],
   "source": [
    "Hs = [90, 180]\n",
    "\n",
    "for H in Hs:\n",
    "    net = torch.nn.Sequential(\n",
    "        torch.nn.Linear(D_in, H),  \n",
    "        torch.nn.ReLU(), \n",
    "        torch.nn.Linear(H, H),\n",
    "        torch.nn.ReLU(), \n",
    "        torch.nn.Linear(H, H),\n",
    "        torch.nn.ReLU(), \n",
    "        torch.nn.Linear(H, H),\n",
    "        torch.nn.ReLU(), \n",
    "        torch.nn.Linear(H, D_out))\n",
    "\n",
    "    net = net.float()\n",
    "    net = net.to(device)\n",
    "\n",
    "    optimizer = torch.optim.SGD(net.parameters(), lr=0.00001, momentum=0, weight_decay = 0)\n",
    "    loss_fn = torch.nn.MSELoss(reduction='sum')\n",
    "\n",
    "    print('H = ', H)\n",
    "    train_no_plot(net, optimizer)"
   ]
  },
  {
   "cell_type": "markdown",
   "metadata": {},
   "source": [
    "- 表現結果由好到壞依序為：H = 90、H = 45、H = 180\n",
    "- 以RMSE的數值而言，這三種H的表現並沒有非常顯著的差異\n",
    "- 推測H的大小對這個數值區間的影響不大\n",
    "- 也可能是因為模型估計的隨機性而造成這個結果"
   ]
  },
  {
   "cell_type": "markdown",
   "metadata": {},
   "source": [
    "## Q.4 考慮H = 45, 90, 180與Weight Decay = 0.1, 0.2, 0.4的所有組合"
   ]
  },
  {
   "cell_type": "markdown",
   "metadata": {},
   "source": [
    "- 模型估計後做表整理Test RMSE，討論H的選擇應為多少較合理?"
   ]
  },
  {
   "cell_type": "code",
   "execution_count": 16,
   "metadata": {},
   "outputs": [
    {
     "name": "stdout",
     "output_type": "stream",
     "text": [
      "H = 45 , Weight = 0.1\n",
      "Test RMSE = 8.896010563184845\n",
      "H = 45 , Weight = 0.2\n",
      "Test RMSE = 9.003123684523619\n",
      "H = 45 , Weight = 0.4\n",
      "Test RMSE = 8.914293133530087\n",
      "H = 90 , Weight = 0.1\n",
      "Test RMSE = 9.124534909970023\n",
      "H = 90 , Weight = 0.2\n",
      "Test RMSE = 9.019407765026626\n",
      "H = 90 , Weight = 0.4\n",
      "Test RMSE = 8.996692694150706\n",
      "H = 180 , Weight = 0.1\n",
      "Test RMSE = 9.439185790088992\n",
      "H = 180 , Weight = 0.2\n",
      "Test RMSE = 9.128731304592911\n",
      "H = 180 , Weight = 0.4\n",
      "Test RMSE = 9.111272803646031\n"
     ]
    }
   ],
   "source": [
    "weights = [0.1, 0.2, 0.4]\n",
    "Hs = [45, 90, 180]\n",
    "\n",
    "for H in Hs:\n",
    "    for w in weights:\n",
    "        net = torch.nn.Sequential(\n",
    "            torch.nn.Linear(D_in, H),  \n",
    "            torch.nn.ReLU(), \n",
    "            torch.nn.Linear(H, H),\n",
    "            torch.nn.ReLU(), \n",
    "            torch.nn.Linear(H, H),\n",
    "            torch.nn.ReLU(), \n",
    "            torch.nn.Linear(H, H),\n",
    "            torch.nn.ReLU(), \n",
    "            torch.nn.Linear(H, D_out))\n",
    "\n",
    "        net = net.float()\n",
    "        net = net.to(device)\n",
    "\n",
    "        optimizer = torch.optim.SGD(net.parameters(), lr=0.00001, momentum=0, weight_decay = w)\n",
    "        loss_fn = torch.nn.MSELoss(reduction='sum')\n",
    "\n",
    "        print('H =', H, ',', 'Weight =', w)\n",
    "        train_no_plot(net, optimizer)"
   ]
  },
  {
   "cell_type": "code",
   "execution_count": 22,
   "metadata": {},
   "outputs": [
    {
     "data": {
      "text/html": [
       "<div>\n",
       "<style scoped>\n",
       "    .dataframe tbody tr th:only-of-type {\n",
       "        vertical-align: middle;\n",
       "    }\n",
       "\n",
       "    .dataframe tbody tr th {\n",
       "        vertical-align: top;\n",
       "    }\n",
       "\n",
       "    .dataframe thead th {\n",
       "        text-align: right;\n",
       "    }\n",
       "</style>\n",
       "<table border=\"1\" class=\"dataframe\">\n",
       "  <thead>\n",
       "    <tr style=\"text-align: right;\">\n",
       "      <th></th>\n",
       "      <th>W = 0.1</th>\n",
       "      <th>W = 0.2</th>\n",
       "      <th>W = 0.4</th>\n",
       "    </tr>\n",
       "  </thead>\n",
       "  <tbody>\n",
       "    <tr>\n",
       "      <th>45</th>\n",
       "      <td>8.89601</td>\n",
       "      <td>9.00312</td>\n",
       "      <td>8.91430</td>\n",
       "    </tr>\n",
       "    <tr>\n",
       "      <th>90</th>\n",
       "      <td>9.12453</td>\n",
       "      <td>9.01941</td>\n",
       "      <td>8.99669</td>\n",
       "    </tr>\n",
       "    <tr>\n",
       "      <th>180</th>\n",
       "      <td>9.43919</td>\n",
       "      <td>9.12873</td>\n",
       "      <td>9.11127</td>\n",
       "    </tr>\n",
       "  </tbody>\n",
       "</table>\n",
       "</div>"
      ],
      "text/plain": [
       "     W = 0.1  W = 0.2  W = 0.4\n",
       "45   8.89601  9.00312  8.91430\n",
       "90   9.12453  9.01941  8.99669\n",
       "180  9.43919  9.12873  9.11127"
      ]
     },
     "execution_count": 22,
     "metadata": {},
     "output_type": "execute_result"
    }
   ],
   "source": [
    "data={\"W = 0.1\":[8.89601,9.12453,9.43919], \"W = 0.2\":[9.00312,9.01941,9.12873], \"W = 0.4\":[8.91430,8.99669,9.11127]}\n",
    "df=pd.DataFrame(data,index=[\"45\",\"90\",\"180\"] )\n",
    "df"
   ]
  },
  {
   "cell_type": "markdown",
   "metadata": {},
   "source": [
    "不論weight等於多少，H = 45的表現結果都是最佳的，應該選擇45作為H的數值"
   ]
  },
  {
   "cell_type": "markdown",
   "metadata": {},
   "source": [
    "## Q.5 MLP with Dropout"
   ]
  },
  {
   "cell_type": "code",
   "execution_count": 24,
   "metadata": {},
   "outputs": [],
   "source": [
    "D_in = trainset.Xnp.shape[1]\n",
    "H = 90\n",
    "D_out = 1\n",
    "\n",
    "device = \"cpu\"\n",
    "\n",
    "net = torch.nn.Sequential(\n",
    "        torch.nn.Linear(D_in, H),  \n",
    "        torch.nn.ReLU(),\n",
    "        torch.nn.Dropout(p = 0.5),\n",
    "        torch.nn.Linear(H, H),\n",
    "        torch.nn.ReLU(),\n",
    "        torch.nn.Dropout(p = 0.5),\n",
    "        torch.nn.Linear(H, H),\n",
    "        torch.nn.ReLU(), \n",
    "        torch.nn.Dropout(p = 0.5),\n",
    "        torch.nn.Linear(H, H),\n",
    "        torch.nn.ReLU(), \n",
    "        torch.nn.Dropout(p = 0.5),\n",
    "        torch.nn.Linear(H, D_out))\n",
    "\n",
    "net = net.float()\n",
    "net = net.to(device)\n",
    "\n",
    "optimizer = torch.optim.Adam(net.parameters(), lr=0.001, weight_decay = 0)\n",
    "loss_fn = torch.nn.MSELoss(reduction='sum')"
   ]
  },
  {
   "cell_type": "code",
   "execution_count": 25,
   "metadata": {},
   "outputs": [
    {
     "data": {
      "image/png": "[encoded data removed]",
      "text/plain": [
       "<Figure size 864x576 with 2 Axes>"
      ]
     },
     "metadata": {
      "needs_background": "light"
     },
     "output_type": "display_data"
    },
    {
     "name": "stdout",
     "output_type": "stream",
     "text": [
      "rmse\n",
      "\ttraining         \t (min:    8.587, max:   10.943, cur:    8.759)\n",
      "\tvalidation       \t (min:    8.574, max:   10.921, cur:    8.590)\n",
      "Test RMSE = 8.750417080414097\n"
     ]
    }
   ],
   "source": [
    "train(net, optimizer)"
   ]
  },
  {
   "cell_type": "markdown",
   "metadata": {},
   "source": [
    "從圖形來看，整個訓練過程中並沒有出現Training RMSE低於Validation RMSE的狀況，可見Dropout可以有效得處理Overfitting的問題"
   ]
  },
  {
   "cell_type": "markdown",
   "metadata": {},
   "source": [
    "## Q.6 Explore Number of Hidden Units"
   ]
  },
  {
   "cell_type": "code",
   "execution_count": 29,
   "metadata": {},
   "outputs": [
    {
     "name": "stdout",
     "output_type": "stream",
     "text": [
      "H = 20\n",
      "Test RMSE = 9.120822767538929\n",
      "H = 45\n",
      "Test RMSE = 8.859347583013617\n",
      "H = 180\n",
      "Test RMSE = 8.743391252006145\n",
      "H = 360\n",
      "Test RMSE = 8.745450208879733\n"
     ]
    }
   ],
   "source": [
    "Hs = [20, 45, 180, 360]\n",
    "\n",
    "for H in Hs:\n",
    "    net = torch.nn.Sequential(\n",
    "        torch.nn.Linear(D_in, H),  \n",
    "        torch.nn.ReLU(),\n",
    "        torch.nn.Dropout(p = 0.5),\n",
    "        torch.nn.Linear(H, H),\n",
    "        torch.nn.ReLU(),\n",
    "        torch.nn.Dropout(p = 0.5),\n",
    "        torch.nn.Linear(H, H),\n",
    "        torch.nn.ReLU(), \n",
    "        torch.nn.Dropout(p = 0.5),\n",
    "        torch.nn.Linear(H, H),\n",
    "        torch.nn.ReLU(), \n",
    "        torch.nn.Dropout(p = 0.5),\n",
    "        torch.nn.Linear(H, D_out))\n",
    "\n",
    "    net = net.float()\n",
    "    net = net.to(device)\n",
    "\n",
    "    optimizer = torch.optim.Adam(net.parameters(), lr=0.001, weight_decay = 0)\n",
    "    loss_fn = torch.nn.MSELoss(reduction='sum')\n",
    "\n",
    "    print('H =', H)\n",
    "    train_no_plot(net, optimizer)"
   ]
  },
  {
   "cell_type": "code",
   "execution_count": null,
   "metadata": {},
   "outputs": [],
   "source": []
  }
 ],
 "metadata": {
  "kernelspec": {
   "display_name": "Python 3",
   "language": "python",
   "name": "python3"
  },
  "language_info": {
   "codemirror_mode": {
    "name": "ipython",
    "version": 3
   },
   "file_extension": ".py",
   "mimetype": "text/x-python",
   "name": "python",
   "nbconvert_exporter": "python",
   "pygments_lexer": "ipython3",
   "version": "3.7.4"
  }
 },
 "nbformat": 4,
 "nbformat_minor": 2
}
