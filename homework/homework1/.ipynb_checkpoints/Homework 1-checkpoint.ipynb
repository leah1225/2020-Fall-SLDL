{
 "cells": [
  {
   "cell_type": "markdown",
   "metadata": {},
   "source": [
    "# 第一題 [myknn_regressor]"
   ]
  },
  {
   "cell_type": "code",
   "execution_count": 3,
   "metadata": {},
   "outputs": [],
   "source": [
    "import pickle\n",
    "from sklearn import preprocessing\n",
    "import numpy as np\n",
    "import matplotlib.pyplot as plt\n",
    "\n",
    "#Load data\n",
    "with open('msd_data1.pickle', 'rb') as fh1:\n",
    "    msd_data = pickle.load(fh1)\n",
    "\n",
    "doscaling = 1\n",
    "\n",
    "if (doscaling == 1):\n",
    "    xscaler = preprocessing.StandardScaler().fit(msd_data['X_train'])\n",
    "    #standardize feature values\n",
    "    X_train = xscaler.transform(msd_data['X_train'])\n",
    "    X_test = xscaler.transform(msd_data['X_test'])\n",
    "else:\n",
    "    X_train = msd_data['X_train']\n",
    "    X_test = msd_data['X_test']\n",
    "\n",
    "Y_train = msd_data['Y_train']\n",
    "Y_test = msd_data['Y_test']\n",
    "\n",
    "def standardization(data):\n",
    "    mean = np.mean(data, axis = 0)\n",
    "    sigma = np.std(data, axis = 0)\n",
    "    return (data - mean)/sigma"
   ]
  },
  {
   "cell_type": "markdown",
   "metadata": {},
   "source": [
    "## Q1.1 Create your myknn_regressor based on the skeleton."
   ]
  },
  {
   "cell_type": "code",
   "execution_count": 4,
   "metadata": {},
   "outputs": [],
   "source": [
    "class myknn_regressor():\n",
    "    def __init__(self, n_neighbors = 10, mean_type = \"equal_weight\"):\n",
    "        \"\"\"mean_type can be equal_weight or remove_outliers.\n",
    "                              equal_weight use the same weight for all neighbors.\n",
    "                              remove_outliers remove neighbors out in [Q1 - 1.5 IQR, Q3 - 1.5IQR].\"\"\"\n",
    "        self.k = n_neighbors\n",
    "        self.option = mean_type\n",
    "\n",
    "    def fit(self, x_train, y_train):\n",
    "        #寫東西接住傳入值\n",
    "        self.x_train = x_train\n",
    "        self.y_train = y_train\n",
    "\n",
    "    def predict(self, x_test):\n",
    "        \"\"\"use remove_outliers only if k>=10\"\"\"\n",
    "        #計算在這裡\n",
    "        ans = np.zeros(x_test.shape[0])\n",
    "        \n",
    "        if self.k < 10:\n",
    "            self.option = \"equal_weight\"\n",
    "                \n",
    "        if self.option == \"remove_outliers\":\n",
    "            q1 = np.quantile(self.y_train, 0.25)\n",
    "            q3 = np.quantile(self.y_train, 0.75)\n",
    "            IQR = q3 - q1\n",
    "            l_bound = q1 - 1.5*IQR\n",
    "            u_bound = q3 + 1.5*IQR\n",
    "            self.x_train = self.x_train[np.where((l_bound < self.y_train ) & (u_bound > self.y_train ))]\n",
    "            self.y_train = self.y_train[np.where((l_bound < self.y_train ) & (u_bound > self.y_train ))]\n",
    "            \n",
    "        for i in range(x_test.shape[0]):\n",
    "            dist = np.sqrt(np.square(x_test[i] - self.x_train).sum(axis = 1))\n",
    "            ans[i] = np.mean(self.y_train[np.argpartition(dist,self.k)[:self.k]]) #find the nearest k ones' indices\n",
    "            \n",
    "        return ans"
   ]
  },
  {
   "cell_type": "markdown",
   "metadata": {},
   "source": [
    "## Q1.2 Make predictions using 𝑘=20 and \"equal_weight\"."
   ]
  },
  {
   "cell_type": "code",
   "execution_count": 4,
   "metadata": {},
   "outputs": [],
   "source": [
    "myknn1 = myknn_regressor(20, \"equal_weight\")\n",
    "myknn1.fit(standardization(X_train), Y_train)\n",
    "ypred1 = myknn1.predict(standardization(X_test))"
   ]
  },
  {
   "cell_type": "code",
   "execution_count": 9,
   "metadata": {},
   "outputs": [
    {
     "name": "stdout",
     "output_type": "stream",
     "text": [
      "List the first 20 predictions:\n",
      "[1992.9  1994.05 2000.05 1991.5  1992.8  1998.5  1987.1  1990.9  2001.8\n",
      " 2003.   2001.15 1998.65 1995.55 1997.2  1995.05 1997.35 1992.15 1999.1\n",
      " 2003.6  1995.75]\n"
     ]
    }
   ],
   "source": [
    "#List the first 20 predictions\n",
    "print(\"List the first 20 predictions:\")\n",
    "print(ypred1[:20])"
   ]
  },
  {
   "cell_type": "code",
   "execution_count": 12,
   "metadata": {},
   "outputs": [
    {
     "name": "stdout",
     "output_type": "stream",
     "text": [
      "RMSE = 10.292158827638316\n"
     ]
    }
   ],
   "source": [
    "#RMSE\n",
    "print(\"RMSE =\",np.sqrt(np.square(ypred1 - Y_test).mean()))"
   ]
  },
  {
   "cell_type": "markdown",
   "metadata": {},
   "source": [
    "## Q1.3 Make predictions using 𝑘=20 and \"remove_outliers\"."
   ]
  },
  {
   "cell_type": "code",
   "execution_count": 10,
   "metadata": {},
   "outputs": [],
   "source": [
    "myknn2 = myknn_regressor(20, \"remove_outliers\")\n",
    "myknn2.fit(standardization(X_train), Y_train)\n",
    "ypred2 = myknn1.predict(standardization(X_test))"
   ]
  },
  {
   "cell_type": "code",
   "execution_count": 11,
   "metadata": {},
   "outputs": [
    {
     "name": "stdout",
     "output_type": "stream",
     "text": [
      "List the first 20 predictions:\n",
      "[1992.9  1994.05 2000.05 1991.5  1992.8  1998.5  1987.1  1990.9  2001.8\n",
      " 2003.   2001.15 1998.65 1995.55 1997.2  1995.05 1997.35 1992.15 1999.1\n",
      " 2003.6  1995.75]\n"
     ]
    }
   ],
   "source": [
    "#List the first 20 predictions\n",
    "print(\"List the first 20 predictions:\")\n",
    "print(ypred2[:20])"
   ]
  },
  {
   "cell_type": "code",
   "execution_count": 14,
   "metadata": {},
   "outputs": [
    {
     "name": "stdout",
     "output_type": "stream",
     "text": [
      "RMSE = 10.292158827638316\n"
     ]
    }
   ],
   "source": [
    "#RMSE\n",
    "print(\"RMSE =\", np.sqrt(np.square(ypred2 - Y_test).mean()))"
   ]
  },
  {
   "cell_type": "markdown",
   "metadata": {},
   "source": [
    "# 第二題 [Tuning the Hyper-parameter]"
   ]
  },
  {
   "cell_type": "code",
   "execution_count": 7,
   "metadata": {},
   "outputs": [],
   "source": [
    "import matplotlib.pyplot as plt\n",
    "from sklearn import neighbors\n",
    "\n",
    "𝑘_list = [1,2,3,4,5,10,15,20,25,30,35,40,45,50,55,60,80,100,120,140,160,180,200]\n",
    "\n",
    "#Case 1\n",
    "err_case1 = []\n",
    "for k in k_list:\n",
    "    knn = neighbors.KNeighborsRegressor(n_neighbors = k)\n",
    "    knn.fit(X_train, Y_train)\n",
    "    ypred3 = knn.predict(standardization(X_test))\n",
    "    err_case1.append(np.sqrt(np.square(ypred3 - Y_test).mean()))"
   ]
  },
  {
   "cell_type": "code",
   "execution_count": 8,
   "metadata": {},
   "outputs": [],
   "source": [
    "#Case 2\n",
    "𝑘_list = [1,2,3,4,5,10,15,20,25,30,35,40,45,50,55,60,80,100,120,140,160,180,200]\n",
    "err_case2 = []\n",
    "for k in k_list:\n",
    "    knn = neighbors.KNeighborsRegressor(n_neighbors = k)\n",
    "    knn.fit(X_train, Y_train)\n",
    "    ypred = knn.predict(X_test)\n",
    "    err_case2.append(np.sqrt(np.square(ypred - Y_test).mean()))"
   ]
  },
  {
   "cell_type": "code",
   "execution_count": 9,
   "metadata": {},
   "outputs": [],
   "source": [
    "#Case 3\n",
    "𝑘_list = [1,2,3,4,5,10,15,20,25,30,35,40,45,50,55,60,80,100,120,140,160,180,200]\n",
    "err_case3 = []\n",
    "for k in k_list:\n",
    "    myknn = myknn_regressor(k, \"remove_outliers\")\n",
    "    myknn.fit(standardization(X_train), Y_train)\n",
    "    ypred = myknn.predict(standardization(X_test))\n",
    "    err_case3.append(np.sqrt(np.square(ypred - Y_test).mean()))"
   ]
  },
  {
   "cell_type": "code",
   "execution_count": 10,
   "metadata": {},
   "outputs": [
    {
     "data": {
      "image/png": "[encoded data removed]",
      "text/plain": [
       "<Figure size 432x288 with 1 Axes>"
      ]
     },
     "metadata": {
      "needs_background": "light"
     },
     "output_type": "display_data"
    }
   ],
   "source": [
    "sub_axix = filter(lambda x:x%200 == 0, k_list)\n",
    "plt.title('RMSE Dynamics')\n",
    "plt.plot(k_list, err_case1, color='green', label='standardized all feature')\n",
    "plt.plot(k_list, err_case2, color='red', label='no feature scaling applied')\n",
    "plt.plot(k_list, err_case3,  color='skyblue', label='standardized all feature + remove_outlier')\n",
    "plt.legend() # 显示图例\n",
    "\n",
    "plt.xlabel('k value')\n",
    "plt.ylabel('RMSE')\n",
    "plt.show()"
   ]
  },
  {
   "cell_type": "markdown",
   "metadata": {},
   "source": [
    "### Observation\n",
    "- 由RMSE Dynamics的圖中可以發現三個不同的case在一開始時RMSE下降的速度非常接近\n",
    "- case3較早開始回升，而且RMSE降低的幅度沒有case1和case2來得多\n",
    "- case1和case2的曲線幾乎重合"
   ]
  },
  {
   "cell_type": "markdown",
   "metadata": {},
   "source": [
    "# 第三題 [Lasso Regression]"
   ]
  },
  {
   "cell_type": "markdown",
   "metadata": {},
   "source": [
    "- Q3.1 基於本題給的 𝐿 ，推導新的Coordinate Descent with Soft Thresholding公式"
   ]
  },
  {
   "cell_type": "markdown",
   "metadata": {},
   "source": [
    "![title](IMG_3996.JPG)"
   ]
  },
  {
   "cell_type": "code",
   "execution_count": 17,
   "metadata": {},
   "outputs": [],
   "source": [
    "#load the dataset, and create normalized and raw features. \n",
    "import pickle\n",
    "from sklearn import preprocessing\n",
    "import numpy as np\n",
    "import matplotlib.pyplot as plt\n",
    "np.set_printoptions(suppress=True)\n",
    "\n",
    "#Load data\n",
    "with open('msd_data1.pickle', 'rb') as fh1:\n",
    "    msd_data = pickle.load(fh1)\n",
    "\n",
    "xscaler = preprocessing.StandardScaler().fit(msd_data['X_train'])\n",
    "#standardize feature values\n",
    "X_train_sd = xscaler.transform(msd_data['X_train'])\n",
    "X_test_sd = xscaler.transform(msd_data['X_test'])\n",
    "\n",
    "#outcome values\n",
    "Y_train = msd_data['Y_train']\n",
    "Y_test = msd_data['Y_test']"
   ]
  },
  {
   "cell_type": "markdown",
   "metadata": {},
   "source": [
    "Q3.2 使用給定個骨架建構你的mylasso。"
   ]
  },
  {
   "cell_type": "code",
   "execution_count": 20,
   "metadata": {},
   "outputs": [],
   "source": [
    "class mylasso():\n",
    "    def __init__(self, lamcoef = 0.1, max_iter=1000, tol=1e-6, const_regu = False):\n",
    "        \"\"\"lamcoef: the regularization coefficient\n",
    "           max_iter: maximum number of iteration for model training\n",
    "           tol: tolerance for the stopping criteria for model training\n",
    "           const_regu: whether the constant term should be regularized, default to False\n",
    "           \"\"\"\n",
    "        self.lamcoef = lamcoef\n",
    "        self.max_iter = max_iter\n",
    "        self.tol = tol\n",
    "        self.const_regu = const_regu\n",
    "\n",
    "    def fit(self, x_train, y_train, winit = \"ridge\", keep_traindata = True, verbose = False):\n",
    "        \"\"\"Fit a Lasso model\n",
    "           x_train: a numpy matrix that contains training features\n",
    "           y_train: a numpy matrix that contains the label\n",
    "           winit: how weights are initialized, default to \"ridge\", ridge regression\n",
    "           keep_traindata: whether the object is going to keep training data after the training process completed\n",
    "           verbose: output a lot of message\"\"\"\n",
    "        m, n = x_train.shape\n",
    "        X = np.hstack((np.ones((m,1)), x_train))\n",
    "        y = y_train.reshape(-1,1)\n",
    "        self.W = np.zeros((X.shape[1], 1))\n",
    "        cost_history = np.zeros((self.max_iter, ))\n",
    "        W_history = []\n",
    "        if keep_traindata:\n",
    "            self.x_train = x_train\n",
    "\n",
    "        for i in range(1, len(cost_history)+1): #self.max_iter+1\n",
    "            y_hat = X.dot(self.W)\n",
    "            cost = np.square(y - y_hat).sum() / (2*m)\n",
    "\n",
    "            if abs(cost_history[i-1]- cost) < self.tol:\n",
    "                break\n",
    "            else:\n",
    "                gradient = self.compute_gradient(X, y_hat, y, m, self.const_regu).reshape(-1,1)\n",
    "                cost_history[i-1] = cost\n",
    "                W_history.append(self.W)\n",
    "                self.W  -= 0.05 * gradient #不知道learning rate\n",
    "        \n",
    "        self.min_loss = cost_history.min()\n",
    "        self.train_pred = X.dot(self.W) #這邊是最後的 不是最好的\n",
    "        #np.argmin(cost_history) <-最好的w的index\n",
    "        \n",
    "        \n",
    "    def sgn(self, W):\n",
    "        W = np.where(W > 0, 1, \n",
    "                     (np.where(W < 0, -1, 0)))\n",
    "        return W\n",
    "        \n",
    "    \n",
    "    def compute_gradient(self, X, y_hat, y, m, const_regu):#公式對不對\n",
    "        if const_regu == False:\n",
    "            return 1/m * np.sum((y_hat - y) * X, axis=0) + self.lamcoef*(self.sgn(self.W)).reshape(1,-1) \n",
    "        else:\n",
    "            return 1/m * np.sum((y_hat - y) * X, axis=0) + self.lamcoef*(self.sgn(self.W[0]) + self.sgn(self.W)).reshape(1,-1) \n",
    "\n",
    "    \n",
    "    def predict(self, x_test):\n",
    "        X = x_test\n",
    "        m, n = X.shape\n",
    "        X = np.hstack((np.ones((m, 1)), X))\n",
    "        y_hat = X.dot(self.W)\n",
    "        return y_hat"
   ]
  },
  {
   "cell_type": "markdown",
   "metadata": {},
   "source": [
    "Q3.3 載入資料集，並且使用訓練資料計算Lasso Regression的權重，設定lamcoef = 0.1，其他參數使用預設值。列出Training Loss、Root Mean Squared Error (RMSE) in Training Data、Mean Absolute Error (MAE) in Training Data、Intercept (截距項)、Feature Weights (除了截距項的所有權重)、非零權重的個數。為了讓結果容易閱讀，請使用np.set_printoptions(suppress=True)關閉Scientific Notation。"
   ]
  },
  {
   "cell_type": "code",
   "execution_count": 21,
   "metadata": {},
   "outputs": [
    {
     "name": "stdout",
     "output_type": "stream",
     "text": [
      "RMSE = 12.102274737051212\n",
      "MAE = 9.086725755447883\n",
      "training_loss = 47.23473711024125\n",
      "intercept = [1998.166]\n",
      "weight = [[ 4.65241098]\n",
      " [-2.45650915]\n",
      " [-1.06534361]\n",
      " [ 0.00067135]\n",
      " [-0.34169308]\n",
      " [-2.94209919]\n",
      " [-0.00013885]\n",
      " [-0.40041043]\n",
      " [-0.42643498]\n",
      " [-0.00047463]\n",
      " [-0.22969351]\n",
      " [-0.39654052]\n",
      " [ 0.50286075]\n",
      " [ 0.00166789]\n",
      " [-0.33859542]\n",
      " [ 0.62088177]\n",
      " [ 0.15602027]\n",
      " [ 0.42563494]\n",
      " [ 0.43586655]\n",
      " [ 1.12485047]\n",
      " [ 0.40789861]\n",
      " [ 0.00688091]\n",
      " [ 1.7659744 ]\n",
      " [ 0.00220918]\n",
      " [-0.16669758]\n",
      " [ 0.07675536]\n",
      " [ 0.66044016]\n",
      " [ 0.01263048]\n",
      " [ 0.15439551]\n",
      " [-0.00564649]\n",
      " [-0.21660202]\n",
      " [-0.22229231]\n",
      " [-0.00666151]\n",
      " [-0.00102963]\n",
      " [-0.01874009]\n",
      " [-0.26154533]\n",
      " [ 0.00257804]\n",
      " [ 0.29006884]\n",
      " [ 0.35020758]\n",
      " [-0.00006917]\n",
      " [-0.26028775]\n",
      " [-0.14444543]\n",
      " [-0.0098902 ]\n",
      " [ 0.03558603]\n",
      " [-0.04157684]\n",
      " [ 0.00668643]\n",
      " [ 0.00408633]\n",
      " [-0.17838952]\n",
      " [-0.00277578]\n",
      " [ 0.06505081]\n",
      " [ 0.27151831]\n",
      " [ 0.00268627]\n",
      " [ 0.00026057]\n",
      " [-0.00056869]\n",
      " [ 0.00215596]\n",
      " [ 0.003151  ]\n",
      " [-0.63594053]\n",
      " [ 0.23745533]\n",
      " [-0.19179962]\n",
      " [-0.0001036 ]\n",
      " [-0.1882245 ]\n",
      " [ 0.00672838]\n",
      " [-0.13673445]\n",
      " [ 0.06280073]\n",
      " [-0.26669141]\n",
      " [-0.00423665]\n",
      " [ 0.00390712]\n",
      " [-0.00491738]\n",
      " [-0.03406175]\n",
      " [-0.00756254]\n",
      " [-0.19415329]\n",
      " [ 0.01253492]\n",
      " [ 0.20969415]\n",
      " [ 0.25131082]\n",
      " [ 0.12230454]\n",
      " [ 0.00593926]\n",
      " [-0.0020336 ]\n",
      " [-0.53012777]\n",
      " [-0.00772828]\n",
      " [ 0.0043091 ]\n",
      " [ 0.17951157]\n",
      " [ 0.02608891]\n",
      " [ 0.25230155]\n",
      " [ 0.19366795]\n",
      " [ 0.37015295]\n",
      " [-0.00222771]\n",
      " [-0.00076909]\n",
      " [-0.29031028]\n",
      " [-0.00026227]\n",
      " [-0.00072719]]\n",
      "number of non zero weights 90\n"
     ]
    }
   ],
   "source": [
    "np.set_printoptions(suppress=True)\n",
    "mlo = mylasso()\n",
    "mlo.fit(X_train_sd, Y_train)\n",
    "\n",
    "train_pred = mlo.train_pred\n",
    "RMSE = np.sqrt(np.mean(np.square(Y_train - train_pred)))\n",
    "MAE = np.mean(abs(Y_train - train_pred))\n",
    "training_loss = mlo.min_loss #不確定是哪個loss\n",
    "non_zero_num = len(np.nonzero(mlo.W[1:])[0])\n",
    "print(f'RMSE = {RMSE}')\n",
    "print(f'MAE = {MAE}')\n",
    "print(f'training_loss = {training_loss}')\n",
    "print(f'intercept = {mlo.W[0]}')\n",
    "print(f'weight = {mlo.W[1:]}')\n",
    "print(f'number of non zero weights {non_zero_num}')"
   ]
  },
  {
   "cell_type": "markdown",
   "metadata": {},
   "source": [
    "Q3.4 使用上一小題的模型計算測試資料的預測值。列出前五筆資料的預測年分、Test RMSE、Test MAE。  "
   ]
  },
  {
   "cell_type": "code",
   "execution_count": 22,
   "metadata": {},
   "outputs": [
    {
     "name": "stdout",
     "output_type": "stream",
     "text": [
      "列出前五筆資料的預測年分\n",
      " [[1991.83211493]\n",
      " [1998.97508777]\n",
      " [2001.65510636]\n",
      " [1991.20394206]\n",
      " [1994.31129975]]\n",
      "Test RMSE = 12.003828284390842\n",
      "Test MAE = 8.956405674073867\n"
     ]
    }
   ],
   "source": [
    "#列出前五筆資料的預測年分、Test RMSE、Test MAE\n",
    "\n",
    "test_pred = mlo.predict(X_test_sd)\n",
    "RMSE = np.sqrt(np.mean(np.square(test_pred - Y_test)))\n",
    "MAE = np.mean(abs(test_pred - Y_test))\n",
    "print(f'列出前五筆資料的預測年分\\n {test_pred[:5]}')\n",
    "print(f'Test RMSE = {RMSE}')\n",
    "print(f'Test MAE = {MAE}')"
   ]
  },
  {
   "cell_type": "markdown",
   "metadata": {},
   "source": [
    "Q3.5 使用下面的 λλ 訓練模型: 0.0001, 0.0005, 0.001, 0.005, 0.01, 0.05, 0.1, 0.5, 1, 2。  \n",
    "記錄每一個 λλ 的Training Loss、Number of Nonzero Weights、Average Weight Size (Mean of Absolute Weight)、Training RMSE、  Test RMSE。將所有的結果列表、畫折線圖、並寫下你對結果的觀察。  "
   ]
  },
  {
   "cell_type": "code",
   "execution_count": 23,
   "metadata": {},
   "outputs": [],
   "source": [
    "Lambda = [0.0001, 0.0005, 0.001, 0.005, 0.01, 0.05, 0.1, 0.5, 1, 2]\n",
    "collection = {}\n",
    "collection['training_loss'] = []\n",
    "collection['non_zero_num'] = []\n",
    "collection['avg_w_size'] = []\n",
    "collection['training_RMSE'] = []\n",
    "collection['testing_RMSE'] = []\n",
    "\n",
    "for l in Lambda:\n",
    "    mlo = mylasso(lamcoef=l)\n",
    "    mlo.fit(X_train_sd, Y_train)\n",
    "    train_pred = mlo.train_pred\n",
    "    test_pred = mlo.predict(X_test_sd)\n",
    "    \n",
    "    collection['training_loss'].append(mlo.min_loss) # 不確定\n",
    "    collection['non_zero_num'].append(len(np.nonzero(mlo.W[1:])[0]))\n",
    "    collection['avg_w_size'].append(np.mean(abs(mlo.W[1:])))\n",
    "    collection['training_RMSE'].append(np.sqrt(np.mean(np.square(Y_train - train_pred))))\n",
    "    collection['testing_RMSE'].append(np.sqrt(np.mean(np.square(Y_test - test_pred ))))\n",
    "#     print(l)"
   ]
  },
  {
   "cell_type": "code",
   "execution_count": 24,
   "metadata": {},
   "outputs": [
    {
     "data": {
      "image/png": "[encoded data removed]",
      "text/plain": [
       "<Figure size 432x288 with 1 Axes>"
      ]
     },
     "metadata": {
      "needs_background": "light"
     },
     "output_type": "display_data"
    },
    {
     "data": {
      "image/png": "[encoded data removed]",
      "text/plain": [
       "<Figure size 432x288 with 1 Axes>"
      ]
     },
     "metadata": {
      "needs_background": "light"
     },
     "output_type": "display_data"
    },
    {
     "data": {
      "image/png": "[encoded data removed]",
      "text/plain": [
       "<Figure size 432x288 with 1 Axes>"
      ]
     },
     "metadata": {
      "needs_background": "light"
     },
     "output_type": "display_data"
    },
    {
     "data": {
      "image/png": "[encoded data removed]",
      "text/plain": [
       "<Figure size 432x288 with 1 Axes>"
      ]
     },
     "metadata": {
      "needs_background": "light"
     },
     "output_type": "display_data"
    },
    {
     "data": {
      "image/png": "[encoded data removed]",
      "text/plain": [
       "<Figure size 432x288 with 1 Axes>"
      ]
     },
     "metadata": {
      "needs_background": "light"
     },
     "output_type": "display_data"
    }
   ],
   "source": [
    "for key in list(collection.keys()):\n",
    "    plt.plot(Lambda, collection[key])\n",
    "    plt.xlabel('λ')\n",
    "    plt.ylabel(key)\n",
    "    plt.show()"
   ]
  },
  {
   "cell_type": "code",
   "execution_count": null,
   "metadata": {},
   "outputs": [],
   "source": []
  }
 ],
 "metadata": {
  "kernelspec": {
   "display_name": "Python 3",
   "language": "python",
   "name": "python3"
  },
  "language_info": {
   "codemirror_mode": {
    "name": "ipython",
    "version": 3
   },
   "file_extension": ".py",
   "mimetype": "text/x-python",
   "name": "python",
   "nbconvert_exporter": "python",
   "pygments_lexer": "ipython3",
   "version": "3.7.4"
  }
 },
 "nbformat": 4,
 "nbformat_minor": 2
}
