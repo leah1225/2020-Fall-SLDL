{
 "cells": [
  {
   "cell_type": "markdown",
   "metadata": {},
   "source": [
    "### 統計學習與深度學習 (Fall, 2020)\n",
    "### Homework 1\n",
    "\n",
    "請將IPYNB檔上傳至COOL作業區。回答作業時建議使用 \"三明治\" 答題法。也就是說，先說明要做什麼，然後列出程式碼與結果，最後說明這些結果的意義。作業自己做。嚴禁抄襲。不接受紙本繳交，不接受遲交。請以英文或中文作答。\n"
   ]
  },
  {
   "cell_type": "markdown",
   "metadata": {},
   "source": [
    "### 第一題 [myknn_regressor]\n",
    "(35%) K-nearest-neighbors (KNN) is a powerful method to construct nonparametric regression models. The goal of this question is to construct your own KNN regressor. To simplify the question, we will use the \"brute-force\" method to find the nearest neighbors. That is, we are not going to use specialized data structures such as the K-D tree to speed up the process. Given a set of $N$ training data points and a pre-defined hyper-parameter $k$, the prediction for a test data point $x_a$ is computed by locating $k$ data points in the training data that are closest to $x_a$. If the labels (i.e., outcome values) of the $k$ nearest neighbors are $\\mathbf{y}_a = \\{y_1, y_2, ..., y_k\\}$, then the prediction is $f(\\mathbf{y}_a)$, where $f$ is a real-valued function. We are going to consider two possible choices of $f$. The first option is  $f(\\mathbf{y}_a) = 1/k \\sum_{i=1}^k y_i.$ This is the \"equal-weight\" case. The other option is to compute the mean after removing outliers. We define outliers as the data points outside of $[Q1 - 1.5 IQR, Q3 + 1.5 IQR]$, where $Q1$ and $Q3$ are the first and third quantiles of $\\mathbf{y}_a$, and $IQR = Q3 - Q1$. Since quantiles and IQR only make sense when there are enough neighbors, we allow the \"remove_outliers\" only if $k>=10$. If $k<10$, use the \"equal_weight\" $f$ even if the user specify the other way. \n",
    "\n",
    "Creat a Python class named myknn_regressor that can make predictions given the training data and hyper-parameters. It should take the $k$ as the hyper-parameter for the number of neighbors. Moreover, the user can select $f$ by passing \"equal_weight\" or \"remove_outliers\" to select one of the two possible cases for $f$. \n",
    "\n",
    "The sample usage should be like the following:\n",
    "```python\n",
    "myknn = myknn_regressor(20, \"remove_outliers\")\n",
    "myknn.fit(X_train, Y_train)\n",
    "ypred = myknn.predict(X_test)\n",
    "```\n",
    "\n",
    "The first line initiates a myknn_regressor object with $k=20$ and selected \"remove_outliers\" for $f$; the second line train the model, and the third line computes prediction. \n",
    "\n",
    "Use the following skeleton to jump-start your implementation. Do not change the parameter definitions for class methods. \n",
    "\n",
    "```python\n",
    "class myknn_regressor():\n",
    "    def __init__(self, n_neighbors = 10, mean_type = \"equal_weight\"):\n",
    "        \"\"\"mean_type can be equal_weight or remove_outliers.\n",
    "                              equal_weight use the same weight for all neighbors.\n",
    "                              remove_outliers remove neighbors out in [Q1 - 1.5 IQR, Q3 - 1.5IQR].\"\"\"\n",
    "        ### Add your code here ###      \n",
    "\n",
    "    def fit(self, x_train, y_train):\n",
    "         ### Add your code here ###\n",
    "\n",
    "    def predict(self, x_test):\n",
    "        \"\"\"use remove_outliers only if k>=10\"\"\"\n",
    "         ### Add your code here ###\n",
    "\n",
    "```\n",
    "\n",
    "\n",
    "You are only allowed to use numpy in your myknn_regressor class. You will receive a zero score if you adopt an existing KNN implementation, such as the one in scikit-learn. The input features and output predictions should be numpy arrays. If there is a tie in selecting neighbors, myknn_regressor should break the tie by choosing the data point that is located closer to the beginning of the training dataset. \n",
    "\n",
    "#### Dataset\n",
    "We are going to use a subset of the \"Million Songs Dataset\" in this question. The dataset has been pre-processed, and the training and the test datasets are stored in a dictionary data structure. You can load the data from *msd_data1.pickle* using pickle.load(). There are four elements in the dictionary: x_train, y_train, x_test, y_test. As indicated by their names, these four elements are training and test data. The label (i.e., $y$) is the year a song was released, and the features are variables that characterize the sound of a song. The goal is to predict the release year given sound features.\n",
    "\n",
    "You can use the following sample code to load and standardize data. \n",
    "```python\n",
    "import pickle\n",
    "from sklearn import preprocessing\n",
    "import numpy as np\n",
    "\n",
    "#Load data\n",
    "with open('msd_data1.pickle', 'rb') as fh1:\n",
    "    msd_data = pickle.load(fh1)\n",
    "\n",
    "doscaling = 1\n",
    "\n",
    "if (doscaling == 1):\n",
    "    xscaler = preprocessing.StandardScaler().fit(msd_data['X_train'])\n",
    "    #standardize feature values\n",
    "    X_train = xscaler.transform(msd_data['X_train'])\n",
    "    X_test = xscaler.transform(msd_data['X_test'])\n",
    "else:\n",
    "    X_train = msd_data['X_train']\n",
    "    X_test = msd_data['X_test']\n",
    "\n",
    "Y_train = msd_data['Y_train']\n",
    "Y_test = msd_data['Y_test']\n",
    "```\n",
    "\n",
    "\n",
    "Answer the following questions:\n",
    "\n",
    "* Q1.1 Create your myknn_regressor based on the skeleton. \n",
    "* Q1.2 Load data from msd_data1.pickle. You should standardize all feature values to have a zero mean and unit variance before training a KNN model.  Make predictions using $k=20$ and \"equal_weight\" $f$. List the RMSE and the first 20 predictions in the test data. \n",
    "* Q1.3 Load data from msd_data1.pickle. Standardized all feature values so that all features have a zero mean and unit variance.  Make predictions using $k=20$ and \"remove_outier\" $f$. List the RMSE and the first 20 predictions in the testing data. \n"
   ]
  },
  {
   "cell_type": "markdown",
   "metadata": {},
   "source": [
    "### 第二題 [Tuning the Hyper-parameter]\n",
    "(20%) Hyper-parameter tuning is an important skill required in many model training tasks. We are going to consider three settings in this question. Use the KNN regressor from klearn.neighbors.KNeighborsRegressor for the first two settings, and your myknn_regressor for the third setting. \n",
    "\n",
    "For each setting, use the data from msd_data1.pickle to train and test the KNN models. Compute the RMSE on the testing dataset using $k=1, 2, 3, 4, 5, 10, 15, 20, 25, 30, 35, 40, 45, 50, 55, 60, 80, 100, 120, 140, 160, 180, 200$. In the first case, all feature values are standardized to have unit variances and zero means. As for the second case, do not apply feature scaling. The third case uses standardized features and adopted myknn_regressor with \"remove_outlier\" $f$ to make predictions. \n",
    "\n",
    "For each setting, plot a curve that shows the relations between $k$ (x-axis) and RMSE (y-axis). If possible, plot the three curves in the same figure to visually inspect their dynamics. Discuss your observations. \n",
    "\n"
   ]
  },
  {
   "cell_type": "markdown",
   "metadata": {},
   "source": [
    "### 第三題 [Lasso Regression]\n",
    "(45%) Lasso Regression是一個加上L1 Regularization的線性模型。給定$n$筆Training Data, $(y_i, \\mathbf{x}_i), i = 1, 2, ..., n$, 其中$y_i$為實數標籤，$\\mathbf{x}_i$為長度為$M$的實特徵向量。我們想要找到一個權重向量$\\mathbf{w}$與$w_0$ (Bias Term)，讓$L$最小化:\n",
    "$$\n",
    "L = \\frac{1}{2n} \\sum_{i=1}^n (y_i - \\mathbf{w}^T \\mathbf{x}_i - w_0)^2 + \\lambda [\\sum_{j=1}^{M} |w_j|]\n",
    "$$\n",
    "\n",
    "注意這裡定義的$L$與投影片中的有些許不同。上面$L$第一項有除以訓練資料量$n$，而投影片中的$L$沒有。$L$中第一項除以資料量的好處是讓Regularization Coefficient的意義，也就是規範模型強度這件事，在不同的訓練資料量下大致相同。也就是如果訓練資料量增大之後，我們可以直接使用在比較小量的訓練資料中調教得到的Regularization Coefficient，或是的在原本的設定附近搜尋即可。\n",
    "\n",
    "另外上面的$L$並沒有Regularized Bias Term。這也是一般常用的設定。如果要Regularize Bias Term，則Loss Function便應寫成\n",
    "$$\n",
    "L' = \\frac{1}{2n} \\sum_{i=1}^n (y_i - \\mathbf{w}^T \\mathbf{x}_i - w_0)^2 + \\lambda [|w_0| + \\sum_{j=1}^{M} |w_j|]\n",
    "$$\n",
    "\n",
    "因為本題$L$的定義與投影片中不同，因此你不能直接使用投影片提供的Coordinate Descent with Soft Thresholding公式實作。你必須要依照新的設定重新推導公式。推導公式以$L$為主，但實作時需要能處理$L'$的狀況。\n",
    "\n",
    "本題的任務是實作一個名為mylasso的Class，這個Class可以用來訓練一個Lasso Regression模型以及用訓練好的模型做預測。\n",
    "\n",
    "```python\n",
    "mlo = mylasso(lamcoef = 0.1)\n",
    "mlo.fit(x_train, y_train)\n",
    "ypred = mlo.predict(x_test)\n",
    "```\n",
    "\n",
    "下面是mylasso的骨架，你應該由這裡出發，建構自己的mylasso。\n",
    "\n",
    "```python\n",
    "import numpy as np\n",
    "\n",
    "class mylasso():\n",
    "    def __init__(self, lamcoef = 0.1, max_iter=1000, tol=1e-6, const_regu = False):\n",
    "        \"\"\"lamcoef: the regularization coefficient\n",
    "           max_iter: maximum number of iteration for model training\n",
    "           tol: tolerance for the stopping criteria for model training\n",
    "           const_regu: whether the constant term should be regularized, default to False\n",
    "           \"\"\"\n",
    "        ### Add your code here ###\n",
    "\n",
    "    def fit(self, x_train, y_train, winit = \"ridge\", keep_traindata = True, verbose = False):\n",
    "        \"\"\"Fit a Lasso model\n",
    "           x_train: a numpy matrix that contains training features\n",
    "           y_train: a numpy matrix that contains the label\n",
    "           winit: how weights are initialized, default to \"ridge\", ridge regression\n",
    "           keep_traindata: whether the object is going to keep training data after the training process completed\n",
    "           verbose: output a lot of message\"\"\"\n",
    "        ### Add your code here ###\n",
    "        \n",
    "    def predict(self, x_test):\n",
    "        \"\"\"Make prediction using trained model\"\"\"\n",
    "        \n",
    "        ### Add your code here ###\n",
    "\n",
    "```"
   ]
  },
  {
   "cell_type": "markdown",
   "metadata": {},
   "source": [
    "#### 注意事項:\n",
    "* 請不要改動mylasso骨架中各方法(Method)的傳入參數定義。這可以讓每個人的實作一致，方便助教批改。\n",
    "* 我們假設傳入的x_train是一個$n \\times M$的Numpy Array，y_train是一個一維的Numpy Array，長度為$n$。x_train中沒有一個全為1的Column，也就是說模型要自己加上常數項。\n",
    "* 一般而言，Bias Term不受L1 Regularization限制，因此const_regu預設值為False。你的程式碼必須要能處理Bias Term受L1 Regularization限制或不受L1 Regularization限制兩種狀況。也就是要能處理Loss為$L$或$L'$的狀況。\n",
    "* lamcoef對應到題目中$L$裡的$\\lambda$。預設值是0.1。\n",
    "* 一般來說，在使用Coordiniate Descent with Soft Thresholding的過程。我們會固定個維度更新的順序，常常都是由維度0開始一路往下做，然後再重頭循環。維度的順序在線性模型學習通常沒有太大的影響。每次一個維度更新之後，下一個維度在計算時必須使用\"所有最新\"的權重。\n",
    "* Coordinate Descent with Soft Thresholding遞迴的最大次數由max_iter控制。超過最大次數即停止參數更新。遞迴一次的意思是使用Coordinate Descent with Soft Thresholding更新過所有的參數。\n",
    "* 每次遞迴之後計算L，如果跟上一個L的改變幅度小於tol，則停止遞迴，回傳過程中最低的L所對應到的權重向量。\n",
    "* 在開始利用Coordinate Descent with Soft Thresholding更新$\\mathbf{w}$之前，應先使用Ridge Regression計算出一個初始的$\\mathbf{w}$。由這個初始值開始Coordinate Descent with Soft Thresholding更新。細節(如L2 Regularization應設多少之類的)請自行設計。\n",
    "* 如果keep_traindata為真，那mylasso物件應該保留一份Training Data在物件的Attribute內。否則不要保留Training Data。\n",
    "* mylasso的實作應該只會用到numpy以及基本的Python函式。你不應該使用現成的Lasso或Ridge Regression函式(如sklearn.linear_model.Lasso)。違反這項規定本題以零分計。\n",
    "* 你的實作應該盡量\"向量化\"，也就是盡量用矩陣運算取代迴圈。向量化有助於計算速度的提升。"
   ]
  },
  {
   "cell_type": "markdown",
   "metadata": {},
   "source": [
    "#### 資料集\n",
    "本題會使用\"Million Songs Dataset\"的一個子集。請使用pickle.load()讀取*msd_data1.pickle*以取得預先整理好的資料。這個pickle檔內含一個Dictionary，裡面的四個元素的鍵值分別為 X_train, Y_train, X_test, Y_test，分別對應到訓練特徵、訓練標籤、測試特徵、測試標籤。其中標籤是一首歌發行的年份，而特徵是這首歌的音波特性。我們的目標是預測歌曲的發行年分。這個資料集的特徵值沒有標準化，你應該先把特徵值標準化之後再進行模型的訓練與測試。\n",
    "\n",
    "以下是讀取資料與標準化特徵的範例程式，你可以直接使用這個程式片段:\n",
    "\n",
    "```python\n",
    "#load the dataset, and create normalized and raw features. \n",
    "import pickle\n",
    "from sklearn import preprocessing\n",
    "import numpy as np\n",
    "np.set_printoptions(suppress=True)\n",
    "\n",
    "#Load data\n",
    "with open('msd_data1.pickle', 'rb') as fh1:\n",
    "    msd_data = pickle.load(fh1)\n",
    "\n",
    "xscaler = preprocessing.StandardScaler().fit(msd_data['X_train'])\n",
    "#standardize feature values\n",
    "X_train_sd = xscaler.transform(msd_data['X_train'])\n",
    "X_test_sd = xscaler.transform(msd_data['X_test'])\n",
    "\n",
    "#outcome values\n",
    "Y_train = msd_data['Y_train']\n",
    "Y_test = msd_data['Y_test']\n",
    "\n",
    "```"
   ]
  },
  {
   "cell_type": "markdown",
   "metadata": {},
   "source": [
    "### 回答下面問題: \n",
    "\n",
    "* Q3.1 基於本題給的$L$，推導新的Coordinate Descent with Soft Thresholding公式 \n",
    "* Q3.2 使用給定個骨架建構你的mylasso。\n",
    "* Q3.3 載入資料集，並且使用訓練資料計算Lasso Regression的權重，設定lamcoef = 0.1，其他參數使用預設值。列出Training Loss、Root Mean Squared Error (RMSE) in Training Data、Mean Absolute Error (MAE) in Training Data、Intercept (截距項)、Feature Weights (除了截距項的所有權重)、非零權重的個數。為了讓結果容易閱讀，請使用`np.set_printoptions(suppress=True)`關閉Scientific Notation。\n",
    "* Q3.4 使用上一小題的模型計算測試資料的預測值。列出前五筆資料的預測年分、Test RMSE、Test MAE。\n",
    "* Q3.5 使用下面的$\\lambda$訓練模型: 0.0001, 0.0005, 0.001, 0.005, 0.01, 0.05, 0.1, 0.5, 1, 2。記錄每一個$\\lambda$的Training Loss、Number of Nonzero Weights、Average Weight Size (Mean of Absolute Weight)、Training RMSE、Test RMSE。將所有的結果列表、畫折線圖、並寫下你對結果的觀察。\n"
   ]
  },
  {
   "cell_type": "code",
   "execution_count": 1,
   "metadata": {
    "ExecuteTime": {
     "end_time": "2020-10-07T15:47:36.465164Z",
     "start_time": "2020-10-07T15:47:35.427825Z"
    }
   },
   "outputs": [],
   "source": [
    "#load the dataset, and create normalized and raw features. \n",
    "import pickle\n",
    "from sklearn import preprocessing\n",
    "import numpy as np\n",
    "import matplotlib.pyplot as plt\n",
    "np.set_printoptions(suppress=True)\n",
    "\n",
    "#Load data\n",
    "with open('msd_data1.pickle', 'rb') as fh1:\n",
    "    msd_data = pickle.load(fh1)\n",
    "\n",
    "xscaler = preprocessing.StandardScaler().fit(msd_data['X_train'])\n",
    "#standardize feature values\n",
    "X_train_sd = xscaler.transform(msd_data['X_train'])\n",
    "X_test_sd = xscaler.transform(msd_data['X_test'])\n",
    "\n",
    "#outcome values\n",
    "Y_train = msd_data['Y_train']\n",
    "Y_test = msd_data['Y_test']"
   ]
  },
  {
   "cell_type": "markdown",
   "metadata": {},
   "source": [
    "Q3.2 使用給定個骨架建構你的mylasso。"
   ]
  },
  {
   "cell_type": "code",
   "execution_count": 2,
   "metadata": {
    "ExecuteTime": {
     "end_time": "2020-10-07T18:10:30.901036Z",
     "start_time": "2020-10-07T18:10:30.885391Z"
    }
   },
   "outputs": [],
   "source": [
    "class mylasso():\n",
    "    def __init__(self, lamcoef = 0.1, max_iter=1000, tol=1e-6, const_regu = False):\n",
    "        \"\"\"lamcoef: the regularization coefficient\n",
    "           max_iter: maximum number of iteration for model training\n",
    "           tol: tolerance for the stopping criteria for model training\n",
    "           const_regu: whether the constant term should be regularized, default to False\n",
    "           \"\"\"\n",
    "        self.lamcoef = lamcoef\n",
    "        self.max_iter = max_iter\n",
    "        self.tol = tol\n",
    "        self.const_regu = const_regu\n",
    "\n",
    "    def fit(self, x_train, y_train, winit = \"ridge\", keep_traindata = True, verbose = False):\n",
    "        \"\"\"Fit a Lasso model\n",
    "           x_train: a numpy matrix that contains training features\n",
    "           y_train: a numpy matrix that contains the label\n",
    "           winit: how weights are initialized, default to \"ridge\", ridge regression\n",
    "           keep_traindata: whether the object is going to keep training data after the training process completed\n",
    "           verbose: output a lot of message\"\"\"\n",
    "        m, n = x_train.shape\n",
    "        X = np.hstack((np.ones((m,1)), x_train))\n",
    "        y = y_train.reshape(-1,1)\n",
    "        self.W = np.zeros((X.shape[1], 1))\n",
    "        cost_history = np.zeros((self.max_iter, ))\n",
    "        W_history = []\n",
    "        if keep_traindata:\n",
    "            self.x_train = x_train\n",
    "\n",
    "        for i in range(1, len(cost_history)+1): #self.max_iter+1\n",
    "            y_hat = X.dot(self.W)\n",
    "            cost = np.square(y - y_hat).sum() / (2*m)\n",
    "\n",
    "            if abs(cost_history[i-1]- cost) < self.tol:\n",
    "                break\n",
    "            else:\n",
    "                gradient = self.compute_gradient(X, y_hat, y, m, self.const_regu).reshape(-1,1)\n",
    "                cost_history[i-1] = cost\n",
    "                W_history.append(self.W)\n",
    "                self.W  -= 0.1 * gradient #不知道learning rate\n",
    "        \n",
    "        self.min_loss = cost_history.min()\n",
    "        self.train_pred = X.dot(self.W) #這邊是最後的 不是最好的\n",
    "        #np.argmin(cost_history) <-最好的w的index\n",
    "        \n",
    "        \n",
    "    def sgn(self, W):\n",
    "        W = np.where(W > 0, 1, \n",
    "                     (np.where(W < 0, -1, 0)))\n",
    "        return W\n",
    "        \n",
    "    \n",
    "    def compute_gradient(self, X, y_hat, y, m, const_regu):#公式對不對\n",
    "        if const_regu == False:\n",
    "            return 1/m * np.sum((y_hat - y) * X, axis=0) + self.lamcoef*(self.sgn(self.W)).reshape(1,-1) \n",
    "        else:\n",
    "            return 1/m * np.sum((y_hat - y) * X, axis=0) + self.lamcoef*(self.sgn(self.W[0]) + self.sgn(self.W)).reshape(1,-1) \n",
    "\n",
    "    \n",
    "    def predict(self, x_test):\n",
    "        X = x_test\n",
    "        m, n = X.shape\n",
    "        X = np.hstack((np.ones((m, 1)), X))\n",
    "        y_hat = X.dot(self.W)\n",
    "        return y_hat"
   ]
  },
  {
   "cell_type": "markdown",
   "metadata": {},
   "source": [
    "Q3.3 載入資料集，並且使用訓練資料計算Lasso Regression的權重，設定lamcoef = 0.1，其他參數使用預設值。列出Training Loss、Root Mean Squared Error (RMSE) in Training Data、Mean Absolute Error (MAE) in Training Data、Intercept (截距項)、Feature Weights (除了截距項的所有權重)、非零權重的個數。為了讓結果容易閱讀，請使用np.set_printoptions(suppress=True)關閉Scientific Notation。"
   ]
  },
  {
   "cell_type": "code",
   "execution_count": 3,
   "metadata": {
    "ExecuteTime": {
     "end_time": "2020-10-07T18:10:33.651203Z",
     "start_time": "2020-10-07T18:10:31.092720Z"
    },
    "scrolled": true
   },
   "outputs": [
    {
     "name": "stdout",
     "output_type": "stream",
     "text": [
      "RMSE = 12.10197651453905\n",
      "MAE = 9.08706038769043\n",
      "training_loss = 47.22613467796938\n",
      "intercept = [1998.166]\n",
      "weight = [[ 4.65133186]\n",
      " [-2.45713321]\n",
      " [-1.06495739]\n",
      " [-0.00989058]\n",
      " [-0.34205069]\n",
      " [-2.94285654]\n",
      " [ 0.00465495]\n",
      " [-0.40544985]\n",
      " [-0.42651959]\n",
      " [ 0.01321629]\n",
      " [-0.22591014]\n",
      " [-0.39733025]\n",
      " [ 0.50310887]\n",
      " [-0.00232413]\n",
      " [-0.33650262]\n",
      " [ 0.61610985]\n",
      " [ 0.15456258]\n",
      " [ 0.42932127]\n",
      " [ 0.43433942]\n",
      " [ 1.12043221]\n",
      " [ 0.40714716]\n",
      " [ 0.01793295]\n",
      " [ 1.77034805]\n",
      " [ 0.01496495]\n",
      " [-0.16598804]\n",
      " [ 0.07551636]\n",
      " [ 0.65782559]\n",
      " [ 0.01290361]\n",
      " [ 0.15420818]\n",
      " [-0.00406205]\n",
      " [-0.21552989]\n",
      " [-0.22405996]\n",
      " [-0.01773452]\n",
      " [-0.00095279]\n",
      " [-0.01827308]\n",
      " [-0.26263582]\n",
      " [-0.00352582]\n",
      " [ 0.28997364]\n",
      " [ 0.35109283]\n",
      " [-0.00074452]\n",
      " [-0.25980011]\n",
      " [-0.14425307]\n",
      " [-0.00986655]\n",
      " [ 0.03394905]\n",
      " [-0.04253977]\n",
      " [ 0.00775107]\n",
      " [ 0.00511555]\n",
      " [-0.17918809]\n",
      " [-0.01518791]\n",
      " [ 0.06499833]\n",
      " [ 0.27133869]\n",
      " [ 0.00974284]\n",
      " [ 0.0045518 ]\n",
      " [ 0.01246661]\n",
      " [-0.00151337]\n",
      " [ 0.01277353]\n",
      " [-0.63373543]\n",
      " [ 0.23969999]\n",
      " [-0.19294981]\n",
      " [ 0.00608816]\n",
      " [-0.18766008]\n",
      " [ 0.01518878]\n",
      " [-0.13703711]\n",
      " [ 0.0643857 ]\n",
      " [-0.26831109]\n",
      " [-0.00767483]\n",
      " [ 0.00952343]\n",
      " [-0.00878888]\n",
      " [-0.03558387]\n",
      " [-0.00340772]\n",
      " [-0.19549505]\n",
      " [ 0.01210043]\n",
      " [ 0.21052573]\n",
      " [ 0.25076152]\n",
      " [ 0.1222013 ]\n",
      " [ 0.00440332]\n",
      " [ 0.00207791]\n",
      " [-0.52978218]\n",
      " [-0.0165925 ]\n",
      " [-0.00749446]\n",
      " [ 0.18041885]\n",
      " [ 0.0274931 ]\n",
      " [ 0.25237902]\n",
      " [ 0.192649  ]\n",
      " [ 0.36911686]\n",
      " [ 0.00784787]\n",
      " [ 0.00295509]\n",
      " [-0.29052637]\n",
      " [-0.00515035]\n",
      " [ 0.00120242]]\n",
      "number of non zero weights 90\n"
     ]
    }
   ],
   "source": [
    "np.set_printoptions(suppress=True)\n",
    "mlo = mylasso()\n",
    "mlo.fit(X_train_sd, Y_train)\n",
    "\n",
    "train_pred = mlo.train_pred\n",
    "RMSE = np.sqrt(np.mean(np.square(Y_train - train_pred)))\n",
    "MAE = np.mean(abs(Y_train - train_pred))\n",
    "training_loss = mlo.min_loss #不確定是哪個loss\n",
    "non_zero_num = len(np.nonzero(mlo.W[1:])[0])\n",
    "print(f'RMSE = {RMSE}')\n",
    "print(f'MAE = {MAE}')\n",
    "print(f'training_loss = {training_loss}')\n",
    "print(f'intercept = {mlo.W[0]}')\n",
    "print(f'weight = {mlo.W[1:]}')\n",
    "print(f'number of non zero weights {non_zero_num}')"
   ]
  },
  {
   "cell_type": "markdown",
   "metadata": {},
   "source": [
    "Q3.4 使用上一小題的模型計算測試資料的預測值。列出前五筆資料的預測年分、Test RMSE、Test MAE。  "
   ]
  },
  {
   "cell_type": "code",
   "execution_count": 4,
   "metadata": {
    "ExecuteTime": {
     "end_time": "2020-10-07T18:10:47.936060Z",
     "start_time": "2020-10-07T18:10:47.810352Z"
    }
   },
   "outputs": [
    {
     "name": "stdout",
     "output_type": "stream",
     "text": [
      "列出前五筆資料的預測年分\n",
      " [[1991.86102952]\n",
      " [1998.98411296]\n",
      " [2001.62868406]\n",
      " [1991.2089472 ]\n",
      " [1994.28550995]]\n",
      "Test RMSE = 12.004071202668436\n",
      "Test MAE = 8.956685155427051\n"
     ]
    }
   ],
   "source": [
    "#列出前五筆資料的預測年分、Test RMSE、Test MAE\n",
    "\n",
    "test_pred = mlo.predict(X_test_sd)\n",
    "RMSE = np.sqrt(np.mean(np.square(test_pred - Y_test)))\n",
    "MAE = np.mean(abs(test_pred - Y_test))\n",
    "print(f'列出前五筆資料的預測年分\\n {test_pred[:5]}')\n",
    "print(f'Test RMSE = {RMSE}')\n",
    "print(f'Test MAE = {MAE}')"
   ]
  },
  {
   "cell_type": "markdown",
   "metadata": {
    "ExecuteTime": {
     "end_time": "2020-10-07T17:28:58.064870Z",
     "start_time": "2020-10-07T17:28:58.045366Z"
    }
   },
   "source": [
    "Q3.5 使用下面的 λλ 訓練模型: 0.0001, 0.0005, 0.001, 0.005, 0.01, 0.05, 0.1, 0.5, 1, 2。  \n",
    "記錄每一個 λλ 的Training Loss、Number of Nonzero Weights、Average Weight Size (Mean of Absolute Weight)、Training RMSE、  Test RMSE。將所有的結果列表、畫折線圖、並寫下你對結果的觀察。  "
   ]
  },
  {
   "cell_type": "code",
   "execution_count": 5,
   "metadata": {
    "ExecuteTime": {
     "end_time": "2020-10-07T18:11:41.719980Z",
     "start_time": "2020-10-07T18:11:15.470583Z"
    }
   },
   "outputs": [],
   "source": [
    "Lambda = [0.0001, 0.0005, 0.001, 0.005, 0.01, 0.05, 0.1, 0.5, 1, 2]\n",
    "collection = {}\n",
    "collection['training_loss'] = []\n",
    "collection['non_zero_num'] = []\n",
    "collection['avg_w_size'] = []\n",
    "collection['training_RMSE'] = []\n",
    "collection['testing_RMSE'] = []\n",
    "\n",
    "for l in Lambda:\n",
    "    mlo = mylasso(lamcoef=l)\n",
    "    mlo.fit(X_train_sd, Y_train)\n",
    "    train_pred = mlo.train_pred\n",
    "    test_pred = mlo.predict(X_test_sd)\n",
    "    \n",
    "    collection['training_loss'].append(mlo.min_loss) # 不確定\n",
    "    collection['non_zero_num'].append(len(np.nonzero(mlo.W[1:])[0]))\n",
    "    collection['avg_w_size'].append(np.mean(abs(mlo.W[1:])))\n",
    "    collection['training_RMSE'].append(np.sqrt(np.mean(np.square(Y_train - train_pred))))\n",
    "    collection['testing_RMSE'].append(np.sqrt(np.mean(np.square(Y_test - test_pred ))))\n",
    "#     print(l)"
   ]
  },
  {
   "cell_type": "code",
   "execution_count": 6,
   "metadata": {
    "ExecuteTime": {
     "end_time": "2020-10-07T18:13:03.171125Z",
     "start_time": "2020-10-07T18:13:01.836773Z"
    }
   },
   "outputs": [
    {
     "data": {
      "image/png": "[encoded data removed]",
      "text/plain": [
       "<Figure size 432x288 with 1 Axes>"
      ]
     },
     "metadata": {
      "needs_background": "light"
     },
     "output_type": "display_data"
    },
    {
     "data": {
      "image/png": "[encoded data removed]",
      "text/plain": [
       "<Figure size 432x288 with 1 Axes>"
      ]
     },
     "metadata": {
      "needs_background": "light"
     },
     "output_type": "display_data"
    },
    {
     "data": {
      "image/png": "[encoded data removed]",
      "text/plain": [
       "<Figure size 432x288 with 1 Axes>"
      ]
     },
     "metadata": {
      "needs_background": "light"
     },
     "output_type": "display_data"
    },
    {
     "data": {
      "image/png": "[encoded data removed]",
      "text/plain": [
       "<Figure size 432x288 with 1 Axes>"
      ]
     },
     "metadata": {
      "needs_background": "light"
     },
     "output_type": "display_data"
    },
    {
     "data": {
      "image/png": "[encoded data removed]",
      "text/plain": [
       "<Figure size 432x288 with 1 Axes>"
      ]
     },
     "metadata": {
      "needs_background": "light"
     },
     "output_type": "display_data"
    }
   ],
   "source": [
    "for key in list(collection.keys()):\n",
    "    plt.plot(Lambda, collection[key])\n",
    "    plt.xlabel('λ')\n",
    "    plt.ylabel(key)\n",
    "    plt.show()"
   ]
  },
  {
   "cell_type": "code",
   "execution_count": null,
   "metadata": {},
   "outputs": [],
   "source": []
  }
 ],
 "metadata": {
  "hide_input": false,
  "kernelspec": {
   "display_name": "Python 3",
   "language": "python",
   "name": "python3"
  },
  "language_info": {
   "codemirror_mode": {
    "name": "ipython",
    "version": 3
   },
   "file_extension": ".py",
   "mimetype": "text/x-python",
   "name": "python",
   "nbconvert_exporter": "python",
   "pygments_lexer": "ipython3",
   "version": "3.7.4"
  },
  "toc": {
   "base_numbering": 1,
   "nav_menu": {},
   "number_sections": true,
   "sideBar": true,
   "skip_h1_title": false,
   "title_cell": "Table of Contents",
   "title_sidebar": "Contents",
   "toc_cell": false,
   "toc_position": {},
   "toc_section_display": true,
   "toc_window_display": false
  },
  "varInspector": {
   "cols": {
    "lenName": 16,
    "lenType": 16,
    "lenVar": 40
   },
   "kernels_config": {
    "python": {
     "delete_cmd_postfix": "",
     "delete_cmd_prefix": "del ",
     "library": "var_list.py",
     "varRefreshCmd": "print(var_dic_list())"
    },
    "r": {
     "delete_cmd_postfix": ") ",
     "delete_cmd_prefix": "rm(",
     "library": "var_list.r",
     "varRefreshCmd": "cat(var_dic_list()) "
    }
   },
   "types_to_exclude": [
    "module",
    "function",
    "builtin_function_or_method",
    "instance",
    "_Feature"
   ],
   "window_display": false
  }
 },
 "nbformat": 4,
 "nbformat_minor": 4
}
